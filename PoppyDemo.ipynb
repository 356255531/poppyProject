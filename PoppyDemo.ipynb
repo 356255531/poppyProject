{
 "cells": [
  {
   "cell_type": "markdown",
   "metadata": {},
   "source": [
    "Just make some demos"
   ]
  },
  {
   "cell_type": "code",
   "execution_count": null,
   "metadata": {
    "collapsed": false
   },
   "outputs": [],
   "source": [
    "from poppy.creatures import PoppyTorso\n",
    "import numpy as np\n",
    "import time\n",
    "\n",
    "poppy = PoppyTorso(simulator='vrep')"
   ]
  },
  {
   "cell_type": "code",
   "execution_count": null,
   "metadata": {
    "collapsed": false
   },
   "outputs": [],
   "source": [
    "poppy.motors"
   ]
  },
  {
   "cell_type": "code",
   "execution_count": null,
   "metadata": {
    "collapsed": true
   },
   "outputs": [],
   "source": []
  },
  {
   "cell_type": "code",
   "execution_count": 2,
   "metadata": {
    "collapsed": false
   },
   "outputs": [],
   "source": [
    "poppy.reset_simulation()\n",
    "io = poppy._controllers[0].io\n",
    "name = 'cube'\n",
    "position = [0, -0.15, 0.8] # X, Y, Z\n",
    "sizes = [0.01, 0.01, 0.01] # in meters\n",
    "mass = 0 # in kg\n",
    "io.add_cube(name, position, sizes, mass)\n",
    "\n"
   ]
  },
  {
   "cell_type": "code",
   "execution_count": 5,
   "metadata": {
    "collapsed": false
   },
   "outputs": [
    {
     "ename": "NameError",
     "evalue": "name 'np' is not defined",
     "output_type": "error",
     "traceback": [
      "\u001b[0;31m---------------------------------------------------------------------------\u001b[0m",
      "\u001b[0;31mNameError\u001b[0m                                 Traceback (most recent call last)",
      "\u001b[0;32m<ipython-input-5-39a8a4e3fe2d>\u001b[0m in \u001b[0;36m<module>\u001b[0;34m()\u001b[0m\n\u001b[1;32m      8\u001b[0m     \u001b[0;32mwhile\u001b[0m \u001b[0mtime\u001b[0m\u001b[0;34m.\u001b[0m\u001b[0mtime\u001b[0m\u001b[0;34m(\u001b[0m\u001b[0;34m)\u001b[0m \u001b[0;34m-\u001b[0m \u001b[0mt\u001b[0m \u001b[0;34m<\u001b[0m \u001b[0;36m0.0001\u001b[0m\u001b[0;34m:\u001b[0m\u001b[0;34m\u001b[0m\u001b[0m\n\u001b[1;32m      9\u001b[0m         \u001b[0;36m1\u001b[0m\u001b[0;34m\u001b[0m\u001b[0m\n\u001b[0;32m---> 10\u001b[0;31m     \u001b[0mx\u001b[0m \u001b[0;34m=\u001b[0m \u001b[0mnp\u001b[0m\u001b[0;34m.\u001b[0m\u001b[0msin\u001b[0m\u001b[0;34m(\u001b[0m\u001b[0;36m2\u001b[0m \u001b[0;34m*\u001b[0m \u001b[0;36m3.14159\u001b[0m \u001b[0;34m*\u001b[0m \u001b[0mtime\u001b[0m\u001b[0;34m.\u001b[0m\u001b[0mtime\u001b[0m\u001b[0;34m(\u001b[0m\u001b[0;34m)\u001b[0m \u001b[0;34m*\u001b[0m \u001b[0;36m0.1\u001b[0m\u001b[0;34m)\u001b[0m \u001b[0;34m*\u001b[0m \u001b[0;36m0.5\u001b[0m\u001b[0;34m\u001b[0m\u001b[0m\n\u001b[0m\u001b[1;32m     11\u001b[0m     \u001b[0mz\u001b[0m \u001b[0;34m=\u001b[0m \u001b[0mnp\u001b[0m\u001b[0;34m.\u001b[0m\u001b[0mcos\u001b[0m\u001b[0;34m(\u001b[0m\u001b[0;36m2\u001b[0m \u001b[0;34m*\u001b[0m \u001b[0;36m3.14159\u001b[0m \u001b[0;34m*\u001b[0m \u001b[0mtime\u001b[0m\u001b[0;34m.\u001b[0m\u001b[0mtime\u001b[0m\u001b[0;34m(\u001b[0m\u001b[0;34m)\u001b[0m \u001b[0;34m*\u001b[0m \u001b[0;36m0.1\u001b[0m\u001b[0;34m)\u001b[0m \u001b[0;34m*\u001b[0m \u001b[0;36m0.5\u001b[0m\u001b[0;34m\u001b[0m\u001b[0m\n\u001b[1;32m     12\u001b[0m     \u001b[0mio\u001b[0m\u001b[0;34m.\u001b[0m\u001b[0mset_object_position\u001b[0m\u001b[0;34m(\u001b[0m\u001b[0;34m'cube'\u001b[0m\u001b[0;34m,\u001b[0m \u001b[0mposition\u001b[0m\u001b[0;34m=\u001b[0m\u001b[0;34m[\u001b[0m\u001b[0mx\u001b[0m\u001b[0;34m,\u001b[0m \u001b[0;34m-\u001b[0m\u001b[0;36m2\u001b[0m\u001b[0;34m,\u001b[0m \u001b[0mz\u001b[0m \u001b[0;34m+\u001b[0m \u001b[0;36m1\u001b[0m\u001b[0;34m]\u001b[0m\u001b[0;34m)\u001b[0m\u001b[0;34m\u001b[0m\u001b[0m\n",
      "\u001b[0;31mNameError\u001b[0m: name 'np' is not defined"
     ]
    }
   ],
   "source": [
    "# draw circle\n",
    "\n",
    "io.get_object_position('cube')\n",
    "io.set_object_position('cube', position=[0, -0.1, 0])\n",
    "while 1:\n",
    "    t = time.time()\n",
    "    while time.time() - t < 0.0001:\n",
    "        1\n",
    "    x = np.sin(2 * 3.14159 * time.time() * 0.1) * 0.5\n",
    "    z = np.cos(2 * 3.14159 * time.time() * 0.1) * 0.5\n",
    "    io.set_object_position('cube', position=[x, -2, z + 1])"
   ]
  },
  {
   "cell_type": "code",
   "execution_count": 18,
   "metadata": {
    "collapsed": false
   },
   "outputs": [
    {
     "name": "stdout",
     "output_type": "stream",
     "text": [
      "29.8420059357\n",
      "27.4671505489\n",
      "24.5989510135\n",
      "21.4910462618\n",
      "18.5932165653\n",
      "15.231466425\n",
      "11.6688061384\n",
      "8.12598361612\n",
      "4.53174279924\n",
      "1.10454248022\n",
      "2.55319977883\n",
      "7.22877069907\n",
      "10.7143803634\n",
      "14.0329267746\n",
      "17.4610245655\n",
      "20.768761737\n",
      "23.8316686464\n",
      "26.5518144642\n",
      "28.6721023728\n",
      "31.3818975506\n",
      "33.5770770822\n",
      "35.4496686738\n",
      "37.2995139304\n",
      "The object can't be seen\n",
      "False\n",
      "38.8527569063\n",
      "The object can't be seen\n",
      "False\n",
      "40.1268759129\n",
      "The object can't be seen\n",
      "False\n",
      "41.4620079066\n",
      "The object can't be seen\n",
      "False\n",
      "42.5623601393\n",
      "The object can't be seen\n",
      "False\n",
      "43.4493506006\n",
      "The object can't be seen\n",
      "False\n",
      "44.2889368628\n",
      "The object can't be seen\n",
      "False\n",
      "44.9752253386\n",
      "The object can't be seen\n",
      "False\n",
      "45.48968217\n",
      "The object can't be seen\n",
      "False\n"
     ]
    },
    {
     "ename": "KeyboardInterrupt",
     "evalue": "",
     "output_type": "error",
     "traceback": [
      "\u001b[0;31m---------------------------------------------------------------------------\u001b[0m",
      "\u001b[0;31mKeyboardInterrupt\u001b[0m                         Traceback (most recent call last)",
      "\u001b[0;32m<ipython-input-18-38fce55d4f2b>\u001b[0m in \u001b[0;36m<module>\u001b[0;34m()\u001b[0m\n\u001b[1;32m      5\u001b[0m     \u001b[0mx\u001b[0m \u001b[0;34m=\u001b[0m \u001b[0mnp\u001b[0m\u001b[0;34m.\u001b[0m\u001b[0msin\u001b[0m\u001b[0;34m(\u001b[0m\u001b[0;36m2\u001b[0m \u001b[0;34m*\u001b[0m \u001b[0;36m3.14159\u001b[0m \u001b[0;34m*\u001b[0m \u001b[0mtime\u001b[0m\u001b[0;34m.\u001b[0m\u001b[0mtime\u001b[0m\u001b[0;34m(\u001b[0m\u001b[0;34m)\u001b[0m \u001b[0;34m*\u001b[0m \u001b[0;36m0.1\u001b[0m\u001b[0;34m)\u001b[0m\u001b[0;34m\u001b[0m\u001b[0m\n\u001b[1;32m      6\u001b[0m     \u001b[0mz\u001b[0m \u001b[0;34m=\u001b[0m \u001b[0mnp\u001b[0m\u001b[0;34m.\u001b[0m\u001b[0mcos\u001b[0m\u001b[0;34m(\u001b[0m\u001b[0;36m2\u001b[0m \u001b[0;34m*\u001b[0m \u001b[0;36m3.14159\u001b[0m \u001b[0;34m*\u001b[0m \u001b[0mtime\u001b[0m\u001b[0;34m.\u001b[0m\u001b[0mtime\u001b[0m\u001b[0;34m(\u001b[0m\u001b[0;34m)\u001b[0m \u001b[0;34m*\u001b[0m \u001b[0;36m0.1\u001b[0m\u001b[0;34m)\u001b[0m \u001b[0;34m*\u001b[0m \u001b[0;36m0.5\u001b[0m\u001b[0;34m\u001b[0m\u001b[0m\n\u001b[0;32m----> 7\u001b[0;31m     \u001b[0mio\u001b[0m\u001b[0;34m.\u001b[0m\u001b[0mset_object_position\u001b[0m\u001b[0;34m(\u001b[0m\u001b[0;34m'cube'\u001b[0m\u001b[0;34m,\u001b[0m \u001b[0mposition\u001b[0m\u001b[0;34m=\u001b[0m\u001b[0;34m[\u001b[0m\u001b[0mx\u001b[0m\u001b[0;34m,\u001b[0m \u001b[0;34m-\u001b[0m\u001b[0;36m1\u001b[0m\u001b[0;34m,\u001b[0m \u001b[0;36m1\u001b[0m\u001b[0;34m]\u001b[0m\u001b[0;34m)\u001b[0m\u001b[0;34m\u001b[0m\u001b[0m\n\u001b[0m\u001b[1;32m      8\u001b[0m \u001b[0;34m\u001b[0m\u001b[0m\n\u001b[1;32m      9\u001b[0m     \u001b[0;32mif\u001b[0m \u001b[0mtime\u001b[0m\u001b[0;34m.\u001b[0m\u001b[0mtime\u001b[0m\u001b[0;34m(\u001b[0m\u001b[0;34m)\u001b[0m \u001b[0;34m-\u001b[0m \u001b[0mt\u001b[0m \u001b[0;34m>\u001b[0m \u001b[0;36m0.1\u001b[0m\u001b[0;34m:\u001b[0m\u001b[0;34m\u001b[0m\u001b[0m\n",
      "\u001b[0;32m/Library/Frameworks/Python.framework/Versions/2.7/lib/python2.7/site-packages/pypot/vrep/io.pyc\u001b[0m in \u001b[0;36mset_object_position\u001b[0;34m(self, object_name, position)\u001b[0m\n\u001b[1;32m    183\u001b[0m         return self.call_remote_api('simxSetObjectPosition',\n\u001b[1;32m    184\u001b[0m                                     \u001b[0mh\u001b[0m\u001b[0;34m,\u001b[0m \u001b[0;34m-\u001b[0m\u001b[0;36m1\u001b[0m\u001b[0;34m,\u001b[0m \u001b[0mposition\u001b[0m\u001b[0;34m,\u001b[0m\u001b[0;34m\u001b[0m\u001b[0m\n\u001b[0;32m--> 185\u001b[0;31m                                     sending=True)\n\u001b[0m\u001b[1;32m    186\u001b[0m \u001b[0;34m\u001b[0m\u001b[0m\n\u001b[1;32m    187\u001b[0m     \u001b[0;32mdef\u001b[0m \u001b[0mget_object_orientation\u001b[0m\u001b[0;34m(\u001b[0m\u001b[0mself\u001b[0m\u001b[0;34m,\u001b[0m \u001b[0mobject_name\u001b[0m\u001b[0;34m,\u001b[0m \u001b[0mrelative_to_object\u001b[0m\u001b[0;34m=\u001b[0m\u001b[0mNone\u001b[0m\u001b[0;34m)\u001b[0m\u001b[0;34m:\u001b[0m\u001b[0;34m\u001b[0m\u001b[0m\n",
      "\u001b[0;32m/Library/Frameworks/Python.framework/Versions/2.7/lib/python2.7/site-packages/pypot/vrep/io.pyc\u001b[0m in \u001b[0;36mcall_remote_api\u001b[0;34m(self, func_name, *args, **kwargs)\u001b[0m\n\u001b[1;32m    304\u001b[0m \u001b[0;34m\u001b[0m\u001b[0m\n\u001b[1;32m    305\u001b[0m         \u001b[0;32mfor\u001b[0m \u001b[0m_\u001b[0m \u001b[0;32min\u001b[0m \u001b[0mrange\u001b[0m\u001b[0;34m(\u001b[0m\u001b[0mVrepIO\u001b[0m\u001b[0;34m.\u001b[0m\u001b[0mMAX_ITER\u001b[0m\u001b[0;34m)\u001b[0m\u001b[0;34m:\u001b[0m\u001b[0;34m\u001b[0m\u001b[0m\n\u001b[0;32m--> 306\u001b[0;31m             \u001b[0;32mwith\u001b[0m \u001b[0mself\u001b[0m\u001b[0;34m.\u001b[0m\u001b[0m_lock\u001b[0m\u001b[0;34m:\u001b[0m\u001b[0;34m\u001b[0m\u001b[0m\n\u001b[0m\u001b[1;32m    307\u001b[0m                 \u001b[0mret\u001b[0m \u001b[0;34m=\u001b[0m \u001b[0mf\u001b[0m\u001b[0;34m(\u001b[0m\u001b[0mself\u001b[0m\u001b[0;34m.\u001b[0m\u001b[0mclient_id\u001b[0m\u001b[0;34m,\u001b[0m \u001b[0;34m*\u001b[0m\u001b[0margs\u001b[0m\u001b[0;34m,\u001b[0m \u001b[0;34m**\u001b[0m\u001b[0mkwargs\u001b[0m\u001b[0;34m)\u001b[0m\u001b[0;34m\u001b[0m\u001b[0m\n\u001b[1;32m    308\u001b[0m \u001b[0;34m\u001b[0m\u001b[0m\n",
      "\u001b[0;31mKeyboardInterrupt\u001b[0m: "
     ]
    }
   ],
   "source": [
    "# draw single line\n",
    "t = time.time()\n",
    "\n",
    "while 1:\n",
    "    x = np.sin(2 * 3.14159 * time.time() * 0.1)\n",
    "    z = np.cos(2 * 3.14159 * time.time() * 0.1) * 0.5\n",
    "    io.set_object_position('cube', position=[x, -1, 1])\n",
    "\n",
    "    if time.time() - t > 0.1:\n",
    "        # print canSeeJudge(headForwardDirection(), objectRelPosition(name))\n",
    "        t = time.time()\n",
    "        test = canSeeJudge(headForwardDirection(), objectRelPosition(name))\n",
    "\n",
    "        test1, test2 = getState(test, 5,5)\n",
    "        if not test1:\n",
    "            print test1"
   ]
  },
  {
   "cell_type": "code",
   "execution_count": 5,
   "metadata": {
    "collapsed": false
   },
   "outputs": [],
   "source": []
  },
  {
   "cell_type": "code",
   "execution_count": 13,
   "metadata": {
    "collapsed": false
   },
   "outputs": [],
   "source": [
    "poppy.head_z.goal_position = 0"
   ]
  },
  {
   "cell_type": "code",
   "execution_count": 23,
   "metadata": {
    "collapsed": false
   },
   "outputs": [],
   "source": [
    "poppy.head_y.goal_position = 0"
   ]
  },
  {
   "cell_type": "code",
   "execution_count": null,
   "metadata": {
    "collapsed": false
   },
   "outputs": [],
   "source": [
    "poppy.head_z.present_position"
   ]
  },
  {
   "cell_type": "code",
   "execution_count": null,
   "metadata": {
    "collapsed": false
   },
   "outputs": [],
   "source": [
    "print math.sin(25.3 / 180 * 3.14159)"
   ]
  },
  {
   "cell_type": "code",
   "execution_count": 19,
   "metadata": {
    "collapsed": false
   },
   "outputs": [
    {
     "name": "stdout",
     "output_type": "stream",
     "text": [
      "46.3028718774\n",
      "False\n",
      "The object can't be seen\n",
      "False\n"
     ]
    }
   ],
   "source": [
    "def headForwardDirection():\n",
    "    angleNegativeY = poppy.head_z.present_position\n",
    "    angleSurfaceXY = - poppy.head_y.present_position\n",
    "\n",
    "    angleNegativeY = angleNegativeY / 180 * 3.14159\n",
    "    angleSurfaceXY = angleSurfaceXY / 180 * 3.14159\n",
    "\n",
    "    y = - np.cos(angleSurfaceXY) * np.cos(angleNegativeY)\n",
    "    x = np.cos(angleSurfaceXY) * np.sin(angleNegativeY)\n",
    "    z = np.sin(angleSurfaceXY)\n",
    "\n",
    "    forwardDire = [x, y, z]\n",
    "    return forwardDire\n",
    "def objectRelPosition(name):\n",
    "    objectPos = io.get_object_position(name)\n",
    "    positionCameraOri = [0, -0.05, 1.06]\n",
    "\n",
    "    objectRelPos = [objectPos[i] - positionCameraOri[i] for i in xrange(3)]\n",
    "\n",
    "    return objectRelPos\n",
    "def canSeeJudge(headForwardDirection, objectRelPos):\n",
    "    orthognalBasis1 = headForwardDirection\n",
    "    orthognalBasis2 = [orthognalBasis1[1], -orthognalBasis1[0], 0]\n",
    "    normOrthBasis2 = np.linalg.norm(orthognalBasis2)\n",
    "    orthognalBasis2 =  [orthognalBasis2[i] / normOrthBasis2 for i in xrange(3) ]\n",
    "    orthognalBasis3 = np.cross(orthognalBasis2, orthognalBasis1)\n",
    "\n",
    "    objectProjectionOnOrthBasis1 = np.dot(objectRelPos, orthognalBasis1)\n",
    "    if objectProjectionOnOrthBasis1 < 0:\n",
    "        return False\n",
    "    objectProjectionOnOrthBasis2 = np.dot(objectRelPos, orthognalBasis2)\n",
    "    objectProjectionOnOrthBasis3 = np.dot(objectRelPos, orthognalBasis3)\n",
    "\n",
    "    newCoordinate = [objectProjectionOnOrthBasis1, objectProjectionOnOrthBasis2, objectProjectionOnOrthBasis3]\n",
    "\n",
    "    tt = [1, 0, 0]\n",
    "\n",
    "    t = [objectProjectionOnOrthBasis1, objectProjectionOnOrthBasis2, 0]\n",
    "    angle1 = np.arccos(np.dot(tt, t) / np.linalg.norm(t)) / 3.14159 * 180\n",
    "    print angle1\n",
    "    if abs(angle1) > 37:\n",
    "        return False\n",
    "    t = [objectProjectionOnOrthBasis1, 0, objectProjectionOnOrthBasis3]\n",
    "    angle2 = np.arccos(np.dot(tt, t) / np.linalg.norm(t)) / 3.14159 * 180\n",
    "    if abs(angle2) > 18.5:\n",
    "        return False\n",
    "    \n",
    "    if objectProjectionOnOrthBasis3 < 0 and angle2 > 0:\n",
    "        angle2 = -angle2\n",
    "\n",
    "    if objectProjectionOnOrthBasis2 > 0 and angle1 > 0:\n",
    "        angle1 = -angle1\n",
    "    return angle1, angle2\n",
    "\n",
    "def getState(angle, m, n):\n",
    "    if not angle:\n",
    "        print \"The object can't be seen\"\n",
    "        return False\n",
    "    angle1 = angle[0]\n",
    "    angle2 = angle[1]\n",
    "    unit1 = 2 * np.cos(angle1) / m\n",
    "    unit2 = 2 * np.cos(angle2) / n\n",
    "    state1 = np.cos(angle1) / unit1\n",
    "    state2 = np.cos(angle2) / unit2\n",
    "    if angle1 > 0:\n",
    "        state1 = -state1\n",
    "    if angle2 < 0:\n",
    "        state2 = -state2\n",
    "    return (state1, state2)\n",
    "\n",
    "test = canSeeJudge(headForwardDirection(), objectRelPosition(name))\n",
    "print test\n",
    "print getState(test, 5,5)"
   ]
  },
  {
   "cell_type": "code",
   "execution_count": 11,
   "metadata": {
    "collapsed": false
   },
   "outputs": [
    {
     "name": "stdout",
     "output_type": "stream",
     "text": [
      "0.25882011309\n"
     ]
    }
   ],
   "source": [
    "import math\n",
    "print math.cos(75.0 / 180 * 3.14159)"
   ]
  },
  {
   "cell_type": "code",
   "execution_count": null,
   "metadata": {
    "collapsed": true
   },
   "outputs": [],
   "source": [
    "def stateDetection(degree1, degree2, numStateX, numStateY):\n",
    "    "
   ]
  }
 ],
 "metadata": {
  "celltoolbar": "Edit Metadata",
  "kernelspec": {
   "display_name": "Python 2",
   "language": "python",
   "name": "python2"
  },
  "language_info": {
   "codemirror_mode": {
    "name": "ipython",
    "version": 2
   },
   "file_extension": ".py",
   "mimetype": "text/x-python",
   "name": "python",
   "nbconvert_exporter": "python",
   "pygments_lexer": "ipython2",
   "version": "2.7.11"
  }
 },
 "nbformat": 4,
 "nbformat_minor": 0
}
