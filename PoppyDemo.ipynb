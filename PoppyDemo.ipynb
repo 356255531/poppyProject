{
 "cells": [
  {
   "cell_type": "markdown",
   "metadata": {},
   "source": [
    "# V-rep Demo for Poppy-Control in Simulator\n",
    "It's a demo introduce how to control Poppy-Torso in simulator (V-rep).Please make sure:\n",
    "+ 1. You have correctly installed V-rep and have a python 2.7 distribution. If not, please check README.md.\n",
    "+ 2. Your have all the libs need, if you are not sure about which libs to use, a pre-packaged Python distribution called Anaconda is strongly recommended here. To get there please see the following below: https://www.continuum.io/downloads\n",
    "+ 3. Or you can use your own python distribution and install them by use \"pip install\" in terminal. Like \"pip install pypot poppy_humanoid\"  \n",
    "(Or replace it with poppy_torso if you use Torso)\n",
    "\n",
    "# Initialization Check\n",
    "To check if everything is correctly installed, you can run the following code. It shoud run without raising an error, when everything is probably installed. What we do here is to initialize the poppy enviroment in V-rep.  \n",
    "\n",
    "Tipps:  \n",
    "+ You can run IPython Notebook code cells by selecting them and clicking the play button or by pressing shift+enter."
   ]
  },
  {
   "cell_type": "code",
   "execution_count": 1,
   "metadata": {
    "collapsed": false
   },
   "outputs": [],
   "source": [
    "from poppy.creatures import PoppyTorso\n",
    "import numpy as np\n",
    "import time\n",
    "\n",
    "poppy = PoppyTorso(simulator='vrep')"
   ]
  },
  {
   "cell_type": "markdown",
   "metadata": {},
   "source": [
    "# Motor Retrieve\n",
    "+ Firstly, with the following code, you can retrieve the list of all available motors.   \n",
    "+ The motors variable contains the list of all motors attached to the current robot.  \n",
    "+ By default, each motor prints its name, its id, and its current position:"
   ]
  },
  {
   "cell_type": "code",
   "execution_count": 3,
   "metadata": {
    "collapsed": false
   },
   "outputs": [
    {
     "data": {
      "text/plain": [
       "[<DxlMotor name=l_elbow_y id=44 pos=0.0>,\n",
       " <DxlMotor name=head_y id=37 pos=-1.8>,\n",
       " <DxlMotor name=r_arm_z id=53 pos=-0.0>,\n",
       " <DxlMotor name=head_z id=36 pos=0.0>,\n",
       " <DxlMotor name=r_shoulder_x id=52 pos=0.0>,\n",
       " <DxlMotor name=r_shoulder_y id=51 pos=0.8>,\n",
       " <DxlMotor name=r_elbow_y id=54 pos=0.0>,\n",
       " <DxlMotor name=l_arm_z id=43 pos=0.0>,\n",
       " <DxlMotor name=abs_z id=33 pos=-0.0>,\n",
       " <DxlMotor name=bust_y id=34 pos=0.2>,\n",
       " <DxlMotor name=bust_x id=35 pos=0.0>,\n",
       " <DxlMotor name=l_shoulder_x id=42 pos=-1.5>,\n",
       " <DxlMotor name=l_shoulder_y id=41 pos=0.0>]"
      ]
     },
     "execution_count": 3,
     "metadata": {},
     "output_type": "execute_result"
    }
   ],
   "source": [
    "poppy.motors"
   ]
  },
  {
   "cell_type": "markdown",
   "metadata": {},
   "source": [
    "# Control Motor"
   ]
  },
  {
   "cell_type": "markdown",
   "metadata": {},
   "source": [
    "You can access a specific motor directly using its name:"
   ]
  },
  {
   "cell_type": "code",
   "execution_count": 10,
   "metadata": {
    "collapsed": false
   },
   "outputs": [
    {
     "data": {
      "text/plain": [
       "<DxlMotor name=head_z id=36 pos=0.0>"
      ]
     },
     "execution_count": 10,
     "metadata": {},
     "output_type": "execute_result"
    }
   ],
   "source": [
    "poppy.head_z"
   ]
  },
  {
   "cell_type": "markdown",
   "metadata": {},
   "source": [
    "You can directly get the current angle of a motor by using:"
   ]
  },
  {
   "cell_type": "code",
   "execution_count": null,
   "metadata": {
    "collapsed": true
   },
   "outputs": [],
   "source": [
    "print poppy.head_y.present_position"
   ]
  },
  {
   "cell_type": "markdown",
   "metadata": {},
   "source": [
    "You can directly access all the motors from the torso using the torso alias.  \n",
    "To retrieve the list of motors alias available using:"
   ]
  },
  {
   "cell_type": "code",
   "execution_count": 15,
   "metadata": {
    "collapsed": false
   },
   "outputs": [
    {
     "data": {
      "text/plain": [
       "[u'head', u'r_arm', u'torso', u'l_arm', u'arms']"
      ]
     },
     "execution_count": 15,
     "metadata": {},
     "output_type": "execute_result"
    }
   ],
   "source": [
    "poppy.alias"
   ]
  },
  {
   "cell_type": "markdown",
   "metadata": {},
   "source": [
    "Each alias contains a list of motors.  \n",
    "To creat a dictionary of motor alias using:"
   ]
  },
  {
   "cell_type": "code",
   "execution_count": 16,
   "metadata": {
    "collapsed": false
   },
   "outputs": [
    {
     "data": {
      "text/plain": [
       "{u'head_y': 0.0, u'head_z': 0.0}"
      ]
     },
     "execution_count": 16,
     "metadata": {},
     "output_type": "execute_result"
    }
   ],
   "source": [
    "{m.name: m.present_position for m in poppy.head}"
   ]
  },
  {
   "cell_type": "markdown",
   "metadata": {},
   "source": [
    "To set motor to a specific angle using:"
   ]
  },
  {
   "cell_type": "code",
   "execution_count": 13,
   "metadata": {
    "collapsed": true
   },
   "outputs": [],
   "source": [
    "poppy.head_z.goal_position = 0\n",
    "poppy.head_y.goal_position = 0"
   ]
  },
  {
   "cell_type": "markdown",
   "metadata": {},
   "source": [
    "\n",
    "Note: While the full list of motor registers is available, not all of them are having an effect in the V-REP simulation. For instance, modifying the pid of a motor won't affect the simulation.\n",
    "\n",
    "Currently in the V-REP simulator you can use:\n",
    "+ present_position (R): the actual position of the motor (usually from -180° to 180°)\n",
    "+ goal_position (RW): the target position of the motor, that is to say the position it will try to reach (same range and units than the present position)\n",
    "+ present_load (R): the current load applied on the motor (expressed in % of the max supported load)\n",
    "+ torque_limit (RW): the maximum torque that a motor can applied (also expressed in % of the max supported load)\n",
    "+ compliant (RW): whether the motor is compliant: if it resits or not when manually turned\n",
    "+ angle_limit (R): the position limits (lower and upper) of the motor. Some motors are restrained to a smaller position range to avoid breaking other parts.\n",
    "Support for additional features may be added in future version."
   ]
  },
  {
   "cell_type": "markdown",
   "metadata": {},
   "source": [
    "# Object Interaction"
   ]
  },
  {
   "cell_type": "markdown",
   "metadata": {},
   "source": [
    "Reset the simulator"
   ]
  },
  {
   "cell_type": "markdown",
   "metadata": {},
   "source": [
    "poppy.reset_simulation()"
   ]
  },
  {
   "cell_type": "markdown",
   "metadata": {},
   "source": [
    "Set up a controller"
   ]
  },
  {
   "cell_type": "code",
   "execution_count": 2,
   "metadata": {
    "collapsed": true
   },
   "outputs": [],
   "source": [
    "io = poppy._controllers[0].io"
   ]
  },
  {
   "cell_type": "markdown",
   "metadata": {},
   "source": [
    "Add a object in simulator"
   ]
  },
  {
   "cell_type": "code",
   "execution_count": 3,
   "metadata": {
    "collapsed": false
   },
   "outputs": [],
   "source": [
    "name = 'cube'\n",
    "position = [0, -0.15, 0.8] # X, Y, Z\n",
    "sizes = [0.01, 0.01, 0.01] # in meters\n",
    "mass = 0 # in kg\n",
    "io.add_cube(name, position, sizes, mass)\n",
    "\n"
   ]
  },
  {
   "cell_type": "markdown",
   "metadata": {},
   "source": [
    "Draw circle trace with object"
   ]
  },
  {
   "cell_type": "code",
   "execution_count": null,
   "metadata": {
    "collapsed": false
   },
   "outputs": [],
   "source": [
    "# draw circle\n",
    "\n",
    "io.get_object_position('cube')\n",
    "io.set_object_position('cube', position=[0, -0.1, 0])\n",
    "while 1:\n",
    "    t = time.time()\n",
    "    while time.time() - t < 0.0001:\n",
    "        1\n",
    "    x = np.sin(2 * 3.14159 * time.time() * 0.1) * 0.5\n",
    "    z = np.cos(2 * 3.14159 * time.time() * 0.1) * 0.5\n",
    "    io.set_object_position('cube', position=[x, -2, z + 1])"
   ]
  },
  {
   "cell_type": "markdown",
   "metadata": {},
   "source": [
    "Draw single line trace with object"
   ]
  },
  {
   "cell_type": "code",
   "execution_count": 11,
   "metadata": {
    "collapsed": false
   },
   "outputs": [
    {
     "name": "stdout",
     "output_type": "stream",
     "text": [
      "(-27.686700403626634, -5.6348208595632281)\n",
      "(-30.239857571243682, -5.6348208595632281)\n",
      "(-32.542572103074505, -5.6348208595632281)\n",
      "(-34.47022916192266, -5.6348208595632281)\n",
      "(-36.474460545071935, -5.6348208595632281)\n",
      "False\n",
      "False\n",
      "False\n",
      "False\n",
      "False\n",
      "False\n",
      "False\n",
      "False\n",
      "False\n",
      "False\n",
      "False\n",
      "False\n",
      "False\n",
      "False\n",
      "False\n",
      "False\n",
      "False\n",
      "False\n",
      "False\n",
      "False\n",
      "False\n",
      "False\n",
      "False\n",
      "False\n",
      "(-36.878670990705743, -5.6348208595632281)\n",
      "(-35.106720211432929, -5.6348208595632281)\n",
      "(-33.071107789863781, -5.6348208595632281)\n",
      "(-30.809893679620149, -5.6348208595632281)\n",
      "(-28.430705131614204, -5.6348208595632281)\n",
      "(-25.711585372972579, -5.6348208595632281)\n",
      "(-22.949143926503066, -5.6348208595632281)\n",
      "(-19.826735531962036, -5.6348208595632281)\n",
      "(-16.655227762856274, -5.6348208595632281)\n",
      "(-13.098186454551582, -5.6348208595632281)\n",
      "(-9.6529441223561658, -5.6348208595632281)\n",
      "(-6.0416413847265131, -5.6348208595632281)\n",
      "(-2.143911671965324, -5.6348208595632281)\n",
      "(1.7994770955759192, -5.6348208595632281)\n",
      "(5.4331202189093037, -5.6348208595632281)\n",
      "(9.3852105886749815, -5.6348208595632281)\n",
      "(12.853733288373572, -5.6348208595632281)\n",
      "(16.385701169427861, -5.6348208595632281)\n",
      "(19.589626206703969, -5.6348208595632281)\n",
      "(22.702942215289848, -5.6348208595632281)\n",
      "(25.590932303031451, -5.6348208595632281)\n",
      "(28.030695046646393, -5.6348208595632281)\n"
     ]
    },
    {
     "ename": "KeyboardInterrupt",
     "evalue": "",
     "output_type": "error",
     "traceback": [
      "\u001b[0;31m---------------------------------------------------------------------------\u001b[0m",
      "\u001b[0;31mKeyboardInterrupt\u001b[0m                         Traceback (most recent call last)",
      "\u001b[0;32m<ipython-input-11-e739b54e05d9>\u001b[0m in \u001b[0;36m<module>\u001b[0;34m()\u001b[0m\n\u001b[1;32m      5\u001b[0m     \u001b[0mx\u001b[0m \u001b[0;34m=\u001b[0m \u001b[0mnp\u001b[0m\u001b[0;34m.\u001b[0m\u001b[0msin\u001b[0m\u001b[0;34m(\u001b[0m\u001b[0;36m2\u001b[0m \u001b[0;34m*\u001b[0m \u001b[0;36m3.14159\u001b[0m \u001b[0;34m*\u001b[0m \u001b[0mtime\u001b[0m\u001b[0;34m.\u001b[0m\u001b[0mtime\u001b[0m\u001b[0;34m(\u001b[0m\u001b[0;34m)\u001b[0m \u001b[0;34m*\u001b[0m \u001b[0;36m0.1\u001b[0m\u001b[0;34m)\u001b[0m\u001b[0;34m\u001b[0m\u001b[0m\n\u001b[1;32m      6\u001b[0m     \u001b[0mz\u001b[0m \u001b[0;34m=\u001b[0m \u001b[0mnp\u001b[0m\u001b[0;34m.\u001b[0m\u001b[0mcos\u001b[0m\u001b[0;34m(\u001b[0m\u001b[0;36m2\u001b[0m \u001b[0;34m*\u001b[0m \u001b[0;36m3.14159\u001b[0m \u001b[0;34m*\u001b[0m \u001b[0mtime\u001b[0m\u001b[0;34m.\u001b[0m\u001b[0mtime\u001b[0m\u001b[0;34m(\u001b[0m\u001b[0;34m)\u001b[0m \u001b[0;34m*\u001b[0m \u001b[0;36m0.1\u001b[0m\u001b[0;34m)\u001b[0m \u001b[0;34m*\u001b[0m \u001b[0;36m0.5\u001b[0m\u001b[0;34m\u001b[0m\u001b[0m\n\u001b[0;32m----> 7\u001b[0;31m     \u001b[0mio\u001b[0m\u001b[0;34m.\u001b[0m\u001b[0mset_object_position\u001b[0m\u001b[0;34m(\u001b[0m\u001b[0;34m'cube'\u001b[0m\u001b[0;34m,\u001b[0m \u001b[0mposition\u001b[0m\u001b[0;34m=\u001b[0m\u001b[0;34m[\u001b[0m\u001b[0mx\u001b[0m\u001b[0;34m,\u001b[0m \u001b[0;34m-\u001b[0m\u001b[0;36m1\u001b[0m\u001b[0;34m,\u001b[0m \u001b[0;36m1\u001b[0m\u001b[0;34m]\u001b[0m\u001b[0;34m)\u001b[0m\u001b[0;34m\u001b[0m\u001b[0m\n\u001b[0m\u001b[1;32m      8\u001b[0m \u001b[0;34m\u001b[0m\u001b[0m\n\u001b[1;32m      9\u001b[0m     \u001b[0;32mif\u001b[0m \u001b[0mtime\u001b[0m\u001b[0;34m.\u001b[0m\u001b[0mtime\u001b[0m\u001b[0;34m(\u001b[0m\u001b[0;34m)\u001b[0m \u001b[0;34m-\u001b[0m \u001b[0mt\u001b[0m \u001b[0;34m>\u001b[0m \u001b[0;36m0.1\u001b[0m\u001b[0;34m:\u001b[0m\u001b[0;34m\u001b[0m\u001b[0m\n",
      "\u001b[0;32m/Library/Frameworks/Python.framework/Versions/2.7/lib/python2.7/site-packages/pypot/vrep/io.pyc\u001b[0m in \u001b[0;36mset_object_position\u001b[0;34m(self, object_name, position)\u001b[0m\n\u001b[1;32m    183\u001b[0m         return self.call_remote_api('simxSetObjectPosition',\n\u001b[1;32m    184\u001b[0m                                     \u001b[0mh\u001b[0m\u001b[0;34m,\u001b[0m \u001b[0;34m-\u001b[0m\u001b[0;36m1\u001b[0m\u001b[0;34m,\u001b[0m \u001b[0mposition\u001b[0m\u001b[0;34m,\u001b[0m\u001b[0;34m\u001b[0m\u001b[0m\n\u001b[0;32m--> 185\u001b[0;31m                                     sending=True)\n\u001b[0m\u001b[1;32m    186\u001b[0m \u001b[0;34m\u001b[0m\u001b[0m\n\u001b[1;32m    187\u001b[0m     \u001b[0;32mdef\u001b[0m \u001b[0mget_object_orientation\u001b[0m\u001b[0;34m(\u001b[0m\u001b[0mself\u001b[0m\u001b[0;34m,\u001b[0m \u001b[0mobject_name\u001b[0m\u001b[0;34m,\u001b[0m \u001b[0mrelative_to_object\u001b[0m\u001b[0;34m=\u001b[0m\u001b[0mNone\u001b[0m\u001b[0;34m)\u001b[0m\u001b[0;34m:\u001b[0m\u001b[0;34m\u001b[0m\u001b[0m\n",
      "\u001b[0;32m/Library/Frameworks/Python.framework/Versions/2.7/lib/python2.7/site-packages/pypot/vrep/io.pyc\u001b[0m in \u001b[0;36mcall_remote_api\u001b[0;34m(self, func_name, *args, **kwargs)\u001b[0m\n\u001b[1;32m    310\u001b[0m                 \u001b[0;32mreturn\u001b[0m\u001b[0;34m\u001b[0m\u001b[0m\n\u001b[1;32m    311\u001b[0m \u001b[0;34m\u001b[0m\u001b[0m\n\u001b[0;32m--> 312\u001b[0;31m             \u001b[0;32mif\u001b[0m \u001b[0mmode\u001b[0m \u001b[0;34m==\u001b[0m \u001b[0;34m'sending'\u001b[0m \u001b[0;32mor\u001b[0m \u001b[0misinstance\u001b[0m\u001b[0;34m(\u001b[0m\u001b[0mret\u001b[0m\u001b[0;34m,\u001b[0m \u001b[0mint\u001b[0m\u001b[0;34m)\u001b[0m\u001b[0;34m:\u001b[0m\u001b[0;34m\u001b[0m\u001b[0m\n\u001b[0m\u001b[1;32m    313\u001b[0m                 \u001b[0merr\u001b[0m\u001b[0;34m,\u001b[0m \u001b[0mres\u001b[0m \u001b[0;34m=\u001b[0m \u001b[0mret\u001b[0m\u001b[0;34m,\u001b[0m \u001b[0mNone\u001b[0m\u001b[0;34m\u001b[0m\u001b[0m\n\u001b[1;32m    314\u001b[0m             \u001b[0;32melse\u001b[0m\u001b[0;34m:\u001b[0m\u001b[0;34m\u001b[0m\u001b[0m\n",
      "\u001b[0;31mKeyboardInterrupt\u001b[0m: "
     ]
    }
   ],
   "source": [
    "# draw single line trace\n",
    "t = time.time()\n",
    "\n",
    "while 1:\n",
    "    x = np.sin(2 * 3.14159 * time.time() * 0.1)\n",
    "    z = np.cos(2 * 3.14159 * time.time() * 0.1) * 0.5\n",
    "    io.set_object_position('cube', position=[x, -1, 1])\n",
    "\n",
    "    if time.time() - t > 0.1:\n",
    "        print canSeeJudge(headForwardDirection(), objectRelPosition(name))\n",
    "        t = time.time()\n"
   ]
  },
  {
   "cell_type": "markdown",
   "metadata": {},
   "source": [
    "# Pseudo-CV algorithm"
   ]
  },
  {
   "cell_type": "code",
   "execution_count": 8,
   "metadata": {
    "collapsed": false
   },
   "outputs": [
    {
     "name": "stdout",
     "output_type": "stream",
     "text": [
      "False\n"
     ]
    }
   ],
   "source": [
    "# Output the heading direction of camera\n",
    "\n",
    "def headForwardDirection():\n",
    "    angleNegativeY = poppy.head_z.present_position\n",
    "    angleSurfaceXY = - poppy.head_y.present_position\n",
    "\n",
    "    angleNegativeY = angleNegativeY / 180 * 3.14159\n",
    "    angleSurfaceXY = angleSurfaceXY / 180 * 3.14159\n",
    "\n",
    "    y = - np.cos(angleSurfaceXY) * np.cos(angleNegativeY)\n",
    "    x = np.cos(angleSurfaceXY) * np.sin(angleNegativeY)\n",
    "    z = np.sin(angleSurfaceXY)\n",
    "\n",
    "    forwardDire = [x, y, z]\n",
    "    return forwardDire\n",
    "\n",
    "# Output the relative position of object w.r.t camera position\n",
    "\n",
    "def objectRelPosition(name):\n",
    "    objectPos = io.get_object_position(name)\n",
    "    positionCameraOri = [0, -0.05, 1.06] # Camera's position in Vrep\n",
    "\n",
    "    objectRelPos = [objectPos[i] - positionCameraOri[i] for i in xrange(3)]\n",
    "\n",
    "    return objectRelPos\n",
    "\n",
    "# Output the angels(horizontal, vertical) of object w.r.t the center of camera sight\n",
    "# If object is not in sight, return False\n",
    "\n",
    "def canSeeJudge(headForwardDirection, objectRelPos):\n",
    "    orthognalBasis1 = headForwardDirection\n",
    "    orthognalBasis2 = [orthognalBasis1[1], -orthognalBasis1[0], 0]\n",
    "    normOrthBasis2 = np.linalg.norm(orthognalBasis2)\n",
    "    orthognalBasis2 =  [orthognalBasis2[i] / normOrthBasis2 for i in xrange(3) ]\n",
    "    orthognalBasis3 = np.cross(orthognalBasis2, orthognalBasis1)\n",
    "\n",
    "    objectProjectionOnOrthBasis1 = np.dot(objectRelPos, orthognalBasis1)\n",
    "    if objectProjectionOnOrthBasis1 < 0:\n",
    "        return False\n",
    "    objectProjectionOnOrthBasis2 = np.dot(objectRelPos, orthognalBasis2)\n",
    "    objectProjectionOnOrthBasis3 = np.dot(objectRelPos, orthognalBasis3)\n",
    "\n",
    "    newCoordinate = [objectProjectionOnOrthBasis1, objectProjectionOnOrthBasis2, objectProjectionOnOrthBasis3]\n",
    "\n",
    "    tt = [1, 0, 0]\n",
    "\n",
    "    t = [objectProjectionOnOrthBasis1, objectProjectionOnOrthBasis2, 0]\n",
    "    angle1 = np.arccos(np.dot(tt, t) / np.linalg.norm(t)) / 3.14159 * 180\n",
    "\n",
    "    if abs(angle1) > 37:\n",
    "        return False\n",
    "    t = [objectProjectionOnOrthBasis1, 0, objectProjectionOnOrthBasis3]\n",
    "    angle2 = np.arccos(np.dot(tt, t) / np.linalg.norm(t)) / 3.14159 * 180\n",
    "    if abs(angle2) > 18.5:\n",
    "        return False\n",
    "    \n",
    "    if objectProjectionOnOrthBasis3 < 0 and angle2 > 0:\n",
    "        angle2 = -angle2\n",
    "\n",
    "    if objectProjectionOnOrthBasis2 > 0 and angle1 > 0:\n",
    "        angle1 = -angle1\n",
    "    return angle1, angle2\n",
    "\n",
    "# Output the state of problem\n",
    "def getState(angle, m, n):\n",
    "    if not angle:\n",
    "        print \"The object can't be seen\"\n",
    "        return False\n",
    "    angle1 = angle[0]\n",
    "    angle2 = angle[1]\n",
    "    unit1 = 2 * np.cos(angle1) / m\n",
    "    unit2 = 2 * np.cos(angle2) / n\n",
    "    state1 = np.cos(angle1) / unit1\n",
    "    state2 = np.cos(angle2) / unit2\n",
    "    if angle1 > 0:\n",
    "        state1 = -state1\n",
    "    if angle2 < 0:\n",
    "        state2 = -state2\n",
    "    return (state1, state2)\n",
    "\n",
    "test = canSeeJudge(headForwardDirection(), objectRelPosition(name))\n",
    "print test\n"
   ]
  },
  {
   "cell_type": "code",
   "execution_count": null,
   "metadata": {
    "collapsed": true
   },
   "outputs": [],
   "source": []
  }
 ],
 "metadata": {
  "celltoolbar": "Edit Metadata",
  "kernelspec": {
   "display_name": "Python 2",
   "language": "python",
   "name": "python2"
  },
  "language_info": {
   "codemirror_mode": {
    "name": "ipython",
    "version": 2
   },
   "file_extension": ".py",
   "mimetype": "text/x-python",
   "name": "python",
   "nbconvert_exporter": "python",
   "pygments_lexer": "ipython2",
   "version": "2.7.11"
  }
 },
 "nbformat": 4,
 "nbformat_minor": 0
}
