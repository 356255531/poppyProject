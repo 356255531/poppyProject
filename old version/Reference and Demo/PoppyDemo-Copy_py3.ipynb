{
 "cells": [
  {
   "cell_type": "markdown",
   "metadata": {},
   "source": [
    "# V-rep Demo for Poppy-Control in Simulator\n",
    "It's a demo introduce how to control Poppy-Torso in simulator (V-rep).Please make sure:\n",
    "+ 1. You have correctly installed V-rep and have a python 2.7 distribution. If not, please check README.md.\n",
    "+ 2. Your have all the libs need, if you are not sure about which libs to use, a pre-packaged Python distribution called Anaconda is strongly recommended here. To get there please see the following below: https://www.continuum.io/downloads\n",
    "+ 3. Or you can use your own python distribution and install them by use \"pip install\" in terminal. Like \"pip install pypot poppy_humanoid\"  \n",
    "(Or replace it with poppy_torso if you use Torso)\n",
    "\n",
    "# Initialization Check\n",
    "To check if everything is correctly installed, you can run the following code. It shoud run without raising an error, when everything is probably installed. What we do here is to initialize the poppy enviroment in V-rep.  \n",
    "\n",
    "Tipps:  \n",
    "+ You can run IPython Notebook code cells by selecting them and clicking the play button or by pressing shift+enter."
   ]
  },
  {
   "cell_type": "code",
   "execution_count": 1,
   "metadata": {
    "collapsed": false
   },
   "outputs": [],
   "source": [
    "from poppy.creatures import PoppyTorso\n",
    "import numpy as np\n",
    "import time\n",
    "\n",
    "poppy = PoppyTorso(simulator='vrep')"
   ]
  },
  {
   "cell_type": "markdown",
   "metadata": {},
   "source": [
    "# Motor Retrieve\n",
    "+ Firstly, with the following code, you can retrieve the list of all available motors.   \n",
    "+ The motors variable contains the list of all motors attached to the current robot.  \n",
    "+ By default, each motor prints its name, its id, and its current position:"
   ]
  },
  {
   "cell_type": "code",
   "execution_count": 2,
   "metadata": {
    "collapsed": false
   },
   "outputs": [
    {
     "data": {
      "text/plain": [
       "[<DxlMotor name=l_elbow_y id=44 pos=0.0>,\n",
       " <DxlMotor name=head_y id=37 pos=-1.8999999999999986>,\n",
       " <DxlMotor name=r_arm_z id=53 pos=-0.0>,\n",
       " <DxlMotor name=head_z id=36 pos=0.0>,\n",
       " <DxlMotor name=r_shoulder_x id=52 pos=0.0>,\n",
       " <DxlMotor name=r_shoulder_y id=51 pos=0.9000000000000057>,\n",
       " <DxlMotor name=r_elbow_y id=54 pos=0.0>,\n",
       " <DxlMotor name=l_arm_z id=43 pos=0.0>,\n",
       " <DxlMotor name=abs_z id=33 pos=-0.0>,\n",
       " <DxlMotor name=bust_y id=34 pos=0.2>,\n",
       " <DxlMotor name=bust_x id=35 pos=0.0>,\n",
       " <DxlMotor name=l_shoulder_x id=42 pos=-1.5>,\n",
       " <DxlMotor name=l_shoulder_y id=41 pos=0.0>]"
      ]
     },
     "execution_count": 2,
     "metadata": {},
     "output_type": "execute_result"
    }
   ],
   "source": [
    "poppy.motors"
   ]
  },
  {
   "cell_type": "markdown",
   "metadata": {},
   "source": [
    "# Control Motor"
   ]
  },
  {
   "cell_type": "markdown",
   "metadata": {},
   "source": [
    "You can access a specific motor directly using its name:"
   ]
  },
  {
   "cell_type": "code",
   "execution_count": 3,
   "metadata": {
    "collapsed": false
   },
   "outputs": [
    {
     "data": {
      "text/plain": [
       "<DxlMotor name=head_z id=36 pos=-0.0>"
      ]
     },
     "execution_count": 3,
     "metadata": {},
     "output_type": "execute_result"
    }
   ],
   "source": [
    "poppy.head_z"
   ]
  },
  {
   "cell_type": "markdown",
   "metadata": {},
   "source": [
    "You can directly get the current angle of a motor by using:"
   ]
  },
  {
   "cell_type": "code",
   "execution_count": 3,
   "metadata": {
    "collapsed": false
   },
   "outputs": [
    {
     "name": "stdout",
     "output_type": "stream",
     "text": [
      "-1.9\n"
     ]
    }
   ],
   "source": [
    "print(poppy.head_y.present_position)"
   ]
  },
  {
   "cell_type": "markdown",
   "metadata": {},
   "source": [
    "You can directly access all the motors from the torso using the torso alias.  \n",
    "To retrieve the list of motors alias available using:"
   ]
  },
  {
   "cell_type": "code",
   "execution_count": 9,
   "metadata": {
    "collapsed": false
   },
   "outputs": [
    {
     "data": {
      "text/plain": [
       "['head', 'r_arm', 'torso', 'l_arm', 'arms']"
      ]
     },
     "execution_count": 9,
     "metadata": {},
     "output_type": "execute_result"
    }
   ],
   "source": [
    "poppy.alias"
   ]
  },
  {
   "cell_type": "markdown",
   "metadata": {},
   "source": [
    "Each alias contains a list of motors.  \n",
    "To creat a dictionary of motor alias using:"
   ]
  },
  {
   "cell_type": "code",
   "execution_count": 16,
   "metadata": {
    "collapsed": false
   },
   "outputs": [
    {
     "data": {
      "text/plain": [
       "{'head_y': 0.0, 'head_z': 90.0}"
      ]
     },
     "execution_count": 16,
     "metadata": {},
     "output_type": "execute_result"
    }
   ],
   "source": [
    "{m.name: m.present_position for m in poppy.head}"
   ]
  },
  {
   "cell_type": "markdown",
   "metadata": {},
   "source": [
    "To set motor to a specific angle using:"
   ]
  },
  {
   "cell_type": "code",
   "execution_count": 17,
   "metadata": {
    "collapsed": true
   },
   "outputs": [],
   "source": [
    "poppy.head_z.goal_position = 0\n",
    "poppy.head_y.goal_position = 0"
   ]
  },
  {
   "cell_type": "markdown",
   "metadata": {},
   "source": [
    "\n",
    "Note: While the full list of motor registers is available, not all of them are having an effect in the V-REP simulation. For instance, modifying the pid of a motor won't affect the simulation.\n",
    "\n",
    "Currently in the V-REP simulator you can use:\n",
    "+ present_position (R): the actual position of the motor (usually from -180° to 180°)\n",
    "+ goal_position (RW): the target position of the motor, that is to say the position it will try to reach (same range and units than the present position)\n",
    "+ present_load (R): the current load applied on the motor (expressed in % of the max supported load)\n",
    "+ torque_limit (RW): the maximum torque that a motor can applied (also expressed in % of the max supported load)\n",
    "+ compliant (RW): whether the motor is compliant: if it resits or not when manually turned\n",
    "+ angle_limit (R): the position limits (lower and upper) of the motor. Some motors are restrained to a smaller position range to avoid breaking other parts.\n",
    "Support for additional features may be added in future version."
   ]
  },
  {
   "cell_type": "markdown",
   "metadata": {},
   "source": [
    "# Object Interaction"
   ]
  },
  {
   "cell_type": "markdown",
   "metadata": {},
   "source": [
    "Reset the simulator"
   ]
  },
  {
   "cell_type": "markdown",
   "metadata": {},
   "source": [
    "poppy.reset_simulation()"
   ]
  },
  {
   "cell_type": "markdown",
   "metadata": {},
   "source": [
    "Set up a controller"
   ]
  },
  {
   "cell_type": "code",
   "execution_count": 5,
   "metadata": {
    "collapsed": true
   },
   "outputs": [],
   "source": [
    "io = poppy._controllers[0].io"
   ]
  },
  {
   "cell_type": "markdown",
   "metadata": {},
   "source": [
    "Add a object in simulator"
   ]
  },
  {
   "cell_type": "code",
   "execution_count": 6,
   "metadata": {
    "collapsed": false
   },
   "outputs": [],
   "source": [
    "name = 'cube'\n",
    "position = [0, -0.15, 0.8] # X, Y, Z\n",
    "sizes = [0.01, 0.01, 0.01] # in meters\n",
    "mass = 0 # in kg\n",
    "io.add_cube(name, position, sizes, mass)"
   ]
  },
  {
   "cell_type": "markdown",
   "metadata": {},
   "source": [
    "Draw circle trace with object"
   ]
  },
  {
   "cell_type": "code",
   "execution_count": 11,
   "metadata": {
    "collapsed": false
   },
   "outputs": [
    {
     "ename": "KeyboardInterrupt",
     "evalue": "",
     "output_type": "error",
     "traceback": [
      "\u001b[1;31m---------------------------------------------------------------------------\u001b[0m",
      "\u001b[1;31mKeyboardInterrupt\u001b[0m                         Traceback (most recent call last)",
      "\u001b[1;32m<ipython-input-11-58016839485d>\u001b[0m in \u001b[0;36m<module>\u001b[1;34m()\u001b[0m\n\u001b[0;32m      9\u001b[0m     \u001b[0mx\u001b[0m \u001b[1;33m=\u001b[0m \u001b[0mnp\u001b[0m\u001b[1;33m.\u001b[0m\u001b[0msin\u001b[0m\u001b[1;33m(\u001b[0m\u001b[1;36m2\u001b[0m \u001b[1;33m*\u001b[0m \u001b[1;36m3.14159\u001b[0m \u001b[1;33m*\u001b[0m \u001b[0mtime\u001b[0m\u001b[1;33m.\u001b[0m\u001b[0mtime\u001b[0m\u001b[1;33m(\u001b[0m\u001b[1;33m)\u001b[0m \u001b[1;33m*\u001b[0m \u001b[1;36m0.1\u001b[0m\u001b[1;33m)\u001b[0m \u001b[1;33m*\u001b[0m \u001b[1;36m0.5\u001b[0m\u001b[1;33m\u001b[0m\u001b[0m\n\u001b[0;32m     10\u001b[0m     \u001b[0mz\u001b[0m \u001b[1;33m=\u001b[0m \u001b[0mnp\u001b[0m\u001b[1;33m.\u001b[0m\u001b[0mcos\u001b[0m\u001b[1;33m(\u001b[0m\u001b[1;36m2\u001b[0m \u001b[1;33m*\u001b[0m \u001b[1;36m3.14159\u001b[0m \u001b[1;33m*\u001b[0m \u001b[0mtime\u001b[0m\u001b[1;33m.\u001b[0m\u001b[0mtime\u001b[0m\u001b[1;33m(\u001b[0m\u001b[1;33m)\u001b[0m \u001b[1;33m*\u001b[0m \u001b[1;36m0.1\u001b[0m\u001b[1;33m)\u001b[0m \u001b[1;33m*\u001b[0m \u001b[1;36m0.5\u001b[0m\u001b[1;33m\u001b[0m\u001b[0m\n\u001b[1;32m---> 11\u001b[1;33m     \u001b[0mio\u001b[0m\u001b[1;33m.\u001b[0m\u001b[0mset_object_position\u001b[0m\u001b[1;33m(\u001b[0m\u001b[1;34m'cube'\u001b[0m\u001b[1;33m,\u001b[0m \u001b[0mposition\u001b[0m\u001b[1;33m=\u001b[0m\u001b[1;33m[\u001b[0m\u001b[0mx\u001b[0m\u001b[1;33m,\u001b[0m \u001b[1;33m-\u001b[0m\u001b[1;36m2\u001b[0m\u001b[1;33m,\u001b[0m \u001b[0mz\u001b[0m \u001b[1;33m+\u001b[0m \u001b[1;36m1\u001b[0m\u001b[1;33m]\u001b[0m\u001b[1;33m)\u001b[0m\u001b[1;33m\u001b[0m\u001b[0m\n\u001b[0m",
      "\u001b[1;32mC:\\Users\\Media Markt\\Anaconda3\\lib\\site-packages\\pypot\\vrep\\io.py\u001b[0m in \u001b[0;36mset_object_position\u001b[1;34m(self, object_name, position)\u001b[0m\n\u001b[0;32m    183\u001b[0m         return self.call_remote_api('simxSetObjectPosition',\n\u001b[0;32m    184\u001b[0m                                     \u001b[0mh\u001b[0m\u001b[1;33m,\u001b[0m \u001b[1;33m-\u001b[0m\u001b[1;36m1\u001b[0m\u001b[1;33m,\u001b[0m \u001b[0mposition\u001b[0m\u001b[1;33m,\u001b[0m\u001b[1;33m\u001b[0m\u001b[0m\n\u001b[1;32m--> 185\u001b[1;33m                                     sending=True)\n\u001b[0m\u001b[0;32m    186\u001b[0m \u001b[1;33m\u001b[0m\u001b[0m\n\u001b[0;32m    187\u001b[0m     \u001b[1;32mdef\u001b[0m \u001b[0mget_object_orientation\u001b[0m\u001b[1;33m(\u001b[0m\u001b[0mself\u001b[0m\u001b[1;33m,\u001b[0m \u001b[0mobject_name\u001b[0m\u001b[1;33m,\u001b[0m \u001b[0mrelative_to_object\u001b[0m\u001b[1;33m=\u001b[0m\u001b[1;32mNone\u001b[0m\u001b[1;33m)\u001b[0m\u001b[1;33m:\u001b[0m\u001b[1;33m\u001b[0m\u001b[0m\n",
      "\u001b[1;32mC:\\Users\\Media Markt\\Anaconda3\\lib\\site-packages\\pypot\\vrep\\io.py\u001b[0m in \u001b[0;36mcall_remote_api\u001b[1;34m(self, func_name, *args, **kwargs)\u001b[0m\n\u001b[0;32m    304\u001b[0m \u001b[1;33m\u001b[0m\u001b[0m\n\u001b[0;32m    305\u001b[0m         \u001b[1;32mfor\u001b[0m \u001b[0m_\u001b[0m \u001b[1;32min\u001b[0m \u001b[0mrange\u001b[0m\u001b[1;33m(\u001b[0m\u001b[0mVrepIO\u001b[0m\u001b[1;33m.\u001b[0m\u001b[0mMAX_ITER\u001b[0m\u001b[1;33m)\u001b[0m\u001b[1;33m:\u001b[0m\u001b[1;33m\u001b[0m\u001b[0m\n\u001b[1;32m--> 306\u001b[1;33m             \u001b[1;32mwith\u001b[0m \u001b[0mself\u001b[0m\u001b[1;33m.\u001b[0m\u001b[0m_lock\u001b[0m\u001b[1;33m:\u001b[0m\u001b[1;33m\u001b[0m\u001b[0m\n\u001b[0m\u001b[0;32m    307\u001b[0m                 \u001b[0mret\u001b[0m \u001b[1;33m=\u001b[0m \u001b[0mf\u001b[0m\u001b[1;33m(\u001b[0m\u001b[0mself\u001b[0m\u001b[1;33m.\u001b[0m\u001b[0mclient_id\u001b[0m\u001b[1;33m,\u001b[0m \u001b[1;33m*\u001b[0m\u001b[0margs\u001b[0m\u001b[1;33m,\u001b[0m \u001b[1;33m**\u001b[0m\u001b[0mkwargs\u001b[0m\u001b[1;33m)\u001b[0m\u001b[1;33m\u001b[0m\u001b[0m\n\u001b[0;32m    308\u001b[0m \u001b[1;33m\u001b[0m\u001b[0m\n",
      "\u001b[1;31mKeyboardInterrupt\u001b[0m: "
     ]
    }
   ],
   "source": [
    "# draw circle\n",
    "\n",
    "io.get_object_position('cube')\n",
    "io.set_object_position('cube', position=[0, -0.1, 0])\n",
    "while 1:\n",
    "    t = time.time()\n",
    "    while time.time() - t < 0.0001:\n",
    "        1\n",
    "    x = np.sin(2 * 3.14159 * time.time() * 0.1) * 0.5\n",
    "    z = np.cos(2 * 3.14159 * time.time() * 0.1) * 0.5\n",
    "    io.set_object_position('cube', position=[x, -2, z + 1])"
   ]
  },
  {
   "cell_type": "markdown",
   "metadata": {},
   "source": [
    "Draw single line trace with object"
   ]
  },
  {
   "cell_type": "code",
   "execution_count": 25,
   "metadata": {
    "collapsed": false
   },
   "outputs": [
    {
     "name": "stdout",
     "output_type": "stream",
     "text": [
      "False\n",
      "False\n",
      "False\n",
      "False\n",
      "False\n",
      "False\n",
      "False\n",
      "False\n",
      "False\n",
      "False\n",
      "False\n",
      "False\n",
      "False\n",
      "False\n",
      "False\n",
      "False\n",
      "False\n",
      "False\n",
      "False\n",
      "False\n",
      "False\n",
      "False\n",
      "False\n",
      "False\n",
      "(35.147721384128708, -3.8348208595633069)\n",
      "(33.288930724784016, -3.8348208595633069)\n",
      "(31.251328615298888, -3.8348208595633069)\n",
      "(28.741059532218667, -3.8348208595633069)\n",
      "(26.131281196553275, -3.8348208595633069)\n",
      "(23.273161747948333, -3.8348208595633069)\n",
      "(20.232850541296607, -3.8348208595633069)\n",
      "(17.074678650759811, -3.8348208595633069)\n",
      "(13.430633379150487, -3.8348208595633069)\n",
      "(9.9017682269201028, -3.8348208595633069)\n",
      "(6.460439097627332, -3.8348208595633069)\n",
      "(2.5741952733809974, -3.8348208595633069)\n",
      "(-1.1774827117422697, -3.8348208595633069)\n",
      "(-5.1770074721939023, -3.8348208595633069)\n",
      "(-8.5915992847897886, -3.8348208595633069)\n",
      "(-12.256582189928364, -3.8348208595633069)\n",
      "(-15.740530562108152, -3.8348208595633069)\n",
      "(-19.195551633672967, -3.8348208595633069)\n",
      "(-22.101524865612934, -3.8348208595633069)\n",
      "(-25.333718703993746, -3.8348208595633069)\n",
      "(-27.711264788520729, -3.8348208595633069)\n",
      "(-30.321727568073261, -3.8348208595633069)\n",
      "(-32.694510385858337, -3.8348208595633069)\n",
      "(-34.675477457717733, -3.8348208595633069)\n",
      "(-36.416171789777472, -3.8348208595633069)\n",
      "False\n",
      "False\n",
      "False\n",
      "False\n",
      "False\n",
      "False\n",
      "False\n",
      "False\n",
      "False\n",
      "False\n",
      "False\n",
      "False\n",
      "False\n",
      "False\n",
      "False\n",
      "False\n",
      "False\n",
      "False\n",
      "False\n",
      "False\n",
      "False\n",
      "False\n",
      "False\n",
      "False\n",
      "(-36.632988619607502, -3.8348208595633069)\n",
      "(-34.867061420613261, -3.8348208595633069)\n",
      "(-32.887670731618464, -3.8348208595633069)\n",
      "(-30.708730099267569, -3.8348208595633069)\n",
      "(-28.210710685234414, -3.8348208595633069)\n",
      "(-25.500938286892556, -3.8348208595633069)\n",
      "(-22.610723878343627, -3.8348208595633069)\n",
      "(-19.649177121991666, -3.8348208595633069)\n",
      "(-16.35514491346531, -3.8348208595633069)\n",
      "(-12.947796742704082, -3.8348208595633069)\n",
      "(-9.396772808507265, -3.8348208595633069)\n",
      "(-5.5513787580209355, -3.8348208595633069)\n",
      "(-1.8403773312937313, -3.8348208595633069)\n",
      "(2.0085734105238551, -3.8348208595633069)\n",
      "(5.7922353264532322, -3.8348208595633069)\n",
      "(9.686406915521923, -3.8348208595633069)\n"
     ]
    },
    {
     "ename": "KeyboardInterrupt",
     "evalue": "",
     "output_type": "error",
     "traceback": [
      "\u001b[1;31m---------------------------------------------------------------------------\u001b[0m",
      "\u001b[1;31mKeyboardInterrupt\u001b[0m                         Traceback (most recent call last)",
      "\u001b[1;32m<ipython-input-25-0d14f0bd3637>\u001b[0m in \u001b[0;36m<module>\u001b[1;34m()\u001b[0m\n\u001b[0;32m      5\u001b[0m     \u001b[0mx\u001b[0m \u001b[1;33m=\u001b[0m \u001b[0mnp\u001b[0m\u001b[1;33m.\u001b[0m\u001b[0msin\u001b[0m\u001b[1;33m(\u001b[0m\u001b[1;36m2\u001b[0m \u001b[1;33m*\u001b[0m \u001b[1;36m3.14159\u001b[0m \u001b[1;33m*\u001b[0m \u001b[0mtime\u001b[0m\u001b[1;33m.\u001b[0m\u001b[0mtime\u001b[0m\u001b[1;33m(\u001b[0m\u001b[1;33m)\u001b[0m \u001b[1;33m*\u001b[0m \u001b[1;36m0.1\u001b[0m\u001b[1;33m)\u001b[0m\u001b[1;33m\u001b[0m\u001b[0m\n\u001b[0;32m      6\u001b[0m     \u001b[0mz\u001b[0m \u001b[1;33m=\u001b[0m \u001b[0mnp\u001b[0m\u001b[1;33m.\u001b[0m\u001b[0mcos\u001b[0m\u001b[1;33m(\u001b[0m\u001b[1;36m2\u001b[0m \u001b[1;33m*\u001b[0m \u001b[1;36m3.14159\u001b[0m \u001b[1;33m*\u001b[0m \u001b[0mtime\u001b[0m\u001b[1;33m.\u001b[0m\u001b[0mtime\u001b[0m\u001b[1;33m(\u001b[0m\u001b[1;33m)\u001b[0m \u001b[1;33m*\u001b[0m \u001b[1;36m0.1\u001b[0m\u001b[1;33m)\u001b[0m \u001b[1;33m*\u001b[0m \u001b[1;36m0.5\u001b[0m\u001b[1;33m\u001b[0m\u001b[0m\n\u001b[1;32m----> 7\u001b[1;33m     \u001b[0mio\u001b[0m\u001b[1;33m.\u001b[0m\u001b[0mset_object_position\u001b[0m\u001b[1;33m(\u001b[0m\u001b[1;34m'cube'\u001b[0m\u001b[1;33m,\u001b[0m \u001b[0mposition\u001b[0m\u001b[1;33m=\u001b[0m\u001b[1;33m[\u001b[0m\u001b[0mx\u001b[0m\u001b[1;33m,\u001b[0m \u001b[1;33m-\u001b[0m\u001b[1;36m1\u001b[0m\u001b[1;33m,\u001b[0m \u001b[1;36m1\u001b[0m\u001b[1;33m]\u001b[0m\u001b[1;33m)\u001b[0m\u001b[1;33m\u001b[0m\u001b[0m\n\u001b[0m\u001b[0;32m      8\u001b[0m \u001b[1;33m\u001b[0m\u001b[0m\n\u001b[0;32m      9\u001b[0m     \u001b[1;32mif\u001b[0m \u001b[0mtime\u001b[0m\u001b[1;33m.\u001b[0m\u001b[0mtime\u001b[0m\u001b[1;33m(\u001b[0m\u001b[1;33m)\u001b[0m \u001b[1;33m-\u001b[0m \u001b[0mt\u001b[0m \u001b[1;33m>\u001b[0m \u001b[1;36m0.1\u001b[0m\u001b[1;33m:\u001b[0m\u001b[1;33m\u001b[0m\u001b[0m\n",
      "\u001b[1;32mC:\\Users\\Media Markt\\Anaconda3\\lib\\site-packages\\pypot\\vrep\\io.py\u001b[0m in \u001b[0;36mset_object_position\u001b[1;34m(self, object_name, position)\u001b[0m\n\u001b[0;32m    183\u001b[0m         return self.call_remote_api('simxSetObjectPosition',\n\u001b[0;32m    184\u001b[0m                                     \u001b[0mh\u001b[0m\u001b[1;33m,\u001b[0m \u001b[1;33m-\u001b[0m\u001b[1;36m1\u001b[0m\u001b[1;33m,\u001b[0m \u001b[0mposition\u001b[0m\u001b[1;33m,\u001b[0m\u001b[1;33m\u001b[0m\u001b[0m\n\u001b[1;32m--> 185\u001b[1;33m                                     sending=True)\n\u001b[0m\u001b[0;32m    186\u001b[0m \u001b[1;33m\u001b[0m\u001b[0m\n\u001b[0;32m    187\u001b[0m     \u001b[1;32mdef\u001b[0m \u001b[0mget_object_orientation\u001b[0m\u001b[1;33m(\u001b[0m\u001b[0mself\u001b[0m\u001b[1;33m,\u001b[0m \u001b[0mobject_name\u001b[0m\u001b[1;33m,\u001b[0m \u001b[0mrelative_to_object\u001b[0m\u001b[1;33m=\u001b[0m\u001b[1;32mNone\u001b[0m\u001b[1;33m)\u001b[0m\u001b[1;33m:\u001b[0m\u001b[1;33m\u001b[0m\u001b[0m\n",
      "\u001b[1;32mC:\\Users\\Media Markt\\Anaconda3\\lib\\site-packages\\pypot\\vrep\\io.py\u001b[0m in \u001b[0;36mcall_remote_api\u001b[1;34m(self, func_name, *args, **kwargs)\u001b[0m\n\u001b[0;32m    305\u001b[0m         \u001b[1;32mfor\u001b[0m \u001b[0m_\u001b[0m \u001b[1;32min\u001b[0m \u001b[0mrange\u001b[0m\u001b[1;33m(\u001b[0m\u001b[0mVrepIO\u001b[0m\u001b[1;33m.\u001b[0m\u001b[0mMAX_ITER\u001b[0m\u001b[1;33m)\u001b[0m\u001b[1;33m:\u001b[0m\u001b[1;33m\u001b[0m\u001b[0m\n\u001b[0;32m    306\u001b[0m             \u001b[1;32mwith\u001b[0m \u001b[0mself\u001b[0m\u001b[1;33m.\u001b[0m\u001b[0m_lock\u001b[0m\u001b[1;33m:\u001b[0m\u001b[1;33m\u001b[0m\u001b[0m\n\u001b[1;32m--> 307\u001b[1;33m                 \u001b[0mret\u001b[0m \u001b[1;33m=\u001b[0m \u001b[0mf\u001b[0m\u001b[1;33m(\u001b[0m\u001b[0mself\u001b[0m\u001b[1;33m.\u001b[0m\u001b[0mclient_id\u001b[0m\u001b[1;33m,\u001b[0m \u001b[1;33m*\u001b[0m\u001b[0margs\u001b[0m\u001b[1;33m,\u001b[0m \u001b[1;33m**\u001b[0m\u001b[0mkwargs\u001b[0m\u001b[1;33m)\u001b[0m\u001b[1;33m\u001b[0m\u001b[0m\n\u001b[0m\u001b[0;32m    308\u001b[0m \u001b[1;33m\u001b[0m\u001b[0m\n\u001b[0;32m    309\u001b[0m             \u001b[1;32mif\u001b[0m \u001b[0m_force\u001b[0m\u001b[1;33m:\u001b[0m\u001b[1;33m\u001b[0m\u001b[0m\n",
      "\u001b[1;32mC:\\Users\\Media Markt\\Anaconda3\\lib\\site-packages\\pypot\\vrep\\remoteApiBindings\\vrep.py\u001b[0m in \u001b[0;36mwrapped_f\u001b[1;34m(*args, **kwargs)\u001b[0m\n\u001b[0;32m    169\u001b[0m             \u001b[0mkwargs\u001b[0m \u001b[1;33m=\u001b[0m \u001b[1;33m{\u001b[0m\u001b[0mk\u001b[0m\u001b[1;33m:\u001b[0m \u001b[0mtbs\u001b[0m\u001b[1;33m(\u001b[0m\u001b[0mv\u001b[0m\u001b[1;33m)\u001b[0m \u001b[1;32mif\u001b[0m \u001b[0misinstance\u001b[0m\u001b[1;33m(\u001b[0m\u001b[0mv\u001b[0m\u001b[1;33m,\u001b[0m \u001b[0mstr\u001b[0m\u001b[1;33m)\u001b[0m \u001b[1;32melse\u001b[0m \u001b[0mv\u001b[0m \u001b[1;32mfor\u001b[0m \u001b[0mk\u001b[0m\u001b[1;33m,\u001b[0m \u001b[0mv\u001b[0m \u001b[1;32min\u001b[0m \u001b[0mlist\u001b[0m\u001b[1;33m(\u001b[0m\u001b[0mkwargs\u001b[0m\u001b[1;33m.\u001b[0m\u001b[0mitems\u001b[0m\u001b[1;33m(\u001b[0m\u001b[1;33m)\u001b[0m\u001b[1;33m)\u001b[0m\u001b[1;33m}\u001b[0m\u001b[1;33m\u001b[0m\u001b[0m\n\u001b[0;32m    170\u001b[0m \u001b[1;33m\u001b[0m\u001b[0m\n\u001b[1;32m--> 171\u001b[1;33m             \u001b[1;32mreturn\u001b[0m \u001b[0mf\u001b[0m\u001b[1;33m(\u001b[0m\u001b[1;33m*\u001b[0m\u001b[0margs\u001b[0m\u001b[1;33m,\u001b[0m \u001b[1;33m**\u001b[0m\u001b[0mkwargs\u001b[0m\u001b[1;33m)\u001b[0m\u001b[1;33m\u001b[0m\u001b[0m\n\u001b[0m\u001b[0;32m    172\u001b[0m \u001b[1;33m\u001b[0m\u001b[0m\n\u001b[0;32m    173\u001b[0m         \u001b[1;32mreturn\u001b[0m \u001b[0mwrapped_f\u001b[0m\u001b[1;33m\u001b[0m\u001b[0m\n",
      "\u001b[1;32mC:\\Users\\Media Markt\\Anaconda3\\lib\\site-packages\\pypot\\vrep\\remoteApiBindings\\vrep.py\u001b[0m in \u001b[0;36msimxSetObjectPosition\u001b[1;34m(clientID, objectHandle, relativeToObjectHandle, position, operationMode)\u001b[0m\n\u001b[0;32m    606\u001b[0m \u001b[1;33m\u001b[0m\u001b[0m\n\u001b[0;32m    607\u001b[0m     \u001b[0mc_position\u001b[0m \u001b[1;33m=\u001b[0m \u001b[1;33m(\u001b[0m\u001b[0mc_float\u001b[0m\u001b[1;33m*\u001b[0m\u001b[1;36m3\u001b[0m\u001b[1;33m)\u001b[0m\u001b[1;33m(\u001b[0m\u001b[1;33m*\u001b[0m\u001b[0mposition\u001b[0m\u001b[1;33m)\u001b[0m\u001b[1;33m\u001b[0m\u001b[0m\n\u001b[1;32m--> 608\u001b[1;33m     \u001b[1;32mreturn\u001b[0m \u001b[0mc_SetObjectPosition\u001b[0m\u001b[1;33m(\u001b[0m\u001b[0mclientID\u001b[0m\u001b[1;33m,\u001b[0m \u001b[0mobjectHandle\u001b[0m\u001b[1;33m,\u001b[0m \u001b[0mrelativeToObjectHandle\u001b[0m\u001b[1;33m,\u001b[0m \u001b[0mc_position\u001b[0m\u001b[1;33m,\u001b[0m \u001b[0moperationMode\u001b[0m\u001b[1;33m)\u001b[0m\u001b[1;33m\u001b[0m\u001b[0m\n\u001b[0m\u001b[0;32m    609\u001b[0m \u001b[1;33m\u001b[0m\u001b[0m\n\u001b[0;32m    610\u001b[0m \u001b[1;33m@\u001b[0m\u001b[0mpy3compatible\u001b[0m\u001b[1;33m\u001b[0m\u001b[0m\n",
      "\u001b[1;31mKeyboardInterrupt\u001b[0m: "
     ]
    }
   ],
   "source": [
    "# draw single line trace\n",
    "t = time.time()\n",
    "\n",
    "while 1:\n",
    "    x = np.sin(2 * 3.14159 * time.time() * 0.1)\n",
    "    z = np.cos(2 * 3.14159 * time.time() * 0.1) * 0.5\n",
    "    io.set_object_position('cube', position=[x, -1, 1])\n",
    "\n",
    "    if time.time() - t > 0.1:\n",
    "        print(canSeeJudge(headForwardDirection(), objectRelPosition(name)))\n",
    "        t = time.time()"
   ]
  },
  {
   "cell_type": "markdown",
   "metadata": {},
   "source": [
    "# Pseudo-CV algorithm"
   ]
  },
  {
   "cell_type": "code",
   "execution_count": 1,
   "metadata": {
    "collapsed": false
   },
   "outputs": [
    {
     "name": "stdout",
     "output_type": "stream",
     "text": [
      "(-38.94121085146994, -38.94121085146994)\n"
     ]
    }
   ],
   "source": [
    "from poppy.creatures import PoppyTorso\n",
    "import numpy as np\n",
    "import time\n",
    "\n",
    "poppy = PoppyTorso(simulator='vrep')\n",
    "\n",
    "{m.name: m.present_position for m in poppy.head}\n",
    "\n",
    "poppy.head_z.goal_position = 0\n",
    "poppy.head_y.goal_position = 0\n",
    "\n",
    "io = poppy._controllers[0].io\n",
    "\n",
    "name = 'cube'\n",
    "position = [-0.2, -0.3, 0.9] # X, Y, Z\n",
    "sizes = [0.01, 0.01, 0.01] # in meters\n",
    "mass = 0 # in kg\n",
    "io.add_cube(name, position, sizes, mass)\n",
    "\n",
    "# Output the heading direction of camera\n",
    "\n",
    "def headForwardDirection():\n",
    "    angleNegativeY = poppy.head_z.present_position\n",
    "    angleSurfaceXY = - poppy.head_y.present_position\n",
    "\n",
    "    angleNegativeY = angleNegativeY / 180 * 3.14159\n",
    "    angleSurfaceXY = angleSurfaceXY / 180 * 3.14159\n",
    "\n",
    "    y = - np.cos(angleSurfaceXY) * np.cos(angleNegativeY)\n",
    "    x = np.cos(angleSurfaceXY) * np.sin(angleNegativeY)\n",
    "    z = np.sin(angleSurfaceXY)\n",
    "\n",
    "    forwardDire = [x, y, z]\n",
    "    return forwardDire\n",
    "\n",
    "# Output the relative position of object w.r.t camera position\n",
    "\n",
    "def objectRelPosition(name):\n",
    "    objectPos = io.get_object_position(name)\n",
    "    positionCameraOri = [0, -0.05, 1.06] # Camera's position in Vrep\n",
    "\n",
    "    objectRelPos = [objectPos[i] - positionCameraOri[i] for i in range(0,3)]\n",
    "\n",
    "    return objectRelPos\n",
    "\n",
    "# Output the angels(horizontal, vertical) of object w.r.t the center of camera sight\n",
    "# If object is not in sight, return False\n",
    "\n",
    "def canSeeJudge(headForwardDirection, objectRelPos):\n",
    "    orthognalBasis1 = headForwardDirection\n",
    "    orthognalBasis2 = [orthognalBasis1[1], -orthognalBasis1[0], 0]\n",
    "    normOrthBasis2 = np.linalg.norm(orthognalBasis2)\n",
    "    orthognalBasis2 =  [orthognalBasis2[i] / normOrthBasis2 for i in range(0,3) ]\n",
    "    orthognalBasis3 = np.cross(orthognalBasis2, orthognalBasis1)\n",
    "\n",
    "    objectProjectionOnOrthBasis1 = np.dot(objectRelPos, orthognalBasis1)\n",
    "    # if objectProjectionOnOrthBasis1 < 0:\n",
    "        # return False\n",
    "    objectProjectionOnOrthBasis2 = np.dot(objectRelPos, orthognalBasis2)\n",
    "    objectProjectionOnOrthBasis3 = np.dot(objectRelPos, orthognalBasis3)\n",
    "\n",
    "    newCoordinate = [objectProjectionOnOrthBasis1, objectProjectionOnOrthBasis2, objectProjectionOnOrthBasis3]\n",
    "\n",
    "    tt = [1, 0, 0]\n",
    "\n",
    "    t = [objectProjectionOnOrthBasis1, objectProjectionOnOrthBasis2, 0]\n",
    "    angle1 = np.arccos(np.dot(tt, t) / np.linalg.norm(t)) / 3.14159 * 180\n",
    "\n",
    "    \"\"\"    \n",
    "    if abs(angle1) > 37:\n",
    "        return False\n",
    "    t = [objectProjectionOnOrthBasis1, 0, objectProjectionOnOrthBasis3]\n",
    "    \"\"\"\n",
    "    angle2 = np.arccos(np.dot(tt, t) / np.linalg.norm(t)) / 3.14159 * 180\n",
    "    # if abs(angle2) > 18.5:\n",
    "        # return False\n",
    "\n",
    "    \n",
    "    if objectProjectionOnOrthBasis3 < 0 and angle2 > 0:\n",
    "        angle2 = -angle2\n",
    "\n",
    "    if objectProjectionOnOrthBasis2 > 0 and angle1 > 0:\n",
    "        angle1 = -angle1\n",
    "    return angle1, angle2\n",
    "\n",
    "# Output the state of problem\n",
    "def getState(angle, m, n):\n",
    "    if not angle:\n",
    "        print(\"The object can't be seen\")\n",
    "        return False\n",
    "    angle1 = angle[0]\n",
    "    angle2 = angle[1]\n",
    "    unit1 = 2 * np.cos(angle1) / m\n",
    "    unit2 = 2 * np.cos(angle2) / n\n",
    "    state1 = np.cos(angle1) / unit1\n",
    "    state2 = np.cos(angle2) / unit2\n",
    "    if angle1 > 0:\n",
    "        state1 = -state1\n",
    "    if angle2 < 0:\n",
    "        state2 = -state2\n",
    "    return (state1, state2)\n",
    "\n",
    "test = canSeeJudge(headForwardDirection(), objectRelPosition(name))\n",
    "print(test)"
   ]
  },
  {
   "cell_type": "code",
   "execution_count": 4,
   "metadata": {
    "collapsed": false
   },
   "outputs": [
    {
     "name": "stdout",
     "output_type": "stream",
     "text": [
      "0.4\n",
      "start_value 0 -62.2382251629\n",
      "0\n",
      "angleZ 63.5\n",
      "0 right (0, 0, 1, 0, 0)\n",
      "1\n",
      "angleZ none\n",
      "(0, 0, 1, 0, 0) none (0, 0, 1, 0, 0)\n",
      "0\n",
      "start_value 1 1.47537990991\n",
      "0\n",
      "start_value 2 1.47537990991\n",
      "0\n",
      "start_value 3 1.47537990991\n",
      "-0.4\n",
      "start_value 4 1.47537990991\n",
      "0\n",
      "start_value 5 1.47537990991\n",
      "0.4\n",
      "start_value 6 1.47537990991\n",
      "0\n",
      "start_value 7 1.47537990991\n",
      "0.4\n",
      "start_value 8 1.47537990991\n",
      "0\n",
      "start_value 9 1.47537990991\n",
      "0\n",
      "start_value 10 1.47537990991\n",
      "-0.4\n",
      "start_value 11 1.47537990991\n",
      "-0.4\n",
      "start_value 12 1.47537990991\n",
      "0\n",
      "start_value 13 1.47537990991\n",
      "-0.4\n",
      "start_value 14 1.47537990991\n",
      "0.4\n",
      "start_value 15 1.47537990991\n",
      "0.4\n",
      "start_value 16 1.47537990991\n",
      "-0.4\n",
      "start_value 17 1.47537990991\n",
      "0\n",
      "start_value 18 1.47537990991\n",
      "0\n",
      "start_value 19 1.47537990991\n",
      "-0.4\n",
      "start_value 20 1.47537990991\n",
      "-0.4\n",
      "start_value 21 1.47537990991\n",
      "0.4\n",
      "start_value 22 1.47537990991\n",
      "0\n",
      "start_value 23 1.47537990991\n",
      "0\n",
      "start_value 24 1.47537990991\n",
      "0\n",
      "start_value 25 1.47537990991\n",
      "-0.4\n",
      "start_value 26 1.47537990991\n",
      "-0.4\n",
      "start_value 27 1.47537990991\n",
      "0\n",
      "start_value 28 1.47537990991\n",
      "0.4\n",
      "start_value 29 1.47537990991\n",
      "0\n",
      "start_value 30 1.47537990991\n",
      "0.4\n",
      "start_value 31 1.47537990991\n",
      "0.4\n",
      "start_value 32 1.47537990991\n",
      "0.4\n",
      "start_value 33 1.47537990991\n",
      "0\n",
      "start_value 34 1.47537990991\n",
      "-0.4\n",
      "start_value 35 1.47537990991\n",
      "0.4\n",
      "start_value 36 1.47537990991\n",
      "-0.4\n",
      "start_value 37 1.47537990991\n",
      "0.4\n",
      "start_value 38 1.47537990991\n",
      "0\n",
      "start_value 39 1.47537990991\n",
      "0.4\n",
      "start_value 40 1.47537990991\n",
      "0.4\n",
      "start_value 41 1.47537990991\n",
      "0\n",
      "start_value 42 1.47537990991\n",
      "0\n",
      "start_value 43 1.47537990991\n",
      "0\n",
      "start_value 44 1.47537990991\n",
      "0\n",
      "start_value 45 1.47537990991\n",
      "0\n",
      "start_value 46 1.47537990991\n",
      "0\n",
      "start_value 47 1.47537990991\n",
      "-0.4\n",
      "start_value 48 1.47537990991\n",
      "0\n",
      "start_value 49 1.47537990991\n",
      "['left', 'left', 'left', 'none', 'right', 'left', 'left'] [0, 0, 0, 1, 0, 0, 1]\n"
     ]
    }
   ],
   "source": [
    "\"\"\"\n",
    "S = [(0,0,0,0,0), (1,0,0,0,0), (0,1,0,0,0), (0,0,1,0,0), (0,0,0,1,0), (0,0,0,0,1), 0]\n",
    "\n",
    "a_pi = ['left', 'left', 'left', 'left', 'left', 'left', 'left']\n",
    "V = [0,0,0,0,0,0,0]\n",
    "\"\"\"\n",
    "# io.set_object_position('cube', position=[-0.2, -0.3, 0.9])\n",
    "io = poppy._controllers[0].io\n",
    "\n",
    "#\"\"\"\n",
    "A = ['left', 'right', 'none']\n",
    "S = [(0,0,0,0,0), (1,0,0,0,0), (0,1,0,0,0), (0,0,1,0,0), (0,0,0,1,0), (0,0,0,0,1), 0]\n",
    "a_pi = ['left', 'left', 'left', 'none', 'right', 'right', 'right']\n",
    "V = [0,0,0,0,0,0,0]\n",
    "successor = [(0,0,0,0,0), (1,0,0,0,0), (0,1,0,0,0), (0,0,1,0,0), (0,0,0,1,0), (0,0,0,0,1), 0]\n",
    "#\"\"\"\n",
    "\n",
    "import random\n",
    "\n",
    "def getState_5_1(angle):\n",
    "    angle = -angle\n",
    "    # print('getSTate_5_1', angle)\n",
    "    if angle > 37:\n",
    "        return 0 # problem: die bisherige Funktion unterscheidet nicht zwischen 0 links und (0,0,0,0,0 rechts)\n",
    "    elif angle <= 7.4 and angle > -7.4:\n",
    "        return (0,0,1,0,0)\n",
    "    elif angle <= 22.2 and angle > 7.4:\n",
    "        return (0,0,0,1,0)\n",
    "    elif angle <= 37 and angle > 22.4:\n",
    "        return (0,0,0,0,1)\n",
    "    elif angle > -22.2 and angle <= -7.4:\n",
    "        return (0,1,0,0,0)\n",
    "    elif angle > -37 and angle <= -22.4:\n",
    "        return (1,0,0,0,0)\n",
    "    elif angle <= -37:\n",
    "        return (0,0,0,0,0)\n",
    "\n",
    "def apply_action(a):\n",
    "    if a == 'none':\n",
    "        print('angleZ', 'none')\n",
    "        # nothing\n",
    "        time.sleep(0.5)\n",
    "    elif a == 'right':        \n",
    "        angleZ = poppy.head_z.present_position\n",
    "        poppy.head_z.goal_position = angleZ - 7\n",
    "        print('angleZ', angleZ)\n",
    "        time.sleep(0.5)\n",
    "    elif a == 'left':\n",
    "        angleZ = poppy.head_z.present_position\n",
    "        poppy.head_z.goal_position = angleZ + 7\n",
    "        print('angleZ', angleZ)\n",
    "        time.sleep(0.5)\n",
    "    return True\n",
    "\n",
    "def reward(s,a,s_):\n",
    "    final_state = (0,0,1,0,0)\n",
    "    out_of_range = [(0,0,0,0,0), 0]\n",
    "    if s_ in out_of_range:\n",
    "        return_value = -1\n",
    "    elif s_ == final_state:\n",
    "        return_value = 1\n",
    "    else:\n",
    "        return_value = 0\n",
    "    return return_value\n",
    "\n",
    "def get_state(s):\n",
    "    # take Image and transform it into state\n",
    "    return s\n",
    "\n",
    "def get_successor(s,a):\n",
    "    #\"\"\"\n",
    "    curr_pos = S.index(s)\n",
    "    next_pos = curr_pos + ('right' == a)*(-1) + ('left' == a)*1 + ('none' == a)*0\n",
    "    if next_pos >= 6: # needs to be adapted in case of a real robot\n",
    "        s_ = 0\n",
    "    elif next_pos < 1: # or next_pos >= 6\n",
    "        s_ = (0,0,0,0,0)\n",
    "    else:\n",
    "        s_ = S[next_pos] # is alright because it is overall compansated with the index-acquisition above\n",
    "    return s_\n",
    "    #\"\"\"\n",
    "    # return successor[S.index(s)]\n",
    "    \n",
    "    \n",
    "def is_neighbor_state(s,s_):\n",
    "    return True\n",
    "\n",
    "def td_policy_iteration():\n",
    "    io = poppy._controllers[0].io\n",
    "    poppy.head_z.goal_position = 1\n",
    "    poppy.head_y.goal_position = 1\n",
    "    alpha = 1\n",
    "    gamma = 1\n",
    "    for i in range(0,50): # set condition that ensures convergence\n",
    "        pos_set = [-0.4, 0, 0.4]\n",
    "        x = random.choice(pos_set)\n",
    "        io.set_object_position('cube', position=[x, -0.3, 0.9])\n",
    "        print(x)\n",
    "        # s_ = (0,1,0,0,0) # start state\n",
    "        # s = (0,1,0,0,0) # start state\n",
    "        # s = random.choice(S)\n",
    "        # s = S[random.randint(0,6)] # MATHSIMUL\n",
    "        # s_ = s # MATHSIMUL\n",
    "        headForwardDirecti = headForwardDirection() #REAL ACTION\n",
    "        objectRelPos = objectRelPosition(name) #REAL ACTION\n",
    "        angle1, angle2 = canSeeJudge(headForwardDirecti, objectRelPos) #REAL ACTION\n",
    "        s = getState_5_1(angle1) #REAL ACTION\n",
    "        k = 0\n",
    "        print('start_value', i, angle1)\n",
    "        while s != (0,0,1,0,0) and k < 100: # substitute by while-Loop (until convergence)\n",
    "            print(k)\n",
    "            # for k in range(0,20):\n",
    "            # s = get_state(s_) # MATHSIMUL\n",
    "            headForwardDirecti = headForwardDirection() #REAL ACTION\n",
    "            objectRelPos = objectRelPosition(name) #REAL ACTION\n",
    "            angle1, angle2 = canSeeJudge(headForwardDirecti, objectRelPos) #REAL ACTION\n",
    "            s = getState_5_1(angle1) #REAL ACTION\n",
    "            a = a_pi[S.index(s)] #BOTH\n",
    "            reval = apply_action(a) #REAL ACTION\n",
    "            # s_ = get_successor(s,a) #MATHSIMUL\n",
    "            headForwardDirecti = headForwardDirection() #REAL ACTION\n",
    "            objectRelPos = objectRelPosition(name) #REAL ACTION\n",
    "            angle1, angle2 = canSeeJudge(headForwardDirecti, objectRelPos) #REAL ACTION\n",
    "            s_ = getState_5_1(angle1) #REAL ACTION\n",
    "            successor[ S.index(s) ] = s_ #REAL ACTION\n",
    "            print(s, a, s_) #BOTH\n",
    "            # s_ = get_state(get_successor(s,a)) #MATHSIMUL\n",
    "            V[S.index(s)] = V[S.index(s)] + alpha*(reward(s,a,s_) + gamma*V[S.index(s_)] - V[S.index(s)])\n",
    "            k = k + 1\n",
    "        for s in S:\n",
    "            # Reference: https://inst.eecs.berkeley.edu/~cs294-40/fa08/scribes/lecture17.pdf\n",
    "            # greedify with respect to the optimal function\n",
    "            action_return_vector = list()\n",
    "            for a in A:\n",
    "                action_return_vector.append( V[ S.index(get_successor(s,a)) ])\n",
    "            a_pi[S.index(s)] = A[ action_return_vector.index( max(action_return_vector) ) ]\n",
    "            # print('updated', a_pi)\n",
    "    return a_pi, V\n",
    "Alpha, V_seq = td_policy_iteration()\n",
    "print(Alpha,V)"
   ]
  },
  {
   "cell_type": "code",
   "execution_count": 3,
   "metadata": {
    "collapsed": false
   },
   "outputs": [
    {
     "name": "stdout",
     "output_type": "stream",
     "text": [
      "range(0, 3)\n"
     ]
    }
   ],
   "source": [
    "a = range(3)\n",
    "print(a)"
   ]
  },
  {
   "cell_type": "code",
   "execution_count": 4,
   "metadata": {
    "collapsed": false
   },
   "outputs": [],
   "source": [
    "x = 0\n",
    "\n",
    "io.set_object_position('cube', position=[-0.3, -0.3, 0.9])"
   ]
  },
  {
   "cell_type": "code",
   "execution_count": 18,
   "metadata": {
    "collapsed": false
   },
   "outputs": [
    {
     "data": {
      "text/plain": [
       "0.3"
      ]
     },
     "execution_count": 18,
     "metadata": {},
     "output_type": "execute_result"
    }
   ],
   "source": [
    "x = [-0.3, -0.2, -0.1, 0.0, 0.1, 0.2, 0.3]\n",
    "random.choice(pos_set)"
   ]
  },
  {
   "cell_type": "code",
   "execution_count": null,
   "metadata": {
    "collapsed": true
   },
   "outputs": [],
   "source": []
  }
 ],
 "metadata": {
  "celltoolbar": "Edit Metadata",
  "kernelspec": {
   "display_name": "Python 3",
   "language": "python",
   "name": "python3"
  },
  "language_info": {
   "codemirror_mode": {
    "name": "ipython",
    "version": 3
   },
   "file_extension": ".py",
   "mimetype": "text/x-python",
   "name": "python",
   "nbconvert_exporter": "python",
   "pygments_lexer": "ipython3",
   "version": "3.5.1"
  }
 },
 "nbformat": 4,
 "nbformat_minor": 0
}
