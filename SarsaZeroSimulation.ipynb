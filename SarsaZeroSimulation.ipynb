{
 "cells": [
  {
   "cell_type": "markdown",
   "metadata": {},
   "source": [
    "# Predefine libs and simulator enviroment"
   ]
  },
  {
   "cell_type": "code",
   "execution_count": 1,
   "metadata": {
    "collapsed": false
   },
   "outputs": [
    {
     "ename": "IOError",
     "evalue": "Connection to V-REP failed!",
     "output_type": "error",
     "traceback": [
      "\u001b[0;31m---------------------------------------------------------------------------\u001b[0m",
      "\u001b[0;31mIOError\u001b[0m                                   Traceback (most recent call last)",
      "\u001b[0;32m<ipython-input-1-ac2438941b9e>\u001b[0m in \u001b[0;36m<module>\u001b[0;34m()\u001b[0m\n\u001b[1;32m      4\u001b[0m \u001b[0;32mimport\u001b[0m \u001b[0mmath\u001b[0m\u001b[0;34m\u001b[0m\u001b[0m\n\u001b[1;32m      5\u001b[0m \u001b[0;34m\u001b[0m\u001b[0m\n\u001b[0;32m----> 6\u001b[0;31m \u001b[0mpoppy\u001b[0m \u001b[0;34m=\u001b[0m \u001b[0mPoppyTorso\u001b[0m\u001b[0;34m(\u001b[0m\u001b[0msimulator\u001b[0m\u001b[0;34m=\u001b[0m\u001b[0;34m'vrep'\u001b[0m\u001b[0;34m)\u001b[0m            \u001b[0;31m# Load the poppy model\u001b[0m\u001b[0;34m\u001b[0m\u001b[0m\n\u001b[0m\u001b[1;32m      7\u001b[0m \u001b[0;34m\u001b[0m\u001b[0m\n\u001b[1;32m      8\u001b[0m \u001b[0;31m# Load object\u001b[0m\u001b[0;34m\u001b[0m\u001b[0;34m\u001b[0m\u001b[0m\n",
      "\u001b[0;32m/Library/Frameworks/Python.framework/Versions/2.7/lib/python2.7/site-packages/poppy/creatures/abstractcreature.pyc\u001b[0m in \u001b[0;36m__new__\u001b[0;34m(cls, base_path, config, simulator, scene, host, port, id, use_snap, snap_host, snap_port, snap_quiet, use_http, http_host, http_port, http_quiet, use_remote, remote_host, remote_port, start_background_services, sync, **extra)\u001b[0m\n\u001b[1;32m    105\u001b[0m                     \u001b[0mpoppy_creature\u001b[0m \u001b[0;34m=\u001b[0m \u001b[0mfrom_vrep\u001b[0m\u001b[0;34m(\u001b[0m\u001b[0mconfig\u001b[0m\u001b[0;34m,\u001b[0m \u001b[0mhost\u001b[0m\u001b[0;34m,\u001b[0m \u001b[0mport\u001b[0m\u001b[0;34m,\u001b[0m \u001b[0mscene\u001b[0m\u001b[0;34m)\u001b[0m\u001b[0;34m\u001b[0m\u001b[0m\n\u001b[1;32m    106\u001b[0m                 \u001b[0;32mexcept\u001b[0m \u001b[0mVrepConnectionError\u001b[0m\u001b[0;34m:\u001b[0m\u001b[0;34m\u001b[0m\u001b[0m\n\u001b[0;32m--> 107\u001b[0;31m                     \u001b[0;32mraise\u001b[0m \u001b[0mIOError\u001b[0m\u001b[0;34m(\u001b[0m\u001b[0;34m'Connection to V-REP failed!'\u001b[0m\u001b[0;34m)\u001b[0m\u001b[0;34m\u001b[0m\u001b[0m\n\u001b[0m\u001b[1;32m    108\u001b[0m \u001b[0;34m\u001b[0m\u001b[0m\n\u001b[1;32m    109\u001b[0m             \u001b[0;32melif\u001b[0m \u001b[0msimulator\u001b[0m \u001b[0;34m==\u001b[0m \u001b[0;34m'poppy-simu'\u001b[0m\u001b[0;34m:\u001b[0m\u001b[0;34m\u001b[0m\u001b[0m\n",
      "\u001b[0;31mIOError\u001b[0m: Connection to V-REP failed!"
     ]
    }
   ],
   "source": [
    "from poppy.creatures import PoppyTorso\n",
    "import numpy as np\n",
    "import time\n",
    "import math\n",
    "\n",
    "poppy = PoppyTorso(simulator='vrep')            # Load the poppy model\n",
    "        \n",
    "# Load object\n",
    "io = poppy._controllers[0].io\n",
    "name = 'cube'\n",
    "position = [0, -0.15, 0.85] # X, Y, Z\n",
    "sizes = [0.1, 0.1, 0.1] # in meters\n",
    "mass = 0 # in kg\n",
    "io.add_cube(name, position, sizes, mass)\n",
    "time.sleep(1)\n",
    "name1 = 'cube2'\n",
    "position1 = [0, -1, 0.5]\n",
    "sizes1 = [3, 0.3, 1]\n",
    "io.add_cube(name1, position1, sizes1, mass)\n",
    "io.set_object_position('cube', position=[0, -1, 1.05])"
   ]
  },
  {
   "cell_type": "markdown",
   "metadata": {},
   "source": [
    "# Parameters define"
   ]
  },
  {
   "cell_type": "code",
   "execution_count": null,
   "metadata": {
    "collapsed": true
   },
   "outputs": [],
   "source": [
    "positionMatrixSizeX, positionMatrixSizeY = 3, 1\n",
    "actionMatrixSize = (3, 3)\n",
    "movementUnit = 3;"
   ]
  },
  {
   "cell_type": "code",
   "execution_count": null,
   "metadata": {
    "collapsed": true
   },
   "outputs": [],
   "source": [
    "\n",
    "############################ Pseudo CV algorithm ##############################\n",
    "\n",
    "# Output the heading direction of camera\n",
    "\n",
    "def headForwardDirection():\n",
    "    angleNegativeY = poppy.head_z.present_position\n",
    "    angleSurfaceXY = - poppy.head_y.present_position\n",
    "\n",
    "    angleNegativeY = angleNegativeY / 180 * 3.14159\n",
    "    angleSurfaceXY = angleSurfaceXY / 180 * 3.14159\n",
    "\n",
    "    y = - np.cos(angleSurfaceXY) * np.cos(angleNegativeY)\n",
    "    x = np.cos(angleSurfaceXY) * np.sin(angleNegativeY)\n",
    "    z = np.sin(angleSurfaceXY)\n",
    "\n",
    "    forwardDire = [x, y, z]\n",
    "    return forwardDire\n",
    "\n",
    "# Output the relative position of object w.r.t camera position\n",
    "\n",
    "def objectRelPosition(name):\n",
    "    objectPos = io.get_object_position(name)\n",
    "    positionCameraOri = [0, -0.05, 1.06] # Camera's position in Vrep\n",
    "\n",
    "    objectRelPos = [objectPos[i] - positionCameraOri[i] for i in xrange(3)]\n",
    "\n",
    "    return objectRelPos\n",
    "\n",
    "# Output the angels(horizontal, vertical) of object w.r.t the center of camera sight\n",
    "# If object is not in sight, return False\n",
    "\n",
    "def canSeeJudge(headForwardDirection, objectRelPos):\n",
    "    orthognalBasis1 = headForwardDirection\n",
    "    orthognalBasis2 = [orthognalBasis1[1], -orthognalBasis1[0], 0]\n",
    "    normOrthBasis2 = np.linalg.norm(orthognalBasis2)\n",
    "    orthognalBasis2 =  [orthognalBasis2[i] / normOrthBasis2 for i in xrange(3) ]\n",
    "    orthognalBasis3 = np.cross(orthognalBasis2, orthognalBasis1)\n",
    "\n",
    "    objectProjectionOnOrthBasis1 = np.dot(objectRelPos, orthognalBasis1)\n",
    "    if objectProjectionOnOrthBasis1 < 0:\n",
    "        return False\n",
    "    objectProjectionOnOrthBasis2 = np.dot(objectRelPos, orthognalBasis2)\n",
    "    objectProjectionOnOrthBasis3 = np.dot(objectRelPos, orthognalBasis3)\n",
    "\n",
    "    newCoordinate = [objectProjectionOnOrthBasis1, objectProjectionOnOrthBasis2, objectProjectionOnOrthBasis3]\n",
    "\n",
    "    tt = [1, 0, 0]\n",
    "\n",
    "    t = [objectProjectionOnOrthBasis1, objectProjectionOnOrthBasis2, 0]\n",
    "    angle1 = np.arccos(np.dot(tt, t) / np.linalg.norm(t)) / 3.14159 * 180\n",
    "\n",
    "    if abs(angle1) > 37:\n",
    "        return False\n",
    "    t = [objectProjectionOnOrthBasis1, 0, objectProjectionOnOrthBasis3]\n",
    "    angle2 = np.arccos(np.dot(tt, t) / np.linalg.norm(t)) / 3.14159 * 180\n",
    "    if abs(angle2) > 18.5:\n",
    "        return False\n",
    "    \n",
    "    if objectProjectionOnOrthBasis3 < 0 and angle2 > 0:\n",
    "        angle2 = -angle2\n",
    "\n",
    "    if objectProjectionOnOrthBasis2 > 0 and angle1 > 0:\n",
    "        angle1 = -angle1\n",
    "    return angle1, angle2\n",
    "\n",
    "# Output the state of problem\n",
    "def getState(angle, positionMatriX, positionMatriY):\n",
    "    if not angle:\n",
    "        print \"The object can't be seen\"\n",
    "        return False\n",
    "    angle1, angle2 = angle\n",
    "    state1 = math.ceil(abs(np.sin(angle1 / 180.0 * 3.14159) / np.sin(37 / 180.0 * 3.14159) * positionMatriX))\n",
    "    state2 = math.ceil(abs(np.sin(angle2 / 180.0 * 3.14159) / np.sin(18.5 / 180.0 * 3.14159) * positionMatriY))\n",
    "    if angle1 > 0:\n",
    "        state1 = -state1\n",
    "    if angle2 < 0:\n",
    "        state2 = -state2\n",
    "    return (state1, state2)\n",
    "\n",
    "##############################################################################"
   ]
  },
  {
   "cell_type": "code",
   "execution_count": null,
   "metadata": {
    "collapsed": true
   },
   "outputs": [],
   "source": [
    "# Motor action configuration\n",
    "def headMotion(action, movementUnit):\n",
    "    z, y = action\n",
    "    angleY = poppy.head_y.present_position\n",
    "    angleZ = poppy.head_z.present_position    \n",
    "    if y < 0 and angleY + y < 0:\n",
    "        dxl_io.set_goal_position({37: angleY + y * movementUnit})\n",
    "    if y > 0 and angleY + y < 40:\n",
    "        dxl_io.set_goal_position({37: angleY + y * movementUnit})\n",
    "    if z < 0 and angleY + z > -90:\n",
    "        dxl_io.set_goal_position({36: angleZ + z * movementUnit})\n",
    "    if z > 0 and angleY + z < 90:\n",
    "        dxl_io.set_goal_position({36: angleZ + z * movementUnit})\n",
    "    time.sleep(0.02)"
   ]
  },
  {
   "cell_type": "code",
   "execution_count": null,
   "metadata": {
    "collapsed": true
   },
   "outputs": [],
   "source": []
  }
 ],
 "metadata": {
  "kernelspec": {
   "display_name": "Python 2",
   "language": "python",
   "name": "python2"
  },
  "language_info": {
   "codemirror_mode": {
    "name": "ipython",
    "version": 2
   },
   "file_extension": ".py",
   "mimetype": "text/x-python",
   "name": "python",
   "nbconvert_exporter": "python",
   "pygments_lexer": "ipython2",
   "version": "2.7.11"
  }
 },
 "nbformat": 4,
 "nbformat_minor": 0
}
