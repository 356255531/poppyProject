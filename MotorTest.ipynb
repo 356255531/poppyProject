{
 "cells": [
  {
   "cell_type": "code",
   "execution_count": 2,
   "metadata": {
    "collapsed": false
   },
   "outputs": [],
   "source": [
    "import pypot.dynamixel\n",
    "import itertools\n",
    "import time"
   ]
  },
  {
   "cell_type": "code",
   "execution_count": 2,
   "metadata": {
    "collapsed": false
   },
   "outputs": [
    {
     "ename": "NameError",
     "evalue": "name 'dxl_io' is not defined",
     "output_type": "error",
     "traceback": [
      "\u001b[0;31m---------------------------------------------------------------------------\u001b[0m",
      "\u001b[0;31mNameError\u001b[0m                                 Traceback (most recent call last)",
      "\u001b[0;32m<ipython-input-2-3f1133d9aa2e>\u001b[0m in \u001b[0;36m<module>\u001b[0;34m()\u001b[0m\n\u001b[1;32m      1\u001b[0m \u001b[0;31m# Feasible Angle Test\u001b[0m\u001b[0;34m\u001b[0m\u001b[0;34m\u001b[0m\u001b[0m\n\u001b[0;32m----> 2\u001b[0;31m \u001b[0mangleBefore\u001b[0m \u001b[0;34m=\u001b[0m \u001b[0mlist\u001b[0m\u001b[0;34m(\u001b[0m\u001b[0mdxl_io\u001b[0m\u001b[0;34m.\u001b[0m\u001b[0mget_present_position\u001b[0m\u001b[0;34m(\u001b[0m\u001b[0;34m(\u001b[0m\u001b[0;36m37\u001b[0m\u001b[0;34m,\u001b[0m \u001b[0;34m)\u001b[0m\u001b[0;34m)\u001b[0m\u001b[0;34m)\u001b[0m\u001b[0;34m[\u001b[0m\u001b[0;36m0\u001b[0m\u001b[0;34m]\u001b[0m\u001b[0;34m\u001b[0m\u001b[0m\n\u001b[0m\u001b[1;32m      3\u001b[0m \u001b[0;32mwhile\u001b[0m \u001b[0;36m1\u001b[0m\u001b[0;34m:\u001b[0m\u001b[0;34m\u001b[0m\u001b[0m\n\u001b[1;32m      4\u001b[0m     \u001b[0;32mif\u001b[0m \u001b[0mabs\u001b[0m\u001b[0;34m(\u001b[0m\u001b[0mangleBefore\u001b[0m \u001b[0;34m-\u001b[0m \u001b[0mlist\u001b[0m\u001b[0;34m(\u001b[0m\u001b[0mdxl_io\u001b[0m\u001b[0;34m.\u001b[0m\u001b[0mget_present_position\u001b[0m\u001b[0;34m(\u001b[0m\u001b[0;34m(\u001b[0m\u001b[0;36m37\u001b[0m\u001b[0;34m,\u001b[0m \u001b[0;34m)\u001b[0m\u001b[0;34m)\u001b[0m\u001b[0;34m)\u001b[0m\u001b[0;34m[\u001b[0m\u001b[0;36m0\u001b[0m\u001b[0;34m]\u001b[0m\u001b[0;34m)\u001b[0m \u001b[0;34m>\u001b[0m \u001b[0;36m0.5\u001b[0m\u001b[0;34m:\u001b[0m\u001b[0;34m\u001b[0m\u001b[0m\n\u001b[1;32m      5\u001b[0m         \u001b[0;32mprint\u001b[0m \u001b[0mangleBefore\u001b[0m\u001b[0;34m\u001b[0m\u001b[0m\n",
      "\u001b[0;31mNameError\u001b[0m: name 'dxl_io' is not defined"
     ]
    }
   ],
   "source": [
    "# Feasible Angle Test\n",
    "angleBefore = list(dxl_io.get_present_position((37, )))[0]\n",
    "while 1:\n",
    "    if abs(angleBefore - list(dxl_io.get_present_position((37, )))[0]) > 0.5:\n",
    "        print angleBefore\n",
    "        angleBefore = list(dxl_io.get_present_position((37, )))[0]\n",
    "print angleBefore"
   ]
  },
  {
   "cell_type": "code",
   "execution_count": 3,
   "metadata": {
    "collapsed": false
   },
   "outputs": [
    {
     "ename": "NameError",
     "evalue": "name 'found_ids' is not defined",
     "output_type": "error",
     "traceback": [
      "\u001b[0;31m---------------------------------------------------------------------------\u001b[0m",
      "\u001b[0;31mNameError\u001b[0m                                 Traceback (most recent call last)",
      "\u001b[0;32m<ipython-input-3-419d2caa685a>\u001b[0m in \u001b[0;36m<module>\u001b[0;34m()\u001b[0m\n\u001b[0;32m----> 1\u001b[0;31m \u001b[0mids\u001b[0m \u001b[0;34m=\u001b[0m \u001b[0mfound_ids\u001b[0m\u001b[0;34m[\u001b[0m\u001b[0;34m:\u001b[0m\u001b[0;36m2\u001b[0m\u001b[0;34m]\u001b[0m\u001b[0;34m\u001b[0m\u001b[0m\n\u001b[0m\u001b[1;32m      2\u001b[0m \u001b[0;34m\u001b[0m\u001b[0m\n\u001b[1;32m      3\u001b[0m \u001b[0mdxl_io\u001b[0m\u001b[0;34m.\u001b[0m\u001b[0menable_torque\u001b[0m\u001b[0;34m(\u001b[0m\u001b[0mids\u001b[0m\u001b[0;34m)\u001b[0m\u001b[0;34m\u001b[0m\u001b[0m\n\u001b[1;32m      4\u001b[0m \u001b[0;34m\u001b[0m\u001b[0m\n\u001b[1;32m      5\u001b[0m \u001b[0mspeed\u001b[0m \u001b[0;34m=\u001b[0m \u001b[0mdict\u001b[0m\u001b[0;34m(\u001b[0m\u001b[0mzip\u001b[0m\u001b[0;34m(\u001b[0m\u001b[0mids\u001b[0m\u001b[0;34m,\u001b[0m \u001b[0mitertools\u001b[0m\u001b[0;34m.\u001b[0m\u001b[0mrepeat\u001b[0m\u001b[0;34m(\u001b[0m\u001b[0;36m200\u001b[0m\u001b[0;34m)\u001b[0m\u001b[0;34m)\u001b[0m\u001b[0;34m)\u001b[0m\u001b[0;34m\u001b[0m\u001b[0m\n",
      "\u001b[0;31mNameError\u001b[0m: name 'found_ids' is not defined"
     ]
    }
   ],
   "source": [
    "# Demo\n",
    "AMP = 30\n",
    "FREQ = 0.5\n",
    "\n",
    "if __name__ == '__main__':\n",
    "    ports = pypot.dynamixel.get_available_ports()\n",
    "    print('available ports:', ports)\n",
    "\n",
    "    if not ports:\n",
    "        raise IOError('No port available.')\n",
    "\n",
    "    port = ports[0]\n",
    "    print('Using the first on the list', port)\n",
    "\n",
    "    dxl_io = pypot.dynamixel.DxlIO(port)\n",
    "    print('Connected!')\n",
    "\n",
    "    found_ids = dxl_io.scan()\n",
    "    print('Found ids:', found_ids)\n",
    "\n",
    "    if len(found_ids) < 2:\n",
    "        raise IOError('You should connect at least two motors on the bus for this test.')\n",
    "\n",
    "    ids = found_ids[:2]\n",
    "\n",
    "    dxl_io.enable_torque(ids)\n",
    "\n",
    "    speed = dict(zip(ids, itertools.repeat(200)))\n",
    "    dxl_io.set_moving_speed(speed)\n",
    "    pos = dict(zip(ids, itertools.repeat(0)))\n",
    "    dxl_io.set_goal_position(pos)\n",
    "\n",
    "\n",
    "    t0 = time.time()\n",
    "    while True:\n",
    "        t = time.time()\n",
    "        if (t - t0) > 5:\n",
    "            break\n",
    "\n",
    "        pos = AMP * numpy.sin(2 * numpy.pi * FREQ * t)\n",
    "        dxl_io.set_goal_position(dict(zip(ids, itertools.repeat(pos))))\n",
    "\n",
    "        time.sleep(0.02)"
   ]
  },
  {
   "cell_type": "code",
   "execution_count": 4,
   "metadata": {
    "collapsed": true
   },
   "outputs": [],
   "source": [
    "def headAction(dxl_io, action):\n",
    "    z, y = action\n",
    "    angleY = dxl_io.get_present_position((37, ))\n",
    "    if y < 0 and angleY + y < 0:\n",
    "        dxl_io.set_goal_position({37: angleY + y})\n",
    "    if y > 0 and angleY + Y < 40:\n",
    "        dxl_io.set_goal_position({37: angleY + y})\n",
    "    if z < 0 and angleY + z > -90:\n",
    "        dxl_io.set_goal_position({36: angleZ + z})\n",
    "    if z > 0 and angleY + z < 90:\n",
    "        dxl_io.set_goal_position({36: angleZ + z})\n",
    "    time.sleep(0.02)"
   ]
  },
  {
   "cell_type": "code",
   "execution_count": null,
   "metadata": {
    "collapsed": true
   },
   "outputs": [],
   "source": [
    "ports = pypot.dynamixel.get_available_ports()\n",
    "\n",
    "print('available ports:', ports)\n",
    "\n",
    "port = ports[0]\n",
    "print('Using the first on the list', port)\n",
    "\n",
    "dxl_io = pypot.dynamixel.DxlIO(port)\n",
    "print('Connected!')\n",
    "\n",
    "found_ids = dxl_io.scan()\n",
    "print('Found ids:', found_ids)\n",
    "\n",
    "dxl_io.enable_torque(found_ids)\n",
    "\n",
    "speed = dict(zip(ids, itertools.repeat(200)))\n",
    "dxl_io.set_moving_speed(speed)\n",
    "\n",
    "list1=[x for x in xrange(-3, 3)]\n",
    "\n",
    "actions = list(itertools.product(list1, list1))\n",
    "\n",
    "while True:\n",
    "    import random\n",
    "    action = action[random.randint(0, len(actions) - 1)]\n",
    "    headMotion(dxl_io, action)"
   ]
  }
 ],
 "metadata": {
  "kernelspec": {
   "display_name": "Python 2",
   "language": "python",
   "name": "python2"
  },
  "language_info": {
   "codemirror_mode": {
    "name": "ipython",
    "version": 2
   },
   "file_extension": ".py",
   "mimetype": "text/x-python",
   "name": "python",
   "nbconvert_exporter": "python",
   "pygments_lexer": "ipython2",
   "version": "2.7.11"
  }
 },
 "nbformat": 4,
 "nbformat_minor": 0
}
