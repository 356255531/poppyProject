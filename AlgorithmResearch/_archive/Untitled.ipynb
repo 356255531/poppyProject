{
 "cells": [
  {
   "cell_type": "code",
   "execution_count": 6,
   "metadata": {
    "collapsed": false
   },
   "outputs": [
    {
     "name": "stdout",
     "output_type": "stream",
     "text": [
      "25\n"
     ]
    }
   ],
   "source": [
    "__author__ = 'Zhiwei Han'\n",
    "import numpy as np\n",
    "import math\n",
    "\n",
    "class pseudoCV():\n",
    "    \"\"\" This class returns the current positon of poppy in Vrep\n",
    "    within a math way \"\"\"\n",
    "    def __init__(self, poppy, io, name, positionMatrix):\n",
    "        self.poppy = poppy\n",
    "        self.io = io\n",
    "        self.name = name\n",
    "        self.positionMatrix = positionMatrix\n",
    "        \n",
    "    def __headForwardDirection(self):\n",
    "        \"\"\" Return the vector of camera foward direction \"\"\"\n",
    "        angleNegativeY = self.poppy.head_z.present_position\n",
    "        angleSurfaceXY = - self.poppy.head_y.present_position\n",
    "\n",
    "        angleNegativeY = angleNegativeY / 180 * 3.14159\n",
    "        angleSurfaceXY = angleSurfaceXY / 180 * 3.14159\n",
    "\n",
    "        y = - np.cos(angleSurfaceXY) * np.cos(angleNegativeY)\n",
    "        x = np.cos(angleSurfaceXY) * np.sin(angleNegativeY)\n",
    "        z = np.sin(angleSurfaceXY)\n",
    "\n",
    "        forwardDire = [x, y, z]\n",
    "        return forwardDire\n",
    "\n",
    "    def __objectRelPosition(self):\n",
    "        \"\"\" return the relativ positon(vector) of object to camera\"\"\"\n",
    "        objectPos = self.io.get_object_position(self.name)\n",
    "        positionCameraOri = [0, -0.05, 1.06] # Camera's position in Vrep\n",
    "\n",
    "        objectRelPos = [objectPos[i] - positionCameraOri[i] for i in xrange(3)]\n",
    "\n",
    "        return objectRelPos\n",
    "\n",
    "    def __canSeeJudge(self):\n",
    "        \"\"\" Judge if the object is in sight by calculating if\n",
    "            the object is out of perspective \"\"\"\n",
    "        orthognalBasis1 = self.__headForwardDirection()\n",
    "        orthognalBasis2 = [orthognalBasis1[1], -orthognalBasis1[0], 0]\n",
    "        normOrthBasis2 = np.linalg.norm(orthognalBasis2)\n",
    "        orthognalBasis2 =  [orthognalBasis2[i] / normOrthBasis2 for i in xrange(3) ]\n",
    "        orthognalBasis3 = np.cross(orthognalBasis2, orthognalBasis1)\n",
    "\n",
    "        objectRelPos = self.__objectRelPosition()\n",
    "        objectProjectionOnOrthBasis1 = np.dot(objectRelPos, orthognalBasis1)\n",
    "        if objectProjectionOnOrthBasis1 < 0:\n",
    "            return False\n",
    "        objectProjectionOnOrthBasis2 = np.dot(objectRelPos, orthognalBasis2)\n",
    "        objectProjectionOnOrthBasis3 = np.dot(objectRelPos, orthognalBasis3)\n",
    "\n",
    "        newCoordinate = [objectProjectionOnOrthBasis1, objectProjectionOnOrthBasis2, objectProjectionOnOrthBasis3]\n",
    "\n",
    "        tt = [1, 0, 0]\n",
    "\n",
    "        t = [objectProjectionOnOrthBasis1, objectProjectionOnOrthBasis2, 0]\n",
    "        angle1 = np.arccos(np.dot(tt, t) / np.linalg.norm(t)) / 3.14159 * 180\n",
    "\n",
    "        if abs(angle1) > 37:\n",
    "            return False\n",
    "        t = [objectProjectionOnOrthBasis1, 0, objectProjectionOnOrthBasis3]\n",
    "        angle2 = np.arccos(np.dot(tt, t) / np.linalg.norm(t)) / 3.14159 * 180\n",
    "        if abs(angle2) > 18.5:\n",
    "            return False\n",
    "        \n",
    "        if objectProjectionOnOrthBasis3 < 0 and angle2 > 0:\n",
    "            angle2 = -angle2\n",
    "\n",
    "        if objectProjectionOnOrthBasis2 > 0 and angle1 > 0:\n",
    "            angle1 = -angle1\n",
    "        return angle1, angle2\n",
    "\n",
    "    def getPosition(self):\n",
    "        \"\"\" Return the position of centorid in state matrix\n",
    "            if object out of perspective return () \"\"\"\n",
    "        angle = self.__canSeeJudge()\n",
    "        m, n = self.positionMatrix\n",
    "        if not angle:\n",
    "            return []\n",
    "        angle1, angle2 = angle\n",
    "        x = math.floor(abs(np.sin(angle1 / 180.0 * 3.14159) / np.sin(37 / 180.0 * 3.14159) * (m + 1)))\n",
    "        y = math.floor(abs(np.sin(angle2 / 180.0 * 3.14159) / np.sin(18.5 / 180.0 * 3.14159) * (n + 1)))\n",
    "        if angle1 > 0:\n",
    "            x = -x\n",
    "        if angle2 < 0:\n",
    "            y = -y\n",
    "        return (x, y)\n",
    "\n",
    "if __name__ == '__main__':\n",
    "    \"\"\"\n",
    "    print math.floor(abs(np.sin(36 / 180.0 * 3.14159) / np.sin(37 / 180.0 * 3.14159) * 26))\n",
    "    \"\"\"\n",
    "    print(math.floor(abs(np.sin(36 / 180.0 * 3.14159) / np.sin(37 / 180.0 * 3.14159) * 26)))"
   ]
  },
  {
   "cell_type": "code",
   "execution_count": 7,
   "metadata": {
    "collapsed": false
   },
   "outputs": [
    {
     "ename": "OSError",
     "evalue": "Connection to V-REP failed!",
     "traceback": [
      "\u001b[1;31m---------------------------------------------------------------------------\u001b[0m",
      "\u001b[1;31mVrepConnectionError\u001b[0m                       Traceback (most recent call last)",
      "\u001b[1;32mC:\\Users\\Media Markt\\Anaconda3\\lib\\site-packages\\poppy\\creatures\\abstractcreature.py\u001b[0m in \u001b[0;36m__new__\u001b[1;34m(cls, base_path, config, simulator, scene, host, port, id, use_snap, snap_host, snap_port, snap_quiet, use_http, http_host, http_port, http_quiet, use_remote, remote_host, remote_port, start_background_services, sync, **extra)\u001b[0m\n\u001b[0;32m    104\u001b[0m                 \u001b[1;32mtry\u001b[0m\u001b[1;33m:\u001b[0m\u001b[1;33m\u001b[0m\u001b[0m\n\u001b[1;32m--> 105\u001b[1;33m                     \u001b[0mpoppy_creature\u001b[0m \u001b[1;33m=\u001b[0m \u001b[0mfrom_vrep\u001b[0m\u001b[1;33m(\u001b[0m\u001b[0mconfig\u001b[0m\u001b[1;33m,\u001b[0m \u001b[0mhost\u001b[0m\u001b[1;33m,\u001b[0m \u001b[0mport\u001b[0m\u001b[1;33m,\u001b[0m \u001b[0mscene\u001b[0m\u001b[1;33m)\u001b[0m\u001b[1;33m\u001b[0m\u001b[0m\n\u001b[0m\u001b[0;32m    106\u001b[0m                 \u001b[1;32mexcept\u001b[0m \u001b[0mVrepConnectionError\u001b[0m\u001b[1;33m:\u001b[0m\u001b[1;33m\u001b[0m\u001b[0m\n",
      "\u001b[1;32mC:\\Users\\Media Markt\\Anaconda3\\lib\\site-packages\\pypot\\vrep\\__init__.py\u001b[0m in \u001b[0;36mfrom_vrep\u001b[1;34m(config, vrep_host, vrep_port, scene, tracked_objects, tracked_collisions)\u001b[0m\n\u001b[0;32m     82\u001b[0m     \"\"\"\n\u001b[1;32m---> 83\u001b[1;33m     \u001b[0mvrep_io\u001b[0m \u001b[1;33m=\u001b[0m \u001b[0mVrepIO\u001b[0m\u001b[1;33m(\u001b[0m\u001b[0mvrep_host\u001b[0m\u001b[1;33m,\u001b[0m \u001b[0mvrep_port\u001b[0m\u001b[1;33m)\u001b[0m\u001b[1;33m\u001b[0m\u001b[0m\n\u001b[0m\u001b[0;32m     84\u001b[0m \u001b[1;33m\u001b[0m\u001b[0m\n",
      "\u001b[1;32mC:\\Users\\Media Markt\\Anaconda3\\lib\\site-packages\\pypot\\vrep\\io.py\u001b[0m in \u001b[0;36m__init__\u001b[1;34m(self, vrep_host, vrep_port, scene, start)\u001b[0m\n\u001b[0;32m     69\u001b[0m \u001b[1;33m\u001b[0m\u001b[0m\n\u001b[1;32m---> 70\u001b[1;33m         \u001b[0mself\u001b[0m\u001b[1;33m.\u001b[0m\u001b[0mopen_io\u001b[0m\u001b[1;33m(\u001b[0m\u001b[1;33m)\u001b[0m\u001b[1;33m\u001b[0m\u001b[0m\n\u001b[0m\u001b[0;32m     71\u001b[0m \u001b[1;33m\u001b[0m\u001b[0m\n",
      "\u001b[1;32mC:\\Users\\Media Markt\\Anaconda3\\lib\\site-packages\\pypot\\vrep\\io.py\u001b[0m in \u001b[0;36mopen_io\u001b[1;34m(self)\u001b[0m\n\u001b[0;32m     80\u001b[0m             raise VrepConnectionError(\n\u001b[1;32m---> 81\u001b[1;33m                 msg.format(self.vrep_host, self.vrep_port))\n\u001b[0m\u001b[0;32m     82\u001b[0m \u001b[1;33m\u001b[0m\u001b[0m\n",
      "\u001b[1;31mVrepConnectionError\u001b[0m: Could not connect to V-REP server on localhost:19997. This could also means that you still have a previously opened connection running! (try pypot.vrep.close_all_connections())",
      "\nDuring handling of the above exception, another exception occurred:\n",
      "\u001b[1;31mOSError\u001b[0m                                   Traceback (most recent call last)",
      "\u001b[1;32m<ipython-input-7-d50a0fbf1d3e>\u001b[0m in \u001b[0;36m<module>\u001b[1;34m()\u001b[0m\n\u001b[0;32m     18\u001b[0m     \u001b[1;32mimport\u001b[0m \u001b[0mtime\u001b[0m\u001b[1;33m\u001b[0m\u001b[0m\n\u001b[0;32m     19\u001b[0m     \u001b[1;32mimport\u001b[0m \u001b[0mmath\u001b[0m\u001b[1;33m\u001b[0m\u001b[0m\n\u001b[1;32m---> 20\u001b[1;33m     \u001b[0mpoppy\u001b[0m \u001b[1;33m=\u001b[0m \u001b[0mPoppyTorso\u001b[0m\u001b[1;33m(\u001b[0m\u001b[0msimulator\u001b[0m\u001b[1;33m=\u001b[0m\u001b[1;34m'vrep'\u001b[0m\u001b[1;33m)\u001b[0m\u001b[1;33m\u001b[0m\u001b[0m\n\u001b[0m\u001b[0;32m     21\u001b[0m \u001b[1;33m\u001b[0m\u001b[0m\n\u001b[0;32m     22\u001b[0m     \u001b[0mio\u001b[0m \u001b[1;33m=\u001b[0m \u001b[0mpoppy\u001b[0m\u001b[1;33m.\u001b[0m\u001b[0m_controllers\u001b[0m\u001b[1;33m[\u001b[0m\u001b[1;36m0\u001b[0m\u001b[1;33m]\u001b[0m\u001b[1;33m.\u001b[0m\u001b[0mio\u001b[0m\u001b[1;33m\u001b[0m\u001b[0m\n",
      "\u001b[1;32mC:\\Users\\Media Markt\\Anaconda3\\lib\\site-packages\\poppy\\creatures\\abstractcreature.py\u001b[0m in \u001b[0;36m__new__\u001b[1;34m(cls, base_path, config, simulator, scene, host, port, id, use_snap, snap_host, snap_port, snap_quiet, use_http, http_host, http_port, http_quiet, use_remote, remote_host, remote_port, start_background_services, sync, **extra)\u001b[0m\n\u001b[0;32m    105\u001b[0m                     \u001b[0mpoppy_creature\u001b[0m \u001b[1;33m=\u001b[0m \u001b[0mfrom_vrep\u001b[0m\u001b[1;33m(\u001b[0m\u001b[0mconfig\u001b[0m\u001b[1;33m,\u001b[0m \u001b[0mhost\u001b[0m\u001b[1;33m,\u001b[0m \u001b[0mport\u001b[0m\u001b[1;33m,\u001b[0m \u001b[0mscene\u001b[0m\u001b[1;33m)\u001b[0m\u001b[1;33m\u001b[0m\u001b[0m\n\u001b[0;32m    106\u001b[0m                 \u001b[1;32mexcept\u001b[0m \u001b[0mVrepConnectionError\u001b[0m\u001b[1;33m:\u001b[0m\u001b[1;33m\u001b[0m\u001b[0m\n\u001b[1;32m--> 107\u001b[1;33m                     \u001b[1;32mraise\u001b[0m \u001b[0mIOError\u001b[0m\u001b[1;33m(\u001b[0m\u001b[1;34m'Connection to V-REP failed!'\u001b[0m\u001b[1;33m)\u001b[0m\u001b[1;33m\u001b[0m\u001b[0m\n\u001b[0m\u001b[0;32m    108\u001b[0m \u001b[1;33m\u001b[0m\u001b[0m\n\u001b[0;32m    109\u001b[0m             \u001b[1;32melif\u001b[0m \u001b[0msimulator\u001b[0m \u001b[1;33m==\u001b[0m \u001b[1;34m'poppy-simu'\u001b[0m\u001b[1;33m:\u001b[0m\u001b[1;33m\u001b[0m\u001b[0m\n",
      "\u001b[1;31mOSError\u001b[0m: Connection to V-REP failed!"
     ],
     "output_type": "error"
    }
   ],
   "source": [
    "from CodeFramework.StateObserver import StateObserver\n",
    "# from pseudoCV import pseudoCV\n",
    "\n",
    "class pseudoStateObserver(StateObserver, pseudoCV):\n",
    "    \"\"\" Use pseudoCV algorithm to observe the agent current state\"\"\"\n",
    "    def __init__(self, poppy, io, name, positionMatrix):\n",
    "        pseudoCV.__init__(self, poppy, io, name, positionMatrix)\n",
    "        super(pseudoStateObserver, self).__init__()\n",
    "\n",
    "\n",
    "    def get_current_state(self):\n",
    "        \"\"\" Return the current state \"\"\"\n",
    "        return super(pseudoStateObserver, self).getPosition()\n",
    "\n",
    "if __name__ == '__main__':\n",
    "    from poppy.creatures import PoppyTorso\n",
    "    import numpy as np\n",
    "    import time\n",
    "    import math\n",
    "    poppy = PoppyTorso(simulator='vrep')\n",
    "\n",
    "    io = poppy._controllers[0].io\n",
    "    name = 'cube'\n",
    "    position = [0, -0.15, 0.85] # X, Y, Z\n",
    "    sizes = [0.1, 0.1, 0.1] # in meters\n",
    "    mass = 0 # in kg\n",
    "    io.add_cube(name, position, sizes, mass)\n",
    "    time.sleep(1)\n",
    "    name1 = 'cube2'\n",
    "    position1 = [0, -1, 0.5]\n",
    "    sizes1 = [3, 1, 1]\n",
    "    io.add_cube(name1, position1, sizes1, mass)\n",
    "    io.set_object_position('cube', position=[0, -1, 1.05])\n",
    "    positionMatrix = [25, 20]\n",
    "\n",
    "    observer = pseudoStateObserver(poppy, io, name, positionMatrix)\n",
    "    print(observer.getCurrentState())\n",
    "    \"\"\"\n",
    "    print observer.getCurrentState()\n",
    "    \"\"\""
   ]
  },
  {
   "cell_type": "code",
   "execution_count": null,
   "metadata": {
    "collapsed": true
   },
   "outputs": [],
   "source": [
    ""
   ]
  }
 ],
 "metadata": {
  "kernelspec": {
   "display_name": "Python 3",
   "language": "python",
   "name": "python3"
  },
  "language_info": {
   "codemirror_mode": {
    "name": "ipython",
    "version": 3.0
   },
   "file_extension": ".py",
   "mimetype": "text/x-python",
   "name": "python",
   "nbconvert_exporter": "python",
   "pygments_lexer": "ipython3",
   "version": "3.5.1"
  }
 },
 "nbformat": 4,
 "nbformat_minor": 0
}