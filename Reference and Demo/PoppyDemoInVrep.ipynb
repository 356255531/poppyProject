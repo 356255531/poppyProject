{
 "cells": [
  {
   "cell_type": "markdown",
   "metadata": {},
   "source": [
    "# V-rep Demo for Poppy-Control in Simulator\n",
    "It's a demo introduce how to control Poppy-Torso in simulator (V-rep).Please make sure:\n",
    "+ 1. You have correctly installed V-rep and have a python 2.7 distribution. If not, please check README.md.\n",
    "+ 2. Your have all the libs need, if you are not sure about which libs to use, a pre-packaged Python distribution called Anaconda is strongly recommended here. To get there please see the following below: https://www.continuum.io/downloads\n",
    "+ 3. Or you can use your own python distribution and install them by use \"pip install\" in terminal. Like \"pip install pypot poppy_humanoid\"  \n",
    "(Or replace it with poppy_torso if you use Torso)\n",
    "\n",
    "# Initialization Check\n",
    "To check if everything is correctly installed, you can run the following code. It shoud run without raising an error, when everything is probably installed. What we do here is to initialize the poppy enviroment in V-rep.  \n",
    "\n",
    "Tipps:  \n",
    "+ You can run IPython Notebook code cells by selecting them and clicking the play button or by pressing shift+enter."
   ]
  },
  {
   "cell_type": "code",
   "execution_count": 1,
   "metadata": {
    "collapsed": false
   },
   "outputs": [],
   "source": [
    "from poppy.creatures import PoppyTorso\n",
    "import numpy as np\n",
    "import time\n",
    "import math\n",
    "\n",
    "poppy = PoppyTorso(simulator='vrep')"
   ]
  },
  {
   "cell_type": "markdown",
   "metadata": {},
   "source": [
    "# Motor Retrieve\n",
    "+ Firstly, with the following code, you can retrieve the list of all available motors.   \n",
    "+ The motors variable contains the list of all motors attached to the current robot.  \n",
    "+ By default, each motor prints its name, its id, and its current position:"
   ]
  },
  {
   "cell_type": "code",
   "execution_count": 3,
   "metadata": {
    "collapsed": false
   },
   "outputs": [
    {
     "data": {
      "text/plain": [
       "[<DxlMotor name=l_elbow_y id=44 pos=0.0>,\n",
       " <DxlMotor name=head_y id=37 pos=-1.8>,\n",
       " <DxlMotor name=r_arm_z id=53 pos=-0.0>,\n",
       " <DxlMotor name=head_z id=36 pos=0.0>,\n",
       " <DxlMotor name=r_shoulder_x id=52 pos=0.0>,\n",
       " <DxlMotor name=r_shoulder_y id=51 pos=0.8>,\n",
       " <DxlMotor name=r_elbow_y id=54 pos=0.0>,\n",
       " <DxlMotor name=l_arm_z id=43 pos=0.0>,\n",
       " <DxlMotor name=abs_z id=33 pos=-0.0>,\n",
       " <DxlMotor name=bust_y id=34 pos=0.2>,\n",
       " <DxlMotor name=bust_x id=35 pos=0.0>,\n",
       " <DxlMotor name=l_shoulder_x id=42 pos=-1.5>,\n",
       " <DxlMotor name=l_shoulder_y id=41 pos=0.0>]"
      ]
     },
     "execution_count": 3,
     "metadata": {},
     "output_type": "execute_result"
    }
   ],
   "source": [
    "poppy.motors"
   ]
  },
  {
   "cell_type": "markdown",
   "metadata": {},
   "source": [
    "# Control Motor"
   ]
  },
  {
   "cell_type": "markdown",
   "metadata": {},
   "source": [
    "You can access a specific motor directly using its name:"
   ]
  },
  {
   "cell_type": "code",
   "execution_count": 10,
   "metadata": {
    "collapsed": false
   },
   "outputs": [
    {
     "data": {
      "text/plain": [
       "<DxlMotor name=head_z id=36 pos=0.0>"
      ]
     },
     "execution_count": 10,
     "metadata": {},
     "output_type": "execute_result"
    }
   ],
   "source": [
    "poppy.head_z"
   ]
  },
  {
   "cell_type": "markdown",
   "metadata": {},
   "source": [
    "You can directly get the current angle of a motor by using:"
   ]
  },
  {
   "cell_type": "code",
   "execution_count": null,
   "metadata": {
    "collapsed": true
   },
   "outputs": [],
   "source": [
    "print poppy.head_y.present_position"
   ]
  },
  {
   "cell_type": "markdown",
   "metadata": {},
   "source": [
    "You can directly access all the motors from the torso using the torso alias.  \n",
    "To retrieve the list of motors alias available using:"
   ]
  },
  {
   "cell_type": "code",
   "execution_count": 15,
   "metadata": {
    "collapsed": false
   },
   "outputs": [
    {
     "data": {
      "text/plain": [
       "[u'head', u'r_arm', u'torso', u'l_arm', u'arms']"
      ]
     },
     "execution_count": 15,
     "metadata": {},
     "output_type": "execute_result"
    }
   ],
   "source": [
    "poppy.alias"
   ]
  },
  {
   "cell_type": "markdown",
   "metadata": {},
   "source": [
    "Each alias contains a list of motors.  \n",
    "To creat a dictionary of motor alias using:"
   ]
  },
  {
   "cell_type": "code",
   "execution_count": 16,
   "metadata": {
    "collapsed": false
   },
   "outputs": [
    {
     "data": {
      "text/plain": [
       "{u'head_y': 0.0, u'head_z': 0.0}"
      ]
     },
     "execution_count": 16,
     "metadata": {},
     "output_type": "execute_result"
    }
   ],
   "source": [
    "{m.name: m.present_position for m in poppy.head}"
   ]
  },
  {
   "cell_type": "markdown",
   "metadata": {},
   "source": [
    "To set motor to a specific angle using:"
   ]
  },
  {
   "cell_type": "code",
   "execution_count": 13,
   "metadata": {
    "collapsed": true
   },
   "outputs": [],
   "source": [
    "poppy.head_z.goal_position = 0\n",
    "poppy.head_y.goal_position = 0"
   ]
  },
  {
   "cell_type": "markdown",
   "metadata": {},
   "source": [
    "\n",
    "Note: While the full list of motor registers is available, not all of them are having an effect in the V-REP simulation. For instance, modifying the pid of a motor won't affect the simulation.\n",
    "\n",
    "Currently in the V-REP simulator you can use:\n",
    "+ present_position (R): the actual position of the motor (usually from -180° to 180°)\n",
    "+ goal_position (RW): the target position of the motor, that is to say the position it will try to reach (same range and units than the present position)\n",
    "+ present_load (R): the current load applied on the motor (expressed in % of the max supported load)\n",
    "+ torque_limit (RW): the maximum torque that a motor can applied (also expressed in % of the max supported load)\n",
    "+ compliant (RW): whether the motor is compliant: if it resits or not when manually turned\n",
    "+ angle_limit (R): the position limits (lower and upper) of the motor. Some motors are restrained to a smaller position range to avoid breaking other parts.\n",
    "Support for additional features may be added in future version."
   ]
  },
  {
   "cell_type": "markdown",
   "metadata": {},
   "source": [
    "# Object Interaction"
   ]
  },
  {
   "cell_type": "markdown",
   "metadata": {},
   "source": [
    "Reset the simulator"
   ]
  },
  {
   "cell_type": "code",
   "execution_count": 2,
   "metadata": {
    "collapsed": false
   },
   "outputs": [],
   "source": [
    "poppy.reset_simulation()"
   ]
  },
  {
   "cell_type": "markdown",
   "metadata": {},
   "source": [
    "Set up a controller"
   ]
  },
  {
   "cell_type": "code",
   "execution_count": 3,
   "metadata": {
    "collapsed": true
   },
   "outputs": [],
   "source": [
    "io = poppy._controllers[0].io"
   ]
  },
  {
   "cell_type": "markdown",
   "metadata": {},
   "source": [
    "Add a object in simulator"
   ]
  },
  {
   "cell_type": "code",
   "execution_count": 4,
   "metadata": {
    "collapsed": false
   },
   "outputs": [],
   "source": [
    "name = 'cube'\n",
    "position = [0, -0.15, 0.8] # X, Y, Z\n",
    "sizes = [0.01, 0.01, 0.01] # in meters\n",
    "mass = 0 # in kg\n",
    "io.add_cube(name, position, sizes, mass)\n",
    "\n"
   ]
  },
  {
   "cell_type": "markdown",
   "metadata": {},
   "source": [
    "# Accessing pypot REST API through HTTP requests\n",
    "The tutorial is under:  \n",
    "https://github.com/poppy-project/community-notebooks/blob/master/demo/poppy-humanoid_Accessing%20pypot%20REST%20API%20through%20HTTP%20requests.ipynb  \n",
    "I think we do not need it here because in simulator you can directly control robot through poppy_torso lib."
   ]
  },
  {
   "cell_type": "markdown",
   "metadata": {},
   "source": [
    "# Pseudo-CV algorithm"
   ]
  },
  {
   "cell_type": "code",
   "execution_count": 6,
   "metadata": {
    "collapsed": false
   },
   "outputs": [],
   "source": [
    "# Output the heading direction of camera\n",
    "\n",
    "def headForwardDirection():\n",
    "    angleNegativeY = poppy.head_z.present_position\n",
    "    angleSurfaceXY = - poppy.head_y.present_position\n",
    "\n",
    "    angleNegativeY = angleNegativeY / 180 * 3.14159\n",
    "    angleSurfaceXY = angleSurfaceXY / 180 * 3.14159\n",
    "\n",
    "    y = - np.cos(angleSurfaceXY) * np.cos(angleNegativeY)\n",
    "    x = np.cos(angleSurfaceXY) * np.sin(angleNegativeY)\n",
    "    z = np.sin(angleSurfaceXY)\n",
    "\n",
    "    forwardDire = [x, y, z]\n",
    "    return forwardDire\n",
    "\n",
    "# Output the relative position of object w.r.t camera position\n",
    "\n",
    "def objectRelPosition(name):\n",
    "    objectPos = io.get_object_position(name)\n",
    "    positionCameraOri = [0, -0.05, 1.06] # Camera's position in Vrep\n",
    "\n",
    "    objectRelPos = [objectPos[i] - positionCameraOri[i] for i in xrange(3)]\n",
    "\n",
    "    return objectRelPos\n",
    "\n",
    "# Output the angels(horizontal, vertical) of object w.r.t the center of camera sight\n",
    "# If object is not in sight, return False\n",
    "\n",
    "def canSeeJudge(headForwardDirection, objectRelPos):\n",
    "# Create new coordinates from the head towards direction\n",
    "    orthognalBasis1 = headForwardDirection\n",
    "    orthognalBasis2 = [orthognalBasis1[1], -orthognalBasis1[0], 0]\n",
    "    normOrthBasis2 = np.linalg.norm(orthognalBasis2)\n",
    "    orthognalBasis2 =  [orthognalBasis2[i] / normOrthBasis2 for i in xrange(3) ]\n",
    "    orthognalBasis3 = np.cross(orthognalBasis2, orthognalBasis1)\n",
    "\n",
    "    objectProjectionOnOrthBasis1 = np.dot(objectRelPos, orthognalBasis1)\n",
    "    if objectProjectionOnOrthBasis1 < 0:\n",
    "        return False\n",
    "    objectProjectionOnOrthBasis2 = np.dot(objectRelPos, orthognalBasis2)\n",
    "    objectProjectionOnOrthBasis3 = np.dot(objectRelPos, orthognalBasis3)\n",
    "\n",
    "    newCoordinate = [objectProjectionOnOrthBasis1, objectProjectionOnOrthBasis2, objectProjectionOnOrthBasis3]\n",
    "\n",
    "    tt = [1, 0, 0]\n",
    "\n",
    "    t = [objectProjectionOnOrthBasis1, objectProjectionOnOrthBasis2, 0]\n",
    "    angle1 = np.arccos(np.dot(tt, t) / np.linalg.norm(t)) / 3.14159 * 180\n",
    "\n",
    "    if abs(angle1) > 37:\n",
    "        return False\n",
    "    t = [objectProjectionOnOrthBasis1, 0, objectProjectionOnOrthBasis3]\n",
    "    angle2 = np.arccos(np.dot(tt, t) / np.linalg.norm(t)) / 3.14159 * 180\n",
    "    if abs(angle2) > 18.5:\n",
    "        return False\n",
    "    \n",
    "    if objectProjectionOnOrthBasis3 < 0 and angle2 > 0:\n",
    "        angle2 = -angle2\n",
    "\n",
    "    if objectProjectionOnOrthBasis2 > 0 and angle1 > 0:\n",
    "        angle1 = -angle1\n",
    "    return angle1, angle2\n",
    "\n",
    "# Output the state of problem\n",
    "def getState(angle, m, n):\n",
    "    if not angle:\n",
    "        print \"The object can't be seen\"\n",
    "        return False\n",
    "    angle1, angle2 = angle\n",
    "    state1 = math.ceil(abs(np.sin(angle1 / 180.0 * 3.14159) / np.sin(37 / 180.0 * 3.14159) * m))\n",
    "    state2 = math.ceil(abs(np.sin(angle2 / 180.0 * 3.14159) / np.sin(18.5 / 180.0 * 3.14159) * m))\n",
    "    if angle1 > 0:\n",
    "        state1 = -state1\n",
    "    if angle2 < 0:\n",
    "        state2 = -state2\n",
    "    return (state1, state2)"
   ]
  },
  {
   "cell_type": "markdown",
   "metadata": {},
   "source": []
  },
  {
   "cell_type": "markdown",
   "metadata": {
    "collapsed": true
   },
   "source": [
    "# Example of Using PseudoCV Algorithm\n",
    "Perform expected circle trace with object"
   ]
  },
  {
   "cell_type": "code",
   "execution_count": 5,
   "metadata": {
    "collapsed": false
   },
   "outputs": [
    {
     "ename": "NameError",
     "evalue": "name 'getState' is not defined",
     "output_type": "error",
     "traceback": [
      "\u001b[0;31m---------------------------------------------------------------------------\u001b[0m",
      "\u001b[0;31mNameError\u001b[0m                                 Traceback (most recent call last)",
      "\u001b[0;32m<ipython-input-5-7f18d46e9d4c>\u001b[0m in \u001b[0;36m<module>\u001b[0;34m()\u001b[0m\n\u001b[1;32m      7\u001b[0m \u001b[0;34m\u001b[0m\u001b[0m\n\u001b[1;32m      8\u001b[0m     \u001b[0;32mif\u001b[0m \u001b[0mtime\u001b[0m\u001b[0;34m.\u001b[0m\u001b[0mtime\u001b[0m\u001b[0;34m(\u001b[0m\u001b[0;34m)\u001b[0m \u001b[0;34m-\u001b[0m \u001b[0mt\u001b[0m \u001b[0;34m>\u001b[0m \u001b[0;36m0.1\u001b[0m\u001b[0;34m:\u001b[0m\u001b[0;34m\u001b[0m\u001b[0m\n\u001b[0;32m----> 9\u001b[0;31m         \u001b[0;32mprint\u001b[0m \u001b[0mgetState\u001b[0m\u001b[0;34m(\u001b[0m\u001b[0mcanSeeJudge\u001b[0m\u001b[0;34m(\u001b[0m\u001b[0mheadForwardDirection\u001b[0m\u001b[0;34m(\u001b[0m\u001b[0;34m)\u001b[0m\u001b[0;34m,\u001b[0m \u001b[0mobjectRelPosition\u001b[0m\u001b[0;34m(\u001b[0m\u001b[0mname\u001b[0m\u001b[0;34m)\u001b[0m\u001b[0;34m)\u001b[0m\u001b[0;34m,\u001b[0m \u001b[0;36m10\u001b[0m\u001b[0;34m,\u001b[0m \u001b[0;36m10\u001b[0m\u001b[0;34m)\u001b[0m\u001b[0;34m\u001b[0m\u001b[0m\n\u001b[0m\u001b[1;32m     10\u001b[0m         \u001b[0mt\u001b[0m \u001b[0;34m=\u001b[0m \u001b[0mtime\u001b[0m\u001b[0;34m.\u001b[0m\u001b[0mtime\u001b[0m\u001b[0;34m(\u001b[0m\u001b[0;34m)\u001b[0m\u001b[0;34m\u001b[0m\u001b[0m\n",
      "\u001b[0;31mNameError\u001b[0m: name 'getState' is not defined"
     ]
    }
   ],
   "source": [
    "# Draw circle and print the state\n",
    "t = time.time()\n",
    "while 1:\n",
    "    x = np.sin(2 * 3.14159 * time.time() * 0.1) * 0.5\n",
    "    z = np.cos(2 * 3.14159 * time.time() * 0.1) * 0.5\n",
    "    io.set_object_position('cube', position=[x, -2, z + 1])\n",
    " \n",
    "    if time.time() - t > 0.1:\n",
    "        print getState(canSeeJudge(headForwardDirection(), objectRelPosition(name)), 10, 10)\n",
    "        t = time.time()"
   ]
  },
  {
   "cell_type": "markdown",
   "metadata": {},
   "source": [
    "Perform single line trace with object"
   ]
  },
  {
   "cell_type": "code",
   "execution_count": 8,
   "metadata": {
    "collapsed": false
   },
   "outputs": [
    {
     "name": "stdout",
     "output_type": "stream",
     "text": [
      "(7.0, -3.0)\n",
      "(6.0, -3.0)\n",
      "(5.0, -3.0)\n",
      "(4.0, -3.0)\n",
      "(3.0, -3.0)\n",
      "(2.0, -3.0)\n",
      "(2.0, -3.0)\n",
      "(2.0, -3.0)\n",
      "(2.0, -3.0)\n"
     ]
    },
    {
     "ename": "KeyboardInterrupt",
     "evalue": "",
     "output_type": "error",
     "traceback": [
      "\u001b[0;31m---------------------------------------------------------------------------\u001b[0m",
      "\u001b[0;31mKeyboardInterrupt\u001b[0m                         Traceback (most recent call last)",
      "\u001b[0;32m<ipython-input-8-cb393d5d568b>\u001b[0m in \u001b[0;36m<module>\u001b[0;34m()\u001b[0m\n\u001b[1;32m      3\u001b[0m \u001b[0;32mwhile\u001b[0m \u001b[0;36m1\u001b[0m\u001b[0;34m:\u001b[0m\u001b[0;34m\u001b[0m\u001b[0m\n\u001b[1;32m      4\u001b[0m     \u001b[0mx\u001b[0m \u001b[0;34m=\u001b[0m \u001b[0mnp\u001b[0m\u001b[0;34m.\u001b[0m\u001b[0msin\u001b[0m\u001b[0;34m(\u001b[0m\u001b[0;36m2\u001b[0m \u001b[0;34m*\u001b[0m \u001b[0;36m3.14159\u001b[0m \u001b[0;34m*\u001b[0m \u001b[0mtime\u001b[0m\u001b[0;34m.\u001b[0m\u001b[0mtime\u001b[0m\u001b[0;34m(\u001b[0m\u001b[0;34m)\u001b[0m \u001b[0;34m*\u001b[0m \u001b[0;36m0.1\u001b[0m\u001b[0;34m)\u001b[0m\u001b[0;34m\u001b[0m\u001b[0m\n\u001b[0;32m----> 5\u001b[0;31m     \u001b[0mio\u001b[0m\u001b[0;34m.\u001b[0m\u001b[0mset_object_position\u001b[0m\u001b[0;34m(\u001b[0m\u001b[0;34m'cube'\u001b[0m\u001b[0;34m,\u001b[0m \u001b[0mposition\u001b[0m\u001b[0;34m=\u001b[0m\u001b[0;34m[\u001b[0m\u001b[0mx\u001b[0m\u001b[0;34m,\u001b[0m \u001b[0;34m-\u001b[0m\u001b[0;36m1\u001b[0m\u001b[0;34m,\u001b[0m \u001b[0;36m1\u001b[0m\u001b[0;34m]\u001b[0m\u001b[0;34m)\u001b[0m\u001b[0;34m\u001b[0m\u001b[0m\n\u001b[0m\u001b[1;32m      6\u001b[0m \u001b[0;34m\u001b[0m\u001b[0m\n\u001b[1;32m      7\u001b[0m     \u001b[0;32mif\u001b[0m \u001b[0mtime\u001b[0m\u001b[0;34m.\u001b[0m\u001b[0mtime\u001b[0m\u001b[0;34m(\u001b[0m\u001b[0;34m)\u001b[0m \u001b[0;34m-\u001b[0m \u001b[0mt\u001b[0m \u001b[0;34m>\u001b[0m \u001b[0;36m0.1\u001b[0m\u001b[0;34m:\u001b[0m\u001b[0;34m\u001b[0m\u001b[0m\n",
      "\u001b[0;32m/Library/Frameworks/Python.framework/Versions/2.7/lib/python2.7/site-packages/pypot/vrep/io.pyc\u001b[0m in \u001b[0;36mset_object_position\u001b[0;34m(self, object_name, position)\u001b[0m\n\u001b[1;32m    183\u001b[0m         return self.call_remote_api('simxSetObjectPosition',\n\u001b[1;32m    184\u001b[0m                                     \u001b[0mh\u001b[0m\u001b[0;34m,\u001b[0m \u001b[0;34m-\u001b[0m\u001b[0;36m1\u001b[0m\u001b[0;34m,\u001b[0m \u001b[0mposition\u001b[0m\u001b[0;34m,\u001b[0m\u001b[0;34m\u001b[0m\u001b[0m\n\u001b[0;32m--> 185\u001b[0;31m                                     sending=True)\n\u001b[0m\u001b[1;32m    186\u001b[0m \u001b[0;34m\u001b[0m\u001b[0m\n\u001b[1;32m    187\u001b[0m     \u001b[0;32mdef\u001b[0m \u001b[0mget_object_orientation\u001b[0m\u001b[0;34m(\u001b[0m\u001b[0mself\u001b[0m\u001b[0;34m,\u001b[0m \u001b[0mobject_name\u001b[0m\u001b[0;34m,\u001b[0m \u001b[0mrelative_to_object\u001b[0m\u001b[0;34m=\u001b[0m\u001b[0mNone\u001b[0m\u001b[0;34m)\u001b[0m\u001b[0;34m:\u001b[0m\u001b[0;34m\u001b[0m\u001b[0m\n",
      "\u001b[0;32m/Library/Frameworks/Python.framework/Versions/2.7/lib/python2.7/site-packages/pypot/vrep/io.pyc\u001b[0m in \u001b[0;36mcall_remote_api\u001b[0;34m(self, func_name, *args, **kwargs)\u001b[0m\n\u001b[1;32m    316\u001b[0m                 \u001b[0mres\u001b[0m \u001b[0;34m=\u001b[0m \u001b[0mres\u001b[0m\u001b[0;34m[\u001b[0m\u001b[0;36m0\u001b[0m\u001b[0;34m]\u001b[0m \u001b[0;32mif\u001b[0m \u001b[0mlen\u001b[0m\u001b[0;34m(\u001b[0m\u001b[0mres\u001b[0m\u001b[0;34m)\u001b[0m \u001b[0;34m==\u001b[0m \u001b[0;36m1\u001b[0m \u001b[0;32melse\u001b[0m \u001b[0mres\u001b[0m\u001b[0;34m\u001b[0m\u001b[0m\n\u001b[1;32m    317\u001b[0m \u001b[0;34m\u001b[0m\u001b[0m\n\u001b[0;32m--> 318\u001b[0;31m             \u001b[0merr\u001b[0m \u001b[0;34m=\u001b[0m \u001b[0;34m[\u001b[0m\u001b[0mbool\u001b[0m\u001b[0;34m(\u001b[0m\u001b[0;34m(\u001b[0m\u001b[0merr\u001b[0m \u001b[0;34m>>\u001b[0m \u001b[0mi\u001b[0m\u001b[0;34m)\u001b[0m \u001b[0;34m&\u001b[0m \u001b[0;36m1\u001b[0m\u001b[0;34m)\u001b[0m \u001b[0;32mfor\u001b[0m \u001b[0mi\u001b[0m \u001b[0;32min\u001b[0m \u001b[0mrange\u001b[0m\u001b[0;34m(\u001b[0m\u001b[0mlen\u001b[0m\u001b[0;34m(\u001b[0m\u001b[0mvrep_error\u001b[0m\u001b[0;34m)\u001b[0m\u001b[0;34m)\u001b[0m\u001b[0;34m]\u001b[0m\u001b[0;34m\u001b[0m\u001b[0m\n\u001b[0m\u001b[1;32m    319\u001b[0m \u001b[0;34m\u001b[0m\u001b[0m\n\u001b[1;32m    320\u001b[0m             \u001b[0;32mif\u001b[0m \u001b[0mremote_api\u001b[0m\u001b[0;34m.\u001b[0m\u001b[0msimx_return_novalue_flag\u001b[0m \u001b[0;32mnot\u001b[0m \u001b[0;32min\u001b[0m \u001b[0merr\u001b[0m\u001b[0;34m:\u001b[0m\u001b[0;34m\u001b[0m\u001b[0m\n",
      "\u001b[0;31mKeyboardInterrupt\u001b[0m: "
     ]
    }
   ],
   "source": [
    "# Draw single line trace and print the state\n",
    "t = time.time()\n",
    "while 1:\n",
    "    x = np.sin(2 * 3.14159 * time.time() * 0.1)\n",
    "    io.set_object_position('cube', position=[x, -1, 1])\n",
    "\n",
    "    if time.time() - t > 0.1:\n",
    "        print getState(canSeeJudge(headForwardDirection(), objectRelPosition(name)), 10, 10)\n",
    "        t = time.time()"
   ]
  },
  {
   "cell_type": "markdown",
   "metadata": {},
   "source": [
    "# Trivial Implementation of Motion Capture\n",
    "\n",
    "Initialize"
   ]
  },
  {
   "cell_type": "code",
   "execution_count": 1,
   "metadata": {
    "collapsed": false
   },
   "outputs": [],
   "source": [
    "from poppy.creatures import PoppyTorso\n",
    "import numpy as np\n",
    "import time\n",
    "import math\n",
    "\n",
    "poppy = PoppyTorso(simulator='vrep')\n",
    "\n",
    "# Add object\n",
    "io = poppy._controllers[0].io\n",
    "name = 'cube'\n",
    "position = [0, -0.15, 0.85] # X, Y, Z\n",
    "sizes = [0.1, 0.1, 0.1] # in meters\n",
    "mass = 0 # in kg\n",
    "io.add_cube(name, position, sizes, mass)\n",
    "time.sleep(1)\n",
    "name1 = 'cube2'\n",
    "position1 = [0, -1, 0.5]\n",
    "sizes1 = [3, 0.3, 1]\n",
    "io.add_cube(name1, position1, sizes1, mass)\n",
    "io.set_object_position('cube', position=[0, -1, 1.05])"
   ]
  },
  {
   "cell_type": "markdown",
   "metadata": {},
   "source": [
    "Action Definition"
   ]
  },
  {
   "cell_type": "code",
   "execution_count": 2,
   "metadata": {
    "collapsed": false
   },
   "outputs": [],
   "source": [
    "# Motor Action Configuration\n",
    "def headMotionUp():\n",
    "    angleY = poppy.head_y.present_position\n",
    "    poppy.head_y.goal_position = angleY - 3\n",
    "    time.sleep(0.02)\n",
    "def headMotionDown():\n",
    "    angleY = poppy.head_y.present_position\n",
    "    poppy.head_y.goal_position = angleY + 3\n",
    "    time.sleep(0.02)\n",
    "def headMotionLeft():\n",
    "    angleZ = poppy.head_z.present_position\n",
    "    poppy.head_z.goal_position = angleZ + 3\n",
    "    time.sleep(0.02)\n",
    "def headMotionRight():\n",
    "    angleZ = poppy.head_z.present_position\n",
    "    poppy.head_z.goal_position = angleZ - 3\n",
    "    time.sleep(0.02)\n",
    "def headMotionUpLeft():\n",
    "    angleY = poppy.head_y.present_position\n",
    "    angleZ = poppy.head_z.present_position\n",
    "    poppy.head_z.goal_position = angleZ + 3\n",
    "    poppy.head_y.goal_position = angleY - 3\n",
    "    time.sleep(0.02)\n",
    "def headMotionUpRight():\n",
    "    angleY = poppy.head_y.present_position\n",
    "    angleZ = poppy.head_z.present_position\n",
    "    poppy.head_z.goal_position = angleZ - 3\n",
    "    poppy.head_y.goal_position = angleY - 3\n",
    "    time.sleep(0.02)\n",
    "def headMotionDownLeft():\n",
    "    angleY = poppy.head_y.present_position\n",
    "    angleZ = poppy.head_z.present_position\n",
    "    poppy.head_z.goal_position = angleZ + 3\n",
    "    poppy.head_y.goal_position = angleY + 3\n",
    "    time.sleep(0.02)\n",
    "def headMotionDownRight():\n",
    "    angleY = poppy.head_y.present_position\n",
    "    angleZ = poppy.head_z.present_position\n",
    "    poppy.head_z.goal_position = angleZ - 3\n",
    "    poppy.head_y.goal_position = angleY + 3\n",
    "    time.sleep(0.02)\n",
    "    \n",
    "def motionControl(x, y):\n",
    "# It's a trivial manual policy\n",
    "    if x > 2:\n",
    "        if y > 2:\n",
    "            headMotionUpRight()\n",
    "        if y in [-2, -1, 0, 1, 2]:\n",
    "            headMotionRight()\n",
    "        if y < -2:\n",
    "            headMotionDownRight()\n",
    "    if x in [-2, -1, 0, 1, 2]:\n",
    "        if y > 2:\n",
    "            headMotionUp()\n",
    "        if y < -2:\n",
    "            headMotionDown()\n",
    "    if x < -2:\n",
    "        if y > 2:\n",
    "            headMotionUpLeft()\n",
    "        if y in [-2, -1, 0, 1, 2]:\n",
    "            headMotionLeft()\n",
    "        if y < -2:\n",
    "            headMotionDownLeft()"
   ]
  },
  {
   "cell_type": "markdown",
   "metadata": {},
   "source": [
    "Motion Capture"
   ]
  },
  {
   "cell_type": "code",
   "execution_count": 4,
   "metadata": {
    "collapsed": false
   },
   "outputs": [
    {
     "name": "stdout",
     "output_type": "stream",
     "text": [
      "The object can't be seen\n",
      "The object can't be seen\n",
      "The object can't be seen\n",
      "The object can't be seen\n",
      "The object can't be seen\n",
      "The object can't be seen\n",
      "The object can't be seen\n",
      "The object can't be seen\n",
      "The object can't be seen\n",
      "The object can't be seen\n",
      "The object can't be seen\n",
      "The object can't be seen\n",
      "The object can't be seen\n",
      "The object can't be seen\n",
      "The object can't be seen\n",
      "The object can't be seen\n",
      "The object can't be seen\n",
      "The object can't be seen\n",
      "The object can't be seen\n",
      "The object can't be seen\n",
      "The object can't be seen\n",
      "The object can't be seen\n",
      "The object can't be seen\n",
      "The object can't be seen\n",
      "The object can't be seen\n",
      "The object can't be seen\n",
      "The object can't be seen\n",
      "The object can't be seen\n",
      "The object can't be seen\n",
      "The object can't be seen\n",
      "The object can't be seen\n",
      "The object can't be seen\n",
      "The object can't be seen\n",
      "The object can't be seen\n",
      "The object can't be seen\n",
      "The object can't be seen\n",
      "The object can't be seen\n",
      "The object can't be seen\n",
      "The object can't be seen\n",
      "The object can't be seen\n",
      "The object can't be seen\n"
     ]
    },
    {
     "ename": "VrepIOErrors",
     "evalue": "Remote error",
     "output_type": "error",
     "traceback": [
      "\u001b[0;31m---------------------------------------------------------------------------\u001b[0m",
      "\u001b[0;31mVrepIOErrors\u001b[0m                              Traceback (most recent call last)",
      "\u001b[0;32m<ipython-input-4-50f1789043a0>\u001b[0m in \u001b[0;36m<module>\u001b[0;34m()\u001b[0m\n\u001b[1;32m     86\u001b[0m \u001b[0;32mwhile\u001b[0m \u001b[0;36m1\u001b[0m\u001b[0;34m:\u001b[0m\u001b[0;34m\u001b[0m\u001b[0m\n\u001b[1;32m     87\u001b[0m     \u001b[0mx\u001b[0m \u001b[0;34m=\u001b[0m \u001b[0mnp\u001b[0m\u001b[0;34m.\u001b[0m\u001b[0msin\u001b[0m\u001b[0;34m(\u001b[0m\u001b[0;36m2\u001b[0m \u001b[0;34m*\u001b[0m \u001b[0;36m3.14159\u001b[0m \u001b[0;34m*\u001b[0m \u001b[0mtime\u001b[0m\u001b[0;34m.\u001b[0m\u001b[0mtime\u001b[0m\u001b[0;34m(\u001b[0m\u001b[0;34m)\u001b[0m \u001b[0;34m*\u001b[0m \u001b[0;36m0.1\u001b[0m\u001b[0;34m)\u001b[0m\u001b[0;34m\u001b[0m\u001b[0m\n\u001b[0;32m---> 88\u001b[0;31m     \u001b[0ma\u001b[0m\u001b[0;34m,\u001b[0m \u001b[0mb\u001b[0m\u001b[0;34m,\u001b[0m \u001b[0mc\u001b[0m \u001b[0;34m=\u001b[0m \u001b[0mio\u001b[0m\u001b[0;34m.\u001b[0m\u001b[0mget_object_position\u001b[0m\u001b[0;34m(\u001b[0m\u001b[0mname\u001b[0m\u001b[0;34m)\u001b[0m\u001b[0;34m\u001b[0m\u001b[0m\n\u001b[0m\u001b[1;32m     89\u001b[0m     \u001b[0mio\u001b[0m\u001b[0;34m.\u001b[0m\u001b[0mset_object_position\u001b[0m\u001b[0;34m(\u001b[0m\u001b[0;34m'cube'\u001b[0m\u001b[0;34m,\u001b[0m \u001b[0mposition\u001b[0m\u001b[0;34m=\u001b[0m\u001b[0;34m[\u001b[0m\u001b[0mx\u001b[0m\u001b[0;34m,\u001b[0m \u001b[0mb\u001b[0m\u001b[0;34m,\u001b[0m \u001b[0mc\u001b[0m\u001b[0;34m]\u001b[0m\u001b[0;34m)\u001b[0m\u001b[0;34m\u001b[0m\u001b[0m\n\u001b[1;32m     90\u001b[0m \u001b[0;34m\u001b[0m\u001b[0m\n",
      "\u001b[0;32m/Library/Frameworks/Python.framework/Versions/2.7/lib/python2.7/site-packages/pypot/vrep/io.pyc\u001b[0m in \u001b[0;36mget_object_position\u001b[0;34m(self, object_name, relative_to_object)\u001b[0m\n\u001b[1;32m    175\u001b[0m         return self.call_remote_api('simxGetObjectPosition',\n\u001b[1;32m    176\u001b[0m                                     \u001b[0mh\u001b[0m\u001b[0;34m,\u001b[0m \u001b[0mrelative_handle\u001b[0m\u001b[0;34m,\u001b[0m\u001b[0;34m\u001b[0m\u001b[0m\n\u001b[0;32m--> 177\u001b[0;31m                                     streaming=True)\n\u001b[0m\u001b[1;32m    178\u001b[0m \u001b[0;34m\u001b[0m\u001b[0m\n\u001b[1;32m    179\u001b[0m     \u001b[0;32mdef\u001b[0m \u001b[0mset_object_position\u001b[0m\u001b[0;34m(\u001b[0m\u001b[0mself\u001b[0m\u001b[0;34m,\u001b[0m \u001b[0mobject_name\u001b[0m\u001b[0;34m,\u001b[0m \u001b[0mposition\u001b[0m\u001b[0;34m=\u001b[0m\u001b[0;34m[\u001b[0m\u001b[0;36m0\u001b[0m\u001b[0;34m,\u001b[0m \u001b[0;36m0\u001b[0m\u001b[0;34m,\u001b[0m \u001b[0;36m0\u001b[0m\u001b[0;34m]\u001b[0m\u001b[0;34m)\u001b[0m\u001b[0;34m:\u001b[0m\u001b[0;34m\u001b[0m\u001b[0m\n",
      "\u001b[0;32m/Library/Frameworks/Python.framework/Versions/2.7/lib/python2.7/site-packages/pypot/vrep/io.pyc\u001b[0m in \u001b[0;36mcall_remote_api\u001b[0;34m(self, func_name, *args, **kwargs)\u001b[0m\n\u001b[1;32m    357\u001b[0m             msg = ' '.join([vrep_error[2 ** i]\n\u001b[1;32m    358\u001b[0m                             for i, e in enumerate(err) if e])\n\u001b[0;32m--> 359\u001b[0;31m             \u001b[0;32mraise\u001b[0m \u001b[0mVrepIOErrors\u001b[0m\u001b[0;34m(\u001b[0m\u001b[0mmsg\u001b[0m\u001b[0;34m)\u001b[0m\u001b[0;34m\u001b[0m\u001b[0m\n\u001b[0m\u001b[1;32m    360\u001b[0m \u001b[0;34m\u001b[0m\u001b[0m\n\u001b[1;32m    361\u001b[0m         \u001b[0;32mreturn\u001b[0m \u001b[0mres\u001b[0m\u001b[0;34m\u001b[0m\u001b[0m\n",
      "\u001b[0;31mVrepIOErrors\u001b[0m: Remote error"
     ]
    }
   ],
   "source": [
    "\n",
    "############################ Pseudo CV algorithm ##############################\n",
    "\n",
    "# Output the heading direction of camera\n",
    "\n",
    "def headForwardDirection():\n",
    "    angleNegativeY = poppy.head_z.present_position\n",
    "    angleSurfaceXY = - poppy.head_y.present_position\n",
    "\n",
    "    angleNegativeY = angleNegativeY / 180 * 3.14159\n",
    "    angleSurfaceXY = angleSurfaceXY / 180 * 3.14159\n",
    "\n",
    "    y = - np.cos(angleSurfaceXY) * np.cos(angleNegativeY)\n",
    "    x = np.cos(angleSurfaceXY) * np.sin(angleNegativeY)\n",
    "    z = np.sin(angleSurfaceXY)\n",
    "\n",
    "    forwardDire = [x, y, z]\n",
    "    return forwardDire\n",
    "\n",
    "# Output the relative position of object w.r.t camera position\n",
    "\n",
    "def objectRelPosition(name):\n",
    "    objectPos = io.get_object_position(name)\n",
    "    positionCameraOri = [0, -0.05, 1.06] # Camera's position in Vrep\n",
    "\n",
    "    objectRelPos = [objectPos[i] - positionCameraOri[i] for i in xrange(3)]\n",
    "\n",
    "    return objectRelPos\n",
    "\n",
    "# Output the angels(horizontal, vertical) of object w.r.t the center of camera sight\n",
    "# If object is not in sight, return False\n",
    "\n",
    "def canSeeJudge(headForwardDirection, objectRelPos):\n",
    "    orthognalBasis1 = headForwardDirection\n",
    "    orthognalBasis2 = [orthognalBasis1[1], -orthognalBasis1[0], 0]\n",
    "    normOrthBasis2 = np.linalg.norm(orthognalBasis2)\n",
    "    orthognalBasis2 =  [orthognalBasis2[i] / normOrthBasis2 for i in xrange(3) ]\n",
    "    orthognalBasis3 = np.cross(orthognalBasis2, orthognalBasis1)\n",
    "\n",
    "    objectProjectionOnOrthBasis1 = np.dot(objectRelPos, orthognalBasis1)\n",
    "    if objectProjectionOnOrthBasis1 < 0:\n",
    "        return False\n",
    "    objectProjectionOnOrthBasis2 = np.dot(objectRelPos, orthognalBasis2)\n",
    "    objectProjectionOnOrthBasis3 = np.dot(objectRelPos, orthognalBasis3)\n",
    "\n",
    "    newCoordinate = [objectProjectionOnOrthBasis1, objectProjectionOnOrthBasis2, objectProjectionOnOrthBasis3]\n",
    "\n",
    "    tt = [1, 0, 0]\n",
    "\n",
    "    t = [objectProjectionOnOrthBasis1, objectProjectionOnOrthBasis2, 0]\n",
    "    angle1 = np.arccos(np.dot(tt, t) / np.linalg.norm(t)) / 3.14159 * 180\n",
    "\n",
    "    if abs(angle1) > 37:\n",
    "        return False\n",
    "    t = [objectProjectionOnOrthBasis1, 0, objectProjectionOnOrthBasis3]\n",
    "    angle2 = np.arccos(np.dot(tt, t) / np.linalg.norm(t)) / 3.14159 * 180\n",
    "    if abs(angle2) > 18.5:\n",
    "        return False\n",
    "    \n",
    "    if objectProjectionOnOrthBasis3 < 0 and angle2 > 0:\n",
    "        angle2 = -angle2\n",
    "\n",
    "    if objectProjectionOnOrthBasis2 > 0 and angle1 > 0:\n",
    "        angle1 = -angle1\n",
    "    return angle1, angle2\n",
    "\n",
    "# Output the state of problem\n",
    "def getState(angle, m, n):\n",
    "    if not angle:\n",
    "        print \"The object can't be seen\"\n",
    "        return False\n",
    "    angle1, angle2 = angle\n",
    "    state1 = math.ceil(abs(np.sin(angle1 / 180.0 * 3.14159) / np.sin(37 / 180.0 * 3.14159) * m))\n",
    "    state2 = math.ceil(abs(np.sin(angle2 / 180.0 * 3.14159) / np.sin(18.5 / 180.0 * 3.14159) * m))\n",
    "    if angle1 > 0:\n",
    "        state1 = -state1\n",
    "    if angle2 < 0:\n",
    "        state2 = -state2\n",
    "    return (state1, state2)\n",
    "\n",
    "##############################################################################\n",
    "\n",
    "\n",
    "# Draw single line trace and print the state\n",
    "t = time.time()\n",
    "while 1:\n",
    "    x = np.sin(2 * 3.14159 * time.time() * 0.1)\n",
    "    a, b, c = io.get_object_position(name)\n",
    "    io.set_object_position('cube', position=[x, b, c])\n",
    "    \n",
    "\n",
    "    if time.time() - t > 0.1:\n",
    "        t = time.time()\n",
    "        state = getState(canSeeJudge(headForwardDirection(), objectRelPosition(name)), 20, 10)\n",
    "        if not state:\n",
    "            continue\n",
    "        x, y = state\n",
    "        motionControl(x, y)"
   ]
  },
  {
   "cell_type": "code",
   "execution_count": null,
   "metadata": {
    "collapsed": true
   },
   "outputs": [],
   "source": []
  }
 ],
 "metadata": {
  "celltoolbar": "Edit Metadata",
  "kernelspec": {
   "display_name": "Python 2",
   "language": "python",
   "name": "python2"
  },
  "language_info": {
   "codemirror_mode": {
    "name": "ipython",
    "version": 2
   },
   "file_extension": ".py",
   "mimetype": "text/x-python",
   "name": "python",
   "nbconvert_exporter": "python",
   "pygments_lexer": "ipython2",
   "version": "2.7.11"
  }
 },
 "nbformat": 4,
 "nbformat_minor": 0
}
