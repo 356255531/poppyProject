{
 "cells": [
  {
   "cell_type": "code",
   "execution_count": 1,
   "metadata": {
    "collapsed": false
   },
   "outputs": [
    {
     "name": "stdout",
     "output_type": "stream",
     "text": [
      "('available ports:', ['/dev/tty.usbmodem1411'])\n",
      "('Using the first on the list', '/dev/tty.usbmodem1411')\n",
      "('available ports:', ['/dev/tty.usbmodem1411'])\n",
      "('Using the first on the list', '/dev/tty.usbmodem1411')\n",
      "Connected!\n"
     ]
    }
   ],
   "source": [
    "import pypot.dynamixel\n",
    "import itertools\n",
    "import time\n",
    "\n",
    "ports = pypot.dynamixel.get_available_ports()\n",
    "print('available ports:', ports)\n",
    "\n",
    "port = ports[0]\n",
    "print('Using the first on the list', port)\n",
    "\n",
    "ports = pypot.dynamixel.get_available_ports()\n",
    "print('available ports:', ports)\n",
    "\n",
    "port = ports[0]\n",
    "print('Using the first on the list', port)\n",
    "\n",
    "dxl_io = pypot.dynamixel.DxlIO(port)\n",
    "print('Connected!')"
   ]
  },
  {
   "cell_type": "code",
   "execution_count": 2,
   "metadata": {
    "collapsed": false
   },
   "outputs": [
    {
     "name": "stdout",
     "output_type": "stream",
     "text": [
      "('available ports:', ['/dev/tty.usbmodem1411'])\n",
      "('Using the first on the list', '/dev/tty.usbmodem1411')\n",
      "Connected!\n",
      "-8.36\n",
      "-8.36\n",
      "-8.36\n",
      "-8.36\n",
      "-8.36\n"
     ]
    },
    {
     "ename": "KeyboardInterrupt",
     "evalue": "",
     "output_type": "error",
     "traceback": [
      "\u001b[0;31m---------------------------------------------------------------------------\u001b[0m",
      "\u001b[0;31mKeyboardInterrupt\u001b[0m                         Traceback (most recent call last)",
      "\u001b[0;32m<ipython-input-2-b7f830d8d30f>\u001b[0m in \u001b[0;36m<module>\u001b[0;34m()\u001b[0m\n\u001b[1;32m     10\u001b[0m \u001b[0mangleBefore\u001b[0m \u001b[0;34m=\u001b[0m \u001b[0mlist\u001b[0m\u001b[0;34m(\u001b[0m\u001b[0mdxl_io\u001b[0m\u001b[0;34m.\u001b[0m\u001b[0mget_present_position\u001b[0m\u001b[0;34m(\u001b[0m\u001b[0;34m(\u001b[0m\u001b[0;36m37\u001b[0m\u001b[0;34m,\u001b[0m \u001b[0;34m)\u001b[0m\u001b[0;34m)\u001b[0m\u001b[0;34m)\u001b[0m\u001b[0;34m[\u001b[0m\u001b[0;36m0\u001b[0m\u001b[0;34m]\u001b[0m\u001b[0;34m\u001b[0m\u001b[0m\n\u001b[1;32m     11\u001b[0m \u001b[0;32mwhile\u001b[0m \u001b[0;36m1\u001b[0m\u001b[0;34m:\u001b[0m\u001b[0;34m\u001b[0m\u001b[0m\n\u001b[0;32m---> 12\u001b[0;31m     \u001b[0;32mif\u001b[0m \u001b[0mabs\u001b[0m\u001b[0;34m(\u001b[0m\u001b[0mangleBefore\u001b[0m \u001b[0;34m-\u001b[0m \u001b[0mlist\u001b[0m\u001b[0;34m(\u001b[0m\u001b[0mdxl_io\u001b[0m\u001b[0;34m.\u001b[0m\u001b[0mget_present_position\u001b[0m\u001b[0;34m(\u001b[0m\u001b[0;34m(\u001b[0m\u001b[0;36m37\u001b[0m\u001b[0;34m,\u001b[0m \u001b[0;34m)\u001b[0m\u001b[0;34m)\u001b[0m\u001b[0;34m)\u001b[0m\u001b[0;34m[\u001b[0m\u001b[0;36m0\u001b[0m\u001b[0;34m]\u001b[0m\u001b[0;34m)\u001b[0m \u001b[0;34m>\u001b[0m \u001b[0;36m0.5\u001b[0m\u001b[0;34m:\u001b[0m\u001b[0;34m\u001b[0m\u001b[0m\n\u001b[0m\u001b[1;32m     13\u001b[0m         \u001b[0;32mprint\u001b[0m \u001b[0mangleBefore\u001b[0m\u001b[0;34m\u001b[0m\u001b[0m\n\u001b[1;32m     14\u001b[0m         \u001b[0mangleBefore\u001b[0m \u001b[0;34m=\u001b[0m \u001b[0mlist\u001b[0m\u001b[0;34m(\u001b[0m\u001b[0mdxl_io\u001b[0m\u001b[0;34m.\u001b[0m\u001b[0mget_present_position\u001b[0m\u001b[0;34m(\u001b[0m\u001b[0;34m(\u001b[0m\u001b[0;36m37\u001b[0m\u001b[0;34m,\u001b[0m \u001b[0;34m)\u001b[0m\u001b[0;34m)\u001b[0m\u001b[0;34m)\u001b[0m\u001b[0;34m[\u001b[0m\u001b[0;36m0\u001b[0m\u001b[0;34m]\u001b[0m\u001b[0;34m\u001b[0m\u001b[0m\n",
      "\u001b[0;32m/Library/Frameworks/Python.framework/Versions/2.7/lib/python2.7/site-packages/pypot/dynamixel/io/abstract_io.pyc\u001b[0m in \u001b[0;36mmy_getter\u001b[0;34m(self, ids, **kwargs)\u001b[0m\n\u001b[1;32m    355\u001b[0m         \u001b[0;32mif\u001b[0m \u001b[0mcontrol\u001b[0m\u001b[0;34m.\u001b[0m\u001b[0maccess\u001b[0m \u001b[0;32min\u001b[0m \u001b[0;34m(\u001b[0m\u001b[0m_DxlAccess\u001b[0m\u001b[0;34m.\u001b[0m\u001b[0mreadonly\u001b[0m\u001b[0;34m,\u001b[0m \u001b[0m_DxlAccess\u001b[0m\u001b[0;34m.\u001b[0m\u001b[0mreadwrite\u001b[0m\u001b[0;34m)\u001b[0m\u001b[0;34m:\u001b[0m\u001b[0;34m\u001b[0m\u001b[0m\n\u001b[1;32m    356\u001b[0m             \u001b[0;32mdef\u001b[0m \u001b[0mmy_getter\u001b[0m\u001b[0;34m(\u001b[0m\u001b[0mself\u001b[0m\u001b[0;34m,\u001b[0m \u001b[0mids\u001b[0m\u001b[0;34m,\u001b[0m \u001b[0;34m**\u001b[0m\u001b[0mkwargs\u001b[0m\u001b[0;34m)\u001b[0m\u001b[0;34m:\u001b[0m\u001b[0;34m\u001b[0m\u001b[0m\n\u001b[0;32m--> 357\u001b[0;31m                 \u001b[0;32mreturn\u001b[0m \u001b[0mself\u001b[0m\u001b[0;34m.\u001b[0m\u001b[0m_get_control_value\u001b[0m\u001b[0;34m(\u001b[0m\u001b[0mcontrol\u001b[0m\u001b[0;34m,\u001b[0m \u001b[0mids\u001b[0m\u001b[0;34m,\u001b[0m \u001b[0;34m**\u001b[0m\u001b[0mkwargs\u001b[0m\u001b[0;34m)\u001b[0m\u001b[0;34m\u001b[0m\u001b[0m\n\u001b[0m\u001b[1;32m    358\u001b[0m \u001b[0;34m\u001b[0m\u001b[0m\n\u001b[1;32m    359\u001b[0m             \u001b[0mfunc_name\u001b[0m \u001b[0;34m=\u001b[0m \u001b[0mcontrol\u001b[0m\u001b[0;34m.\u001b[0m\u001b[0mgetter_name\u001b[0m \u001b[0;32mif\u001b[0m \u001b[0mcontrol\u001b[0m\u001b[0;34m.\u001b[0m\u001b[0mgetter_name\u001b[0m \u001b[0;32melse\u001b[0m \u001b[0;34m'get_{}'\u001b[0m\u001b[0;34m.\u001b[0m\u001b[0mformat\u001b[0m\u001b[0;34m(\u001b[0m\u001b[0mcontrol\u001b[0m\u001b[0;34m.\u001b[0m\u001b[0mname\u001b[0m\u001b[0;34m.\u001b[0m\u001b[0mreplace\u001b[0m\u001b[0;34m(\u001b[0m\u001b[0;34m' '\u001b[0m\u001b[0;34m,\u001b[0m \u001b[0;34m'_'\u001b[0m\u001b[0;34m)\u001b[0m\u001b[0;34m)\u001b[0m\u001b[0;34m\u001b[0m\u001b[0m\n",
      "\u001b[0;32m/Library/Frameworks/Python.framework/Versions/2.7/lib/python2.7/site-packages/pypot/dynamixel/io/abstract_io.pyc\u001b[0m in \u001b[0;36m_get_control_value\u001b[0;34m(self, control, ids, **kwargs)\u001b[0m\n\u001b[1;32m    410\u001b[0m             \u001b[0;32mfor\u001b[0m \u001b[0mmotor_id\u001b[0m \u001b[0;32min\u001b[0m \u001b[0mids\u001b[0m\u001b[0;34m:\u001b[0m\u001b[0;34m\u001b[0m\u001b[0m\n\u001b[1;32m    411\u001b[0m                 \u001b[0mrp\u001b[0m \u001b[0;34m=\u001b[0m \u001b[0mself\u001b[0m\u001b[0;34m.\u001b[0m\u001b[0m_protocol\u001b[0m\u001b[0;34m.\u001b[0m\u001b[0mDxlReadDataPacket\u001b[0m\u001b[0;34m(\u001b[0m\u001b[0mmotor_id\u001b[0m\u001b[0;34m,\u001b[0m \u001b[0mcontrol\u001b[0m\u001b[0;34m.\u001b[0m\u001b[0maddress\u001b[0m\u001b[0;34m,\u001b[0m \u001b[0mcontrol\u001b[0m\u001b[0;34m.\u001b[0m\u001b[0mlength\u001b[0m \u001b[0;34m*\u001b[0m \u001b[0mcontrol\u001b[0m\u001b[0;34m.\u001b[0m\u001b[0mnb_elem\u001b[0m\u001b[0;34m)\u001b[0m\u001b[0;34m\u001b[0m\u001b[0m\n\u001b[0;32m--> 412\u001b[0;31m                 \u001b[0msp\u001b[0m \u001b[0;34m=\u001b[0m \u001b[0mself\u001b[0m\u001b[0;34m.\u001b[0m\u001b[0m_send_packet\u001b[0m\u001b[0;34m(\u001b[0m\u001b[0mrp\u001b[0m\u001b[0;34m,\u001b[0m \u001b[0merror_handler\u001b[0m\u001b[0;34m=\u001b[0m\u001b[0merror_handler\u001b[0m\u001b[0;34m)\u001b[0m\u001b[0;34m\u001b[0m\u001b[0m\n\u001b[0m\u001b[1;32m    413\u001b[0m \u001b[0;34m\u001b[0m\u001b[0m\n\u001b[1;32m    414\u001b[0m                 \u001b[0;32mif\u001b[0m \u001b[0;32mnot\u001b[0m \u001b[0msp\u001b[0m\u001b[0;34m:\u001b[0m\u001b[0;34m\u001b[0m\u001b[0m\n",
      "\u001b[0;32m/Library/Frameworks/Python.framework/Versions/2.7/lib/python2.7/site-packages/pypot/dynamixel/io/abstract_io.pyc\u001b[0m in \u001b[0;36m_send_packet\u001b[0;34m(self, instruction_packet, wait_for_status_packet, error_handler, _force_lock)\u001b[0m\n\u001b[1;32m    524\u001b[0m \u001b[0;34m\u001b[0m\u001b[0m\n\u001b[1;32m    525\u001b[0m         \u001b[0;32mif\u001b[0m \u001b[0;32mnot\u001b[0m \u001b[0merror_handler\u001b[0m\u001b[0;34m:\u001b[0m\u001b[0;34m\u001b[0m\u001b[0m\n\u001b[0;32m--> 526\u001b[0;31m             \u001b[0;32mreturn\u001b[0m \u001b[0mself\u001b[0m\u001b[0;34m.\u001b[0m\u001b[0m__real_send\u001b[0m\u001b[0;34m(\u001b[0m\u001b[0minstruction_packet\u001b[0m\u001b[0;34m,\u001b[0m \u001b[0mwait_for_status_packet\u001b[0m\u001b[0;34m,\u001b[0m \u001b[0m_force_lock\u001b[0m\u001b[0;34m)\u001b[0m\u001b[0;34m\u001b[0m\u001b[0m\n\u001b[0m\u001b[1;32m    527\u001b[0m \u001b[0;34m\u001b[0m\u001b[0m\n\u001b[1;32m    528\u001b[0m         \u001b[0;32mtry\u001b[0m\u001b[0;34m:\u001b[0m\u001b[0;34m\u001b[0m\u001b[0m\n",
      "\u001b[0;32m/Library/Frameworks/Python.framework/Versions/2.7/lib/python2.7/site-packages/pypot/dynamixel/io/abstract_io.pyc\u001b[0m in \u001b[0;36m__real_send\u001b[0;34m(self, instruction_packet, wait_for_status_packet, _force_lock)\u001b[0m\n\u001b[1;32m    492\u001b[0m                 \u001b[0;32mreturn\u001b[0m\u001b[0;34m\u001b[0m\u001b[0m\n\u001b[1;32m    493\u001b[0m \u001b[0;34m\u001b[0m\u001b[0m\n\u001b[0;32m--> 494\u001b[0;31m             \u001b[0mstatus_packet\u001b[0m \u001b[0;34m=\u001b[0m \u001b[0mself\u001b[0m\u001b[0;34m.\u001b[0m\u001b[0m__real_read\u001b[0m\u001b[0;34m(\u001b[0m\u001b[0minstruction_packet\u001b[0m\u001b[0;34m,\u001b[0m \u001b[0m_force_lock\u001b[0m\u001b[0;34m=\u001b[0m\u001b[0mTrue\u001b[0m\u001b[0;34m)\u001b[0m\u001b[0;34m\u001b[0m\u001b[0m\n\u001b[0m\u001b[1;32m    495\u001b[0m \u001b[0;34m\u001b[0m\u001b[0m\n\u001b[1;32m    496\u001b[0m             logger.debug('Receiving %s', status_packet,\n",
      "\u001b[0;32m/Library/Frameworks/Python.framework/Versions/2.7/lib/python2.7/site-packages/pypot/dynamixel/io/abstract_io.pyc\u001b[0m in \u001b[0;36m__real_read\u001b[0;34m(self, instruction_packet, _force_lock)\u001b[0m\n\u001b[1;32m    503\u001b[0m     \u001b[0;32mdef\u001b[0m \u001b[0m__real_read\u001b[0m\u001b[0;34m(\u001b[0m\u001b[0mself\u001b[0m\u001b[0;34m,\u001b[0m \u001b[0minstruction_packet\u001b[0m\u001b[0;34m,\u001b[0m \u001b[0m_force_lock\u001b[0m\u001b[0;34m)\u001b[0m\u001b[0;34m:\u001b[0m\u001b[0;34m\u001b[0m\u001b[0m\n\u001b[1;32m    504\u001b[0m         \u001b[0;32mwith\u001b[0m \u001b[0mself\u001b[0m\u001b[0;34m.\u001b[0m\u001b[0m__force_lock\u001b[0m\u001b[0;34m(\u001b[0m\u001b[0m_force_lock\u001b[0m\u001b[0;34m)\u001b[0m \u001b[0;32mor\u001b[0m \u001b[0mself\u001b[0m\u001b[0;34m.\u001b[0m\u001b[0m_serial_lock\u001b[0m\u001b[0;34m:\u001b[0m\u001b[0;34m\u001b[0m\u001b[0m\n\u001b[0;32m--> 505\u001b[0;31m             \u001b[0mdata\u001b[0m \u001b[0;34m=\u001b[0m \u001b[0mself\u001b[0m\u001b[0;34m.\u001b[0m\u001b[0m_serial\u001b[0m\u001b[0;34m.\u001b[0m\u001b[0mread\u001b[0m\u001b[0;34m(\u001b[0m\u001b[0mself\u001b[0m\u001b[0;34m.\u001b[0m\u001b[0m_protocol\u001b[0m\u001b[0;34m.\u001b[0m\u001b[0mDxlPacketHeader\u001b[0m\u001b[0;34m.\u001b[0m\u001b[0mlength\u001b[0m\u001b[0;34m)\u001b[0m\u001b[0;34m\u001b[0m\u001b[0m\n\u001b[0m\u001b[1;32m    506\u001b[0m             \u001b[0;32mif\u001b[0m \u001b[0;32mnot\u001b[0m \u001b[0mdata\u001b[0m\u001b[0;34m:\u001b[0m\u001b[0;34m\u001b[0m\u001b[0m\n\u001b[1;32m    507\u001b[0m                 \u001b[0;32mraise\u001b[0m \u001b[0mDxlTimeoutError\u001b[0m\u001b[0;34m(\u001b[0m\u001b[0mself\u001b[0m\u001b[0;34m,\u001b[0m \u001b[0minstruction_packet\u001b[0m\u001b[0;34m,\u001b[0m \u001b[0minstruction_packet\u001b[0m\u001b[0;34m.\u001b[0m\u001b[0mid\u001b[0m\u001b[0;34m)\u001b[0m\u001b[0;34m\u001b[0m\u001b[0m\n",
      "\u001b[0;32m/Library/Frameworks/Python.framework/Versions/2.7/lib/python2.7/site-packages/serial/serialposix.pyc\u001b[0m in \u001b[0;36mread\u001b[0;34m(self, size)\u001b[0m\n\u001b[1;32m    479\u001b[0m             \u001b[0;32mtry\u001b[0m\u001b[0;34m:\u001b[0m\u001b[0;34m\u001b[0m\u001b[0m\n\u001b[1;32m    480\u001b[0m                 \u001b[0mstart_time\u001b[0m \u001b[0;34m=\u001b[0m \u001b[0mtime\u001b[0m\u001b[0;34m.\u001b[0m\u001b[0mtime\u001b[0m\u001b[0;34m(\u001b[0m\u001b[0;34m)\u001b[0m\u001b[0;34m\u001b[0m\u001b[0m\n\u001b[0;32m--> 481\u001b[0;31m                 \u001b[0mready\u001b[0m\u001b[0;34m,\u001b[0m \u001b[0m_\u001b[0m\u001b[0;34m,\u001b[0m \u001b[0m_\u001b[0m \u001b[0;34m=\u001b[0m \u001b[0mselect\u001b[0m\u001b[0;34m.\u001b[0m\u001b[0mselect\u001b[0m\u001b[0;34m(\u001b[0m\u001b[0;34m[\u001b[0m\u001b[0mself\u001b[0m\u001b[0;34m.\u001b[0m\u001b[0mfd\u001b[0m\u001b[0;34m]\u001b[0m\u001b[0;34m,\u001b[0m \u001b[0;34m[\u001b[0m\u001b[0;34m]\u001b[0m\u001b[0;34m,\u001b[0m \u001b[0;34m[\u001b[0m\u001b[0;34m]\u001b[0m\u001b[0;34m,\u001b[0m \u001b[0mtimeout\u001b[0m\u001b[0;34m)\u001b[0m\u001b[0;34m\u001b[0m\u001b[0m\n\u001b[0m\u001b[1;32m    482\u001b[0m                 \u001b[0;31m# If select was used with a timeout, and the timeout occurs, it\u001b[0m\u001b[0;34m\u001b[0m\u001b[0;34m\u001b[0m\u001b[0m\n\u001b[1;32m    483\u001b[0m                 \u001b[0;31m# returns with empty lists -> thus abort read operation.\u001b[0m\u001b[0;34m\u001b[0m\u001b[0;34m\u001b[0m\u001b[0m\n",
      "\u001b[0;31mKeyboardInterrupt\u001b[0m: "
     ]
    }
   ],
   "source": [
    "# Feasible Angle Test\n",
    "\n",
    "angleBefore = list(dxl_io.get_present_position((37, )))[0]\n",
    "while 1:\n",
    "    if abs(angleBefore - list(dxl_io.get_present_position((37, )))[0]) > 0.5:\n",
    "        print angleBefore\n",
    "        angleBefore = list(dxl_io.get_present_position((37, )))[0]"
   ]
  },
  {
   "cell_type": "code",
   "execution_count": 3,
   "metadata": {
    "collapsed": false
   },
   "outputs": [
    {
     "ename": "NameError",
     "evalue": "name 'found_ids' is not defined",
     "output_type": "error",
     "traceback": [
      "\u001b[0;31m---------------------------------------------------------------------------\u001b[0m",
      "\u001b[0;31mNameError\u001b[0m                                 Traceback (most recent call last)",
      "\u001b[0;32m<ipython-input-3-419d2caa685a>\u001b[0m in \u001b[0;36m<module>\u001b[0;34m()\u001b[0m\n\u001b[0;32m----> 1\u001b[0;31m \u001b[0mids\u001b[0m \u001b[0;34m=\u001b[0m \u001b[0mfound_ids\u001b[0m\u001b[0;34m[\u001b[0m\u001b[0;34m:\u001b[0m\u001b[0;36m2\u001b[0m\u001b[0;34m]\u001b[0m\u001b[0;34m\u001b[0m\u001b[0m\n\u001b[0m\u001b[1;32m      2\u001b[0m \u001b[0;34m\u001b[0m\u001b[0m\n\u001b[1;32m      3\u001b[0m \u001b[0mdxl_io\u001b[0m\u001b[0;34m.\u001b[0m\u001b[0menable_torque\u001b[0m\u001b[0;34m(\u001b[0m\u001b[0mids\u001b[0m\u001b[0;34m)\u001b[0m\u001b[0;34m\u001b[0m\u001b[0m\n\u001b[1;32m      4\u001b[0m \u001b[0;34m\u001b[0m\u001b[0m\n\u001b[1;32m      5\u001b[0m \u001b[0mspeed\u001b[0m \u001b[0;34m=\u001b[0m \u001b[0mdict\u001b[0m\u001b[0;34m(\u001b[0m\u001b[0mzip\u001b[0m\u001b[0;34m(\u001b[0m\u001b[0mids\u001b[0m\u001b[0;34m,\u001b[0m \u001b[0mitertools\u001b[0m\u001b[0;34m.\u001b[0m\u001b[0mrepeat\u001b[0m\u001b[0;34m(\u001b[0m\u001b[0;36m200\u001b[0m\u001b[0;34m)\u001b[0m\u001b[0;34m)\u001b[0m\u001b[0;34m)\u001b[0m\u001b[0;34m\u001b[0m\u001b[0m\n",
      "\u001b[0;31mNameError\u001b[0m: name 'found_ids' is not defined"
     ]
    }
   ],
   "source": [
    "# Demo\n",
    "AMP = 30\n",
    "FREQ = 0.5\n",
    "\n",
    "if __name__ == '__main__':\n",
    "    ports = pypot.dynamixel.get_available_ports()\n",
    "    print('available ports:', ports)\n",
    "\n",
    "    if not ports:\n",
    "        raise IOError('No port available.')\n",
    "\n",
    "    port = ports[0]\n",
    "    print('Using the first on the list', port)\n",
    "\n",
    "    dxl_io = pypot.dynamixel.DxlIO(port)\n",
    "    print('Connected!')\n",
    "\n",
    "    found_ids = dxl_io.scan()\n",
    "    print('Found ids:', found_ids)\n",
    "\n",
    "    if len(found_ids) < 2:\n",
    "        raise IOError('You should connect at least two motors on the bus for this test.')\n",
    "\n",
    "    ids = found_ids[:2]\n",
    "\n",
    "    dxl_io.enable_torque(ids)\n",
    "\n",
    "    speed = dict(zip(ids, itertools.repeat(200)))\n",
    "    dxl_io.set_moving_speed(speed)\n",
    "    pos = dict(zip(ids, itertools.repeat(0)))\n",
    "    dxl_io.set_goal_position(pos)\n",
    "\n",
    "\n",
    "    t0 = time.time()\n",
    "    while True:\n",
    "        t = time.time()\n",
    "        if (t - t0) > 5:\n",
    "            break\n",
    "\n",
    "        pos = AMP * numpy.sin(2 * numpy.pi * FREQ * t)\n",
    "        dxl_io.set_goal_position(dict(zip(ids, itertools.repeat(pos))))\n",
    "\n",
    "        time.sleep(0.02)"
   ]
  },
  {
   "cell_type": "code",
   "execution_count": 6,
   "metadata": {
    "collapsed": true
   },
   "outputs": [],
   "source": [
    "actionMatrixSize = (3, 3)\n",
    "movementUnit = 1;"
   ]
  },
  {
   "cell_type": "code",
   "execution_count": 7,
   "metadata": {
    "collapsed": true
   },
   "outputs": [],
   "source": [
    "def headMotion(dxl_io, action, movementUnit):\n",
    "    z, y = action\n",
    "    angleZ = dxl_io.get_present_position((36, ))[0]\n",
    "    angleY = dxl_io.get_present_position((37, ))[0]\n",
    "    if y < 0 and angleY + y < 0:\n",
    "        dxl_io.set_goal_position({37: angleY + y * movementUnit})\n",
    "    if y > 0 and angleY + y < 40:\n",
    "        dxl_io.set_goal_position({37: angleY + y * movementUnit})\n",
    "    if z < 0 and angleY + z > -90:\n",
    "        dxl_io.set_goal_position({36: angleZ + z * movementUnit})\n",
    "    if z > 0 and angleY + z < 90:\n",
    "        dxl_io.set_goal_position({36: angleZ + z * movementUnit})\n",
    "    time.sleep(0.02)"
   ]
  },
  {
   "cell_type": "code",
   "execution_count": 10,
   "metadata": {
    "collapsed": false
   },
   "outputs": [
    {
     "name": "stdout",
     "output_type": "stream",
     "text": [
      "[(-3, -3), (-3, -2), (-3, -1), (-3, 0), (-3, 1), (-3, 2), (-3, 3), (-2, -3), (-2, -2), (-2, -1), (-2, 0), (-2, 1), (-2, 2), (-2, 3), (-1, -3), (-1, -2), (-1, -1), (-1, 0), (-1, 1), (-1, 2), (-1, 3), (0, -3), (0, -2), (0, -1), (0, 0), (0, 1), (0, 2), (0, 3), (1, -3), (1, -2), (1, -1), (1, 0), (1, 1), (1, 2), (1, 3), (2, -3), (2, -2), (2, -1), (2, 0), (2, 1), (2, 2), (2, 3), (3, -3), (3, -2), (3, -1), (3, 0), (3, 1), (3, 2), (3, 3)]\n",
      "(-2, -1)\n",
      "(1, 0)\n",
      "(-3, 3)\n",
      "(-1, 3)\n",
      "(-1, 0)\n",
      "(-2, -2)\n",
      "(0, -3)\n",
      "(-3, -1)\n",
      "(0, 3)\n",
      "(1, -1)\n",
      "(-3, 3)\n",
      "(-3, 0)\n",
      "(2, 0)\n",
      "(-1, 2)\n",
      "(-2, -2)\n",
      "(-1, -3)\n",
      "(3, -3)\n",
      "(0, 3)\n",
      "(2, -1)\n",
      "(3, 3)\n",
      "(3, -3)\n",
      "(3, -3)\n",
      "(1, 1)\n",
      "(3, 1)\n",
      "(0, -2)\n",
      "(-1, 1)\n",
      "(2, 2)\n",
      "(2, 1)\n",
      "(3, -2)\n",
      "(-1, -1)\n",
      "(-3, 3)\n",
      "(2, 0)\n",
      "(1, -1)\n",
      "(0, 3)\n",
      "(2, -3)\n",
      "(3, -2)\n",
      "(-2, 2)\n",
      "(-1, 0)\n",
      "(-2, -3)\n",
      "(-3, -1)\n",
      "(-2, 1)\n",
      "(1, -3)\n",
      "(0, 2)\n",
      "(2, -2)\n",
      "(0, -3)\n",
      "(2, 2)\n",
      "(-1, -3)\n",
      "(-3, -2)\n",
      "(-1, 3)\n",
      "(0, 2)\n",
      "(-3, -3)\n",
      "(1, -1)\n",
      "(3, 3)\n",
      "(2, 0)\n",
      "(1, 3)\n",
      "(-3, 3)\n",
      "(0, -3)\n",
      "(3, 2)\n",
      "(-3, 3)\n",
      "(1, -1)\n",
      "(-1, -3)\n",
      "(2, 2)\n",
      "(-1, -2)\n",
      "(-1, 1)\n",
      "(-2, -3)\n",
      "(-2, -1)\n",
      "(-2, 1)\n",
      "(-3, -2)\n",
      "(2, 2)\n",
      "(-2, 0)\n",
      "(-2, 2)\n",
      "(2, 1)\n",
      "(-2, -3)\n",
      "(-1, 0)\n",
      "(1, 0)\n",
      "(-1, -1)\n",
      "(0, 1)\n",
      "(-2, -3)\n",
      "(-3, 0)\n",
      "(-1, 3)\n",
      "(0, -2)\n",
      "(-3, -3)\n",
      "(-1, 2)\n",
      "(3, -2)\n",
      "(0, 3)\n",
      "(-1, -3)\n",
      "(3, -1)\n",
      "(0, 2)\n",
      "(-1, -2)\n"
     ]
    },
    {
     "ename": "KeyboardInterrupt",
     "evalue": "",
     "output_type": "error",
     "traceback": [
      "\u001b[0;31m---------------------------------------------------------------------------\u001b[0m",
      "\u001b[0;31mKeyboardInterrupt\u001b[0m                         Traceback (most recent call last)",
      "\u001b[0;32m<ipython-input-10-8a3c55da9690>\u001b[0m in \u001b[0;36m<module>\u001b[0;34m()\u001b[0m\n\u001b[1;32m     15\u001b[0m     \u001b[0maction\u001b[0m \u001b[0;34m=\u001b[0m \u001b[0mactions\u001b[0m\u001b[0;34m[\u001b[0m\u001b[0mrandom\u001b[0m\u001b[0;34m.\u001b[0m\u001b[0mrandint\u001b[0m\u001b[0;34m(\u001b[0m\u001b[0;36m0\u001b[0m\u001b[0;34m,\u001b[0m \u001b[0mlen\u001b[0m\u001b[0;34m(\u001b[0m\u001b[0mactions\u001b[0m\u001b[0;34m)\u001b[0m \u001b[0;34m-\u001b[0m \u001b[0;36m1\u001b[0m\u001b[0;34m)\u001b[0m\u001b[0;34m]\u001b[0m\u001b[0;34m\u001b[0m\u001b[0m\n\u001b[1;32m     16\u001b[0m     \u001b[0;32mprint\u001b[0m \u001b[0maction\u001b[0m\u001b[0;34m\u001b[0m\u001b[0m\n\u001b[0;32m---> 17\u001b[0;31m     \u001b[0mheadMotion\u001b[0m\u001b[0;34m(\u001b[0m\u001b[0mdxl_io\u001b[0m\u001b[0;34m,\u001b[0m \u001b[0maction\u001b[0m\u001b[0;34m,\u001b[0m \u001b[0mmovementUnit\u001b[0m\u001b[0;34m)\u001b[0m\u001b[0;34m\u001b[0m\u001b[0m\n\u001b[0m",
      "\u001b[0;32m<ipython-input-7-50b7f6803d02>\u001b[0m in \u001b[0;36mheadMotion\u001b[0;34m(dxl_io, action, movementUnit)\u001b[0m\n\u001b[1;32m     11\u001b[0m     \u001b[0;32mif\u001b[0m \u001b[0mz\u001b[0m \u001b[0;34m>\u001b[0m \u001b[0;36m0\u001b[0m \u001b[0;32mand\u001b[0m \u001b[0mangleY\u001b[0m \u001b[0;34m+\u001b[0m \u001b[0mz\u001b[0m \u001b[0;34m<\u001b[0m \u001b[0;36m90\u001b[0m\u001b[0;34m:\u001b[0m\u001b[0;34m\u001b[0m\u001b[0m\n\u001b[1;32m     12\u001b[0m         \u001b[0mdxl_io\u001b[0m\u001b[0;34m.\u001b[0m\u001b[0mset_goal_position\u001b[0m\u001b[0;34m(\u001b[0m\u001b[0;34m{\u001b[0m\u001b[0;36m36\u001b[0m\u001b[0;34m:\u001b[0m \u001b[0mangleZ\u001b[0m \u001b[0;34m+\u001b[0m \u001b[0mz\u001b[0m \u001b[0;34m*\u001b[0m \u001b[0mmovementUnit\u001b[0m\u001b[0;34m}\u001b[0m\u001b[0;34m)\u001b[0m\u001b[0;34m\u001b[0m\u001b[0m\n\u001b[0;32m---> 13\u001b[0;31m     \u001b[0mtime\u001b[0m\u001b[0;34m.\u001b[0m\u001b[0msleep\u001b[0m\u001b[0;34m(\u001b[0m\u001b[0;36m0.02\u001b[0m\u001b[0;34m)\u001b[0m\u001b[0;34m\u001b[0m\u001b[0m\n\u001b[0m",
      "\u001b[0;31mKeyboardInterrupt\u001b[0m: "
     ]
    }
   ],
   "source": [
    "ids = [36, 37]\n",
    "dxl_io.enable_torque(ids)\n",
    "\n",
    "speed = dict(zip(ids, itertools.repeat(200)))\n",
    "dxl_io.set_moving_speed(speed)\n",
    "\n",
    "list1=[x for x in xrange(-actionMatrixSize[0] , actionMatrixSize[0] + 1)]\n",
    "list2=[x for x in xrange(-actionMatrixSize[1] , actionMatrixSize[1] + 1)]\n",
    "\n",
    "\n",
    "actions = list(itertools.product(list1, list2))\n",
    "print actions\n",
    "while True:\n",
    "    import random\n",
    "    action = actions[random.randint(0, len(actions) - 1)]\n",
    "    print action\n",
    "    headMotion(dxl_io, action, movementUnit)"
   ]
  },
  {
   "cell_type": "code",
   "execution_count": 11,
   "metadata": {
    "collapsed": false
   },
   "outputs": [],
   "source": [
    "dxl_io.enable_torque([36, 37])\n",
    "ids = [36, 37]\n",
    "\n",
    "dxl_io.enable_torque(ids)\n",
    "\n",
    "speed = dict(zip(ids, itertools.repeat(50)))\n",
    "dxl_io.set_moving_speed(speed)\n",
    "pos = dict(zip(ids, itertools.repeat(0)))\n",
    "dxl_io.set_goal_position(pos)"
   ]
  },
  {
   "cell_type": "code",
   "execution_count": 9,
   "metadata": {
    "collapsed": false
   },
   "outputs": [
    {
     "name": "stdout",
     "output_type": "stream",
     "text": [
      "{36: 200, 37: 200}\n"
     ]
    }
   ],
   "source": [
    "ids = [36, 37]\n",
    "pos = dict(zip(ids, itertools.repeat(0)))\n",
    "print dict(zip(ids, itertools.repeat(200)))"
   ]
  },
  {
   "cell_type": "code",
   "execution_count": null,
   "metadata": {
    "collapsed": true
   },
   "outputs": [],
   "source": []
  }
 ],
 "metadata": {
  "kernelspec": {
   "display_name": "Python 2",
   "language": "python",
   "name": "python2"
  },
  "language_info": {
   "codemirror_mode": {
    "name": "ipython",
    "version": 2
   },
   "file_extension": ".py",
   "mimetype": "text/x-python",
   "name": "python",
   "nbconvert_exporter": "python",
   "pygments_lexer": "ipython2",
   "version": "2.7.11"
  }
 },
 "nbformat": 4,
 "nbformat_minor": 0
}
